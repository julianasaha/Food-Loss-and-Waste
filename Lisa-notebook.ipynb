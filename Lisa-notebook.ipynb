{
 "cells": [
  {
   "cell_type": "markdown",
   "id": "49a9a09d-16d6-4007-91b9-4074bed91f0f",
   "metadata": {},
   "source": [
    "## Imports"
   ]
  },
  {
   "cell_type": "code",
   "execution_count": null,
   "id": "0811b97c-0c8d-4261-a1e4-4d2a684fea25",
   "metadata": {},
   "outputs": [],
   "source": [
    "import pandas as pd\n",
    "import numpy as np\n",
    "import matplotlib.pyplot as plt\n",
    "import seaborn as sns\n",
    "import random\n",
    "\n",
    "from sklearn import metrics\n",
    "from sklearn.metrics import recall_score, precision_score, f1_score, accuracy_score\n",
    "from sklearn.metrics import confusion_matrix\n",
    "from sklearn.metrics import ConfusionMatrixDisplay\n",
    "\n",
    "from sklearn.model_selection import train_test_split, cross_val_score, GridSearchCV\n",
    "from sklearn.preprocessing import StandardScaler, PolynomialFeatures\n",
    "from sklearn.pipeline import Pipeline\n",
    "\n",
    "from sklearn.linear_model import LinearRegression, LogisticRegression\n",
    "from sklearn.ensemble import RandomForestRegressor, AdaBoostRegressor, StackingRegressor, BaggingRegressor \n",
    "from sklearn.tree import DecisionTreeRegressor\n",
    "from sklearn.ensemble import RandomForestClassifier, BaggingClassifier\n",
    "from sklearn.tree import DecisionTreeClassifier\n",
    "\n",
    "from imblearn.over_sampling import ADASYN\n",
    "from imblearn.over_sampling import SMOTE\n",
    "from imblearn.pipeline import make_pipeline"
   ]
  },
  {
   "cell_type": "code",
   "execution_count": 72,
   "id": "e8b6ea35-5ec0-41da-aea7-8b153fa87179",
   "metadata": {},
   "outputs": [],
   "source": [
    "food_waste = pd.read_csv('./data/food_waste.csv')"
   ]
  },
  {
   "cell_type": "code",
   "execution_count": 73,
   "id": "ea5a3b01-c2df-4685-bcfa-23eac2ac7d8b",
   "metadata": {
    "scrolled": true,
    "tags": []
   },
   "outputs": [
    {
     "name": "stdout",
     "output_type": "stream",
     "text": [
      "<class 'pandas.core.frame.DataFrame'>\n",
      "RangeIndex: 27773 entries, 0 to 27772\n",
      "Data columns (total 18 columns):\n",
      " #   Column                    Non-Null Count  Dtype  \n",
      "---  ------                    --------------  -----  \n",
      " 0   m49_code                  27773 non-null  int64  \n",
      " 1   country                   27773 non-null  object \n",
      " 2   region                    871 non-null    object \n",
      " 3   cpc_code                  27773 non-null  object \n",
      " 4   commodity                 27773 non-null  object \n",
      " 5   year                      27773 non-null  int64  \n",
      " 6   loss_percentage           27773 non-null  float64\n",
      " 7   loss_percentage_original  27773 non-null  object \n",
      " 8   loss_quantity             4552 non-null   object \n",
      " 9   activity                  20873 non-null  object \n",
      " 10  food_supply_stage         27724 non-null  object \n",
      " 11  treatment                 881 non-null    object \n",
      " 12  cause_of_loss             925 non-null    object \n",
      " 13  sample_size               1176 non-null   object \n",
      " 14  method_data_collection    27418 non-null  object \n",
      " 15  reference                 8436 non-null   object \n",
      " 16  url                       21158 non-null  object \n",
      " 17  notes                     1350 non-null   object \n",
      "dtypes: float64(1), int64(2), object(15)\n",
      "memory usage: 3.8+ MB\n"
     ]
    }
   ],
   "source": [
    "food_waste.info()"
   ]
  },
  {
   "cell_type": "code",
   "execution_count": 74,
   "id": "a95ab5de-1f9d-43c7-8f9d-84ab6f7ccac2",
   "metadata": {},
   "outputs": [],
   "source": [
    "countries = pd.read_csv('https://raw.githubusercontent.com/albertyw/avenews/master/old/data/average-latitude-longitude-countries.csv')"
   ]
  },
  {
   "cell_type": "code",
   "execution_count": 75,
   "id": "468feece-b5aa-4499-9d08-25c032a3fbb2",
   "metadata": {},
   "outputs": [
    {
     "name": "stdout",
     "output_type": "stream",
     "text": [
      "<class 'pandas.core.frame.DataFrame'>\n",
      "RangeIndex: 240 entries, 0 to 239\n",
      "Data columns (total 4 columns):\n",
      " #   Column                 Non-Null Count  Dtype  \n",
      "---  ------                 --------------  -----  \n",
      " 0   ISO 3166 Country Code  239 non-null    object \n",
      " 1   Country                240 non-null    object \n",
      " 2   Latitude               240 non-null    float64\n",
      " 3   Longitude              240 non-null    float64\n",
      "dtypes: float64(2), object(2)\n",
      "memory usage: 7.6+ KB\n"
     ]
    }
   ],
   "source": [
    "countries.info()"
   ]
  },
  {
   "cell_type": "markdown",
   "id": "f86a0946-17c2-4d36-9e32-277be59c8768",
   "metadata": {},
   "source": [
    "## Cleaning Data"
   ]
  },
  {
   "cell_type": "code",
   "execution_count": 76,
   "id": "163f75be-e545-4f03-85c2-dc88af5eaa8f",
   "metadata": {},
   "outputs": [
    {
     "name": "stdout",
     "output_type": "stream",
     "text": [
      "region: 26902\n",
      "loss_quantity: 23221\n",
      "treatment: 26892\n",
      "cause_of_loss: 26848\n",
      "sample_size: 26597\n",
      "reference: 19337\n",
      "notes: 26423\n"
     ]
    }
   ],
   "source": [
    "# iterate through columns that have more than 1000 null variables\n",
    "for col in food_waste.columns:\n",
    "    if food_waste[col].isnull().sum() > 10000:\n",
    "        print(f'{col}: {food_waste[col].isnull().sum()}')"
   ]
  },
  {
   "cell_type": "code",
   "execution_count": 77,
   "id": "adf28ce9-3057-4ecd-b44a-e2819dbe3720",
   "metadata": {
    "scrolled": true,
    "tags": []
   },
   "outputs": [],
   "source": [
    "# dropping columns with many null variables, missing data essentially\n",
    "for col in food_waste.columns:\n",
    "    if food_waste[col].isnull().sum() > 10000:\n",
    "        food_waste.drop(col, axis = 1, inplace = True)"
   ]
  },
  {
   "cell_type": "code",
   "execution_count": 78,
   "id": "0763a6e1-1f96-4c16-b7e5-81e5e1311ea4",
   "metadata": {},
   "outputs": [],
   "source": [
    "# these columns aren't relevant for us to look at\n",
    "food_waste.drop(columns = ['m49_code', 'cpc_code', 'method_data_collection', 'url'],\n",
    "             axis = 1, inplace = True)"
   ]
  },
  {
   "cell_type": "code",
   "execution_count": 79,
   "id": "75c82019-41d4-4954-a32c-281b7d489ca5",
   "metadata": {},
   "outputs": [
    {
     "name": "stdout",
     "output_type": "stream",
     "text": [
      "<class 'pandas.core.frame.DataFrame'>\n",
      "RangeIndex: 27773 entries, 0 to 27772\n",
      "Data columns (total 7 columns):\n",
      " #   Column                    Non-Null Count  Dtype  \n",
      "---  ------                    --------------  -----  \n",
      " 0   country                   27773 non-null  object \n",
      " 1   commodity                 27773 non-null  object \n",
      " 2   year                      27773 non-null  int64  \n",
      " 3   loss_percentage           27773 non-null  float64\n",
      " 4   loss_percentage_original  27773 non-null  object \n",
      " 5   activity                  20873 non-null  object \n",
      " 6   food_supply_stage         27724 non-null  object \n",
      "dtypes: float64(1), int64(1), object(5)\n",
      "memory usage: 1.5+ MB\n"
     ]
    }
   ],
   "source": [
    "food_waste.info()"
   ]
  },
  {
   "cell_type": "code",
   "execution_count": 80,
   "id": "a763e48d-b4ca-4c6b-8f6b-bfc3b70e4544",
   "metadata": {},
   "outputs": [
    {
     "data": {
      "text/plain": [
       "country                        0\n",
       "commodity                      0\n",
       "year                           0\n",
       "loss_percentage                0\n",
       "loss_percentage_original       0\n",
       "activity                    6900\n",
       "food_supply_stage             49\n",
       "dtype: int64"
      ]
     },
     "execution_count": 80,
     "metadata": {},
     "output_type": "execute_result"
    }
   ],
   "source": [
    "food_waste.isnull().sum()"
   ]
  },
  {
   "cell_type": "code",
   "execution_count": 81,
   "id": "d6f1ed6a-01cd-41ab-a9ff-a60605d7954d",
   "metadata": {},
   "outputs": [],
   "source": [
    "food_waste['activity'].fillna('Missing', inplace = True)\n",
    "food_waste['food_supply_stage'].fillna('Missing', inplace = True)"
   ]
  },
  {
   "cell_type": "code",
   "execution_count": 82,
   "id": "a8dd3ee9-4b71-4ece-b75b-45f56aa79695",
   "metadata": {},
   "outputs": [
    {
     "data": {
      "text/plain": [
       "country                     0\n",
       "commodity                   0\n",
       "year                        0\n",
       "loss_percentage             0\n",
       "loss_percentage_original    0\n",
       "activity                    0\n",
       "food_supply_stage           0\n",
       "dtype: int64"
      ]
     },
     "execution_count": 82,
     "metadata": {},
     "output_type": "execute_result"
    }
   ],
   "source": [
    "food_waste.isnull().sum()"
   ]
  },
  {
   "cell_type": "code",
   "execution_count": 83,
   "id": "a79b2ee2-55e7-4e5d-9eef-4702d6754a48",
   "metadata": {},
   "outputs": [
    {
     "data": {
      "text/html": [
       "<div>\n",
       "<style scoped>\n",
       "    .dataframe tbody tr th:only-of-type {\n",
       "        vertical-align: middle;\n",
       "    }\n",
       "\n",
       "    .dataframe tbody tr th {\n",
       "        vertical-align: top;\n",
       "    }\n",
       "\n",
       "    .dataframe thead th {\n",
       "        text-align: right;\n",
       "    }\n",
       "</style>\n",
       "<table border=\"1\" class=\"dataframe\">\n",
       "  <thead>\n",
       "    <tr style=\"text-align: right;\">\n",
       "      <th></th>\n",
       "      <th>country</th>\n",
       "      <th>commodity</th>\n",
       "      <th>year</th>\n",
       "      <th>loss_percentage</th>\n",
       "      <th>loss_percentage_original</th>\n",
       "      <th>activity</th>\n",
       "      <th>food_supply_stage</th>\n",
       "    </tr>\n",
       "  </thead>\n",
       "  <tbody>\n",
       "    <tr>\n",
       "      <th>0</th>\n",
       "      <td>Myanmar</td>\n",
       "      <td>Groundnuts, excluding shelled</td>\n",
       "      <td>2009</td>\n",
       "      <td>5.22</td>\n",
       "      <td>5.22%</td>\n",
       "      <td>Missing</td>\n",
       "      <td>Whole supply chain</td>\n",
       "    </tr>\n",
       "    <tr>\n",
       "      <th>1</th>\n",
       "      <td>Myanmar</td>\n",
       "      <td>Groundnuts, excluding shelled</td>\n",
       "      <td>2008</td>\n",
       "      <td>5.43</td>\n",
       "      <td>5.43%</td>\n",
       "      <td>Missing</td>\n",
       "      <td>Whole supply chain</td>\n",
       "    </tr>\n",
       "    <tr>\n",
       "      <th>2</th>\n",
       "      <td>Myanmar</td>\n",
       "      <td>Groundnuts, excluding shelled</td>\n",
       "      <td>2007</td>\n",
       "      <td>5.61</td>\n",
       "      <td>5.61%</td>\n",
       "      <td>Missing</td>\n",
       "      <td>Whole supply chain</td>\n",
       "    </tr>\n",
       "    <tr>\n",
       "      <th>3</th>\n",
       "      <td>Myanmar</td>\n",
       "      <td>Groundnuts, excluding shelled</td>\n",
       "      <td>2006</td>\n",
       "      <td>5.40</td>\n",
       "      <td>5.4%</td>\n",
       "      <td>Missing</td>\n",
       "      <td>Whole supply chain</td>\n",
       "    </tr>\n",
       "    <tr>\n",
       "      <th>4</th>\n",
       "      <td>Myanmar</td>\n",
       "      <td>Groundnuts, excluding shelled</td>\n",
       "      <td>2005</td>\n",
       "      <td>5.00</td>\n",
       "      <td>5%</td>\n",
       "      <td>Missing</td>\n",
       "      <td>Whole supply chain</td>\n",
       "    </tr>\n",
       "  </tbody>\n",
       "</table>\n",
       "</div>"
      ],
      "text/plain": [
       "   country                      commodity  year  loss_percentage  \\\n",
       "0  Myanmar  Groundnuts, excluding shelled  2009             5.22   \n",
       "1  Myanmar  Groundnuts, excluding shelled  2008             5.43   \n",
       "2  Myanmar  Groundnuts, excluding shelled  2007             5.61   \n",
       "3  Myanmar  Groundnuts, excluding shelled  2006             5.40   \n",
       "4  Myanmar  Groundnuts, excluding shelled  2005             5.00   \n",
       "\n",
       "  loss_percentage_original activity   food_supply_stage  \n",
       "0                    5.22%  Missing  Whole supply chain  \n",
       "1                    5.43%  Missing  Whole supply chain  \n",
       "2                    5.61%  Missing  Whole supply chain  \n",
       "3                     5.4%  Missing  Whole supply chain  \n",
       "4                       5%  Missing  Whole supply chain  "
      ]
     },
     "execution_count": 83,
     "metadata": {},
     "output_type": "execute_result"
    }
   ],
   "source": [
    "food_waste.head()"
   ]
  },
  {
   "cell_type": "code",
   "execution_count": 84,
   "id": "d5ae38b7-d9ab-46cf-8af6-74c50b9a9ab2",
   "metadata": {},
   "outputs": [],
   "source": [
    "countries.drop(columns = 'ISO 3166 Country Code', inplace = True)"
   ]
  },
  {
   "cell_type": "code",
   "execution_count": 85,
   "id": "6deca17c-ed95-4ab5-8e52-c946082bebed",
   "metadata": {},
   "outputs": [
    {
     "name": "stdout",
     "output_type": "stream",
     "text": [
      "<class 'pandas.core.frame.DataFrame'>\n",
      "RangeIndex: 240 entries, 0 to 239\n",
      "Data columns (total 3 columns):\n",
      " #   Column     Non-Null Count  Dtype  \n",
      "---  ------     --------------  -----  \n",
      " 0   Country    240 non-null    object \n",
      " 1   Latitude   240 non-null    float64\n",
      " 2   Longitude  240 non-null    float64\n",
      "dtypes: float64(2), object(1)\n",
      "memory usage: 5.8+ KB\n"
     ]
    }
   ],
   "source": [
    "countries.info()"
   ]
  },
  {
   "cell_type": "code",
   "execution_count": 96,
   "id": "9890ca1f-5713-4f23-88ab-ed164cdcf35b",
   "metadata": {},
   "outputs": [],
   "source": [
    "df = pd.merge(countries, food_waste, left_on = 'Country', right_on='country', how='inner')"
   ]
  },
  {
   "cell_type": "code",
   "execution_count": 97,
   "id": "e754e8c4-8d03-4d02-9515-a1ce1676875e",
   "metadata": {},
   "outputs": [],
   "source": [
    "df.drop(columns = ['Country',\n",
    "                   'loss_percentage_original'], inplace = True)"
   ]
  },
  {
   "cell_type": "code",
   "execution_count": 98,
   "id": "b8889d85-b213-4a96-b66f-2138591f5804",
   "metadata": {},
   "outputs": [],
   "source": [
    "df.to_csv('./merged_df.csv')"
   ]
  },
  {
   "cell_type": "markdown",
   "id": "1fe902fe-6e91-4458-9e8e-b4e8bc21744a",
   "metadata": {},
   "source": [
    "### Baseline Accuracy"
   ]
  },
  {
   "cell_type": "code",
   "execution_count": null,
   "id": "24b01d5f-7055-4f1d-bfcf-b95debafe597",
   "metadata": {
    "scrolled": true,
    "tags": []
   },
   "outputs": [],
   "source": [
    "df['loss_percentage'].value_counts()"
   ]
  },
  {
   "cell_type": "code",
   "execution_count": null,
   "id": "5dda5197-ab3b-416e-acb1-b9962b81de67",
   "metadata": {
    "scrolled": true,
    "tags": []
   },
   "outputs": [],
   "source": [
    "df['food_supply_stage'].value_counts(normalize = True)"
   ]
  },
  {
   "cell_type": "markdown",
   "id": "93439edd-1e61-47a4-b134-87e06db88ad3",
   "metadata": {},
   "source": [
    "### EDA"
   ]
  },
  {
   "cell_type": "code",
   "execution_count": null,
   "id": "381b39a1-d703-42c3-8a61-b4878d76fd9e",
   "metadata": {},
   "outputs": [],
   "source": [
    "plt.hist(df['loss_percentage'], color = 'orange')\n",
    "plt.title('Distribution of Loss Percentage')\n",
    "plt.ylabel('Amount')\n",
    "plt.xlabel('Loss Percentage');"
   ]
  },
  {
   "cell_type": "code",
   "execution_count": null,
   "id": "d030f96b-16de-4455-bfdb-07fec6a40bcf",
   "metadata": {},
   "outputs": [],
   "source": [
    "df['loss_percentage'].describe()"
   ]
  },
  {
   "cell_type": "code",
   "execution_count": null,
   "id": "c20985c8-69c9-4e8a-93c7-e8d07af95132",
   "metadata": {},
   "outputs": [],
   "source": [
    "fss_bar = df['food_supply_stage'].value_counts().plot(kind = 'barh')\n",
    "fss_bar.set_title('Barchart of the Food Supply Stage With the Most Amount of Loss')\n",
    "fss_bar.set_xlabel('Food Supply Stage')\n",
    "fss_bar.set_ylabel('Number of Listed Producers');"
   ]
  },
  {
   "cell_type": "code",
   "execution_count": null,
   "id": "bbc6dd15-3687-4991-ba2e-5d9d58f40199",
   "metadata": {},
   "outputs": [],
   "source": [
    "farm_data = df[df['food_supply_stage'] == 'Farm']\n",
    "bins = range(1, 7)\n",
    "\n",
    "plt.hist(farm_data['loss_percentage'], bins = bins)\n",
    "plt.xlabel('Loss Percentage')\n",
    "plt.ylabel('Frequency')\n",
    "plt.title('Distribution of Loss Percentage, for Farm Stage');"
   ]
  },
  {
   "cell_type": "code",
   "execution_count": null,
   "id": "12db09b9-d137-4531-bfec-9f1be850e050",
   "metadata": {},
   "outputs": [],
   "source": [
    "whole_data = df[df['food_supply_stage'] == 'Whole supply chain']\n",
    "bins = range(1, 7)\n",
    "\n",
    "plt.hist(whole_data['loss_percentage'], bins = 10)\n",
    "plt.xlabel('Loss Percentage')\n",
    "plt.ylabel('Frequency')\n",
    "plt.title('Distribution of Loss Percentage, for Whole Supply Chain');"
   ]
  },
  {
   "cell_type": "code",
   "execution_count": null,
   "id": "498c47f6-5c9e-4765-8c7a-5cb29783ec7a",
   "metadata": {
    "scrolled": true,
    "tags": []
   },
   "outputs": [],
   "source": [
    "#pip install shapely"
   ]
  },
  {
   "cell_type": "code",
   "execution_count": null,
   "id": "c80a14c5-d96d-458a-8458-cb6070e6e0e0",
   "metadata": {
    "scrolled": true,
    "tags": []
   },
   "outputs": [],
   "source": [
    "#pip install geopandas"
   ]
  },
  {
   "cell_type": "code",
   "execution_count": null,
   "id": "8974109b-f5b6-4325-bd6c-2e6215697dca",
   "metadata": {},
   "outputs": [],
   "source": [
    "from shapely.geometry import Point\n",
    "import geopandas as gpd\n",
    "from geopandas import GeoDataFrame"
   ]
  },
  {
   "cell_type": "markdown",
   "id": "67f700c1-e82b-4a6e-bf8d-85432deb60c7",
   "metadata": {},
   "source": [
    "Code source: https://stackoverflow.com/questions/53233228/plot-latitude-longitude-from-csv-in-python-3-6"
   ]
  },
  {
   "cell_type": "code",
   "execution_count": 57,
   "id": "664df974-607b-4052-8765-983fede4e187",
   "metadata": {},
   "outputs": [
    {
     "name": "stderr",
     "output_type": "stream",
     "text": [
      "/var/folders/7v/f5chkx2s22s84wyhzjwys0g00000gn/T/ipykernel_844/1268092456.py:4: FutureWarning: The geopandas.dataset module is deprecated and will be removed in GeoPandas 1.0. You can get the original 'naturalearth_lowres' data from https://www.naturalearthdata.com/downloads/110m-cultural-vectors/.\n",
      "  world = gpd.read_file(gpd.datasets.get_path('naturalearth_lowres'))\n"
     ]
    },
    {
     "data": {
      "image/png": "[encoded data removed]",
      "text/plain": [
       "<Figure size 1000x600 with 1 Axes>"
      ]
     },
     "metadata": {},
     "output_type": "display_data"
    }
   ],
   "source": [
    "geometry = [Point(xy) for xy in zip(df['Longitude'], df['Latitude'])]\n",
    "gdf = GeoDataFrame(df, geometry=geometry) \n",
    "\n",
    "world = gpd.read_file(gpd.datasets.get_path('naturalearth_lowres'))\n",
    "gdf.plot(ax=world.plot(figsize=(10, 6)), marker='o', color='orange', markersize=15);"
   ]
  },
  {
   "cell_type": "code",
   "execution_count": 49,
   "id": "622b10ac-59e2-4368-8dbd-2eed5b2ca18b",
   "metadata": {},
   "outputs": [],
   "source": [
    "farm_data = df[df['food_supply_stage'] == 'Farm']"
   ]
  },
  {
   "cell_type": "code",
   "execution_count": 46,
   "id": "55815adb-b973-4e8c-bc53-54e1f3226950",
   "metadata": {},
   "outputs": [],
   "source": [
    "geometry = [Point(xy) for xy in zip(farm_data['Longitude'], farm_data['Latitude'])]\n",
    "gdf = GeoDataFrame(farm_data, geometry=geometry)   "
   ]
  },
  {
   "cell_type": "code",
   "execution_count": 47,
   "id": "ad1b7b2f-a43b-4f5d-87e6-7ff1251dac03",
   "metadata": {},
   "outputs": [
    {
     "name": "stderr",
     "output_type": "stream",
     "text": [
      "/var/folders/7v/f5chkx2s22s84wyhzjwys0g00000gn/T/ipykernel_844/2272789461.py:1: FutureWarning: The geopandas.dataset module is deprecated and will be removed in GeoPandas 1.0. You can get the original 'naturalearth_lowres' data from https://www.naturalearthdata.com/downloads/110m-cultural-vectors/.\n",
      "  world = gpd.read_file(gpd.datasets.get_path('naturalearth_lowres'))\n"
     ]
    },
    {
     "data": {
      "image/png": "[encoded data removed]",
      "text/plain": [
       "<Figure size 1000x600 with 1 Axes>"
      ]
     },
     "metadata": {},
     "output_type": "display_data"
    }
   ],
   "source": [
    "world = gpd.read_file(gpd.datasets.get_path('naturalearth_lowres'))\n",
    "gdf.plot(ax=world.plot(figsize=(10, 6)), marker='o', color='red', markersize=15);"
   ]
  },
  {
   "cell_type": "code",
   "execution_count": 58,
   "id": "6b0f5e87-e92b-40ab-9564-afbbdef5ea95",
   "metadata": {},
   "outputs": [],
   "source": [
    "def plot_series(df, cols, title='Title', xlab=None, ylab=None):\n",
    "    \n",
    "    # Set figure size to be (18, 9).\n",
    "    plt.figure(figsize=(18,9))\n",
    "    \n",
    "    # Iterate through each column name.\n",
    "    for col in cols:\n",
    "        \n",
    "        # Generate a line plot of the column name.\n",
    "        # You only have to specify Y, since our\n",
    "        # index will be a datetime index.\n",
    "        plt.plot(df[col])\n",
    "        \n",
    "    # Generate title and labels.\n",
    "    plt.title(title, fontsize=26)\n",
    "    plt.xlabel(xlab, fontsize=20)\n",
    "    plt.ylabel(ylab, fontsize=20)\n",
    "    \n",
    "    # Enlarge tick marks.\n",
    "    plt.xticks(fontsize=18)\n",
    "    plt.yticks(fontsize=18);"
   ]
  },
  {
   "cell_type": "code",
   "execution_count": 99,
   "id": "fbc7ae70-ca1f-4909-82c7-bbbfba15d5f3",
   "metadata": {},
   "outputs": [
    {
     "name": "stdout",
     "output_type": "stream",
     "text": [
      "<class 'pandas.core.frame.DataFrame'>\n",
      "Int64Index: 23853 entries, 0 to 23852\n",
      "Data columns (total 8 columns):\n",
      " #   Column             Non-Null Count  Dtype  \n",
      "---  ------             --------------  -----  \n",
      " 0   Latitude           23853 non-null  float64\n",
      " 1   Longitude          23853 non-null  float64\n",
      " 2   country            23853 non-null  object \n",
      " 3   commodity          23853 non-null  object \n",
      " 4   year               23853 non-null  int64  \n",
      " 5   loss_percentage    23853 non-null  float64\n",
      " 6   activity           23853 non-null  object \n",
      " 7   food_supply_stage  23853 non-null  object \n",
      "dtypes: float64(3), int64(1), object(4)\n",
      "memory usage: 1.6+ MB\n"
     ]
    }
   ],
   "source": [
    "df.info()"
   ]
  },
  {
   "cell_type": "code",
   "execution_count": 101,
   "id": "c5ecd7b7-3ba3-4dc9-9ab3-fdb41055c216",
   "metadata": {},
   "outputs": [],
   "source": [
    "df['year'] = pd.to_datetime(df['year'], format='%Y')"
   ]
  },
  {
   "cell_type": "code",
   "execution_count": 102,
   "id": "970b40c1-f7ab-4425-b9f5-3cb3de674d8e",
   "metadata": {},
   "outputs": [
    {
     "data": {
      "text/plain": [
       "0       2017-01-01\n",
       "1       2017-01-01\n",
       "2       2017-01-01\n",
       "3       2017-01-01\n",
       "4       2016-01-01\n",
       "           ...    \n",
       "23848   2000-01-01\n",
       "23849   2000-01-01\n",
       "23850   2000-01-01\n",
       "23851   2000-01-01\n",
       "23852   2000-01-01\n",
       "Name: year, Length: 23853, dtype: datetime64[ns]"
      ]
     },
     "execution_count": 102,
     "metadata": {},
     "output_type": "execute_result"
    }
   ],
   "source": [
    "df['year']"
   ]
  },
  {
   "cell_type": "code",
   "execution_count": 115,
   "id": "825fb29f-42bb-43be-8d8e-426acb8a06f2",
   "metadata": {},
   "outputs": [],
   "source": [
    "avg_loss_percentage = df.groupby(df['year'].dt.year)['loss_percentage'].mean()"
   ]
  },
  {
   "cell_type": "code",
   "execution_count": 116,
   "id": "f8199b87-16ce-4abe-a9c5-1fa663d2f1e8",
   "metadata": {},
   "outputs": [
    {
     "data": {
      "image/png": "[encoded data removed]",
      "text/plain": [
       "<Figure size 640x480 with 1 Axes>"
      ]
     },
     "metadata": {},
     "output_type": "display_data"
    }
   ],
   "source": [
    "plt.plot(avg_loss_percentage.index, avg_loss_percentage.values, marker='o');"
   ]
  },
  {
   "cell_type": "code",
   "execution_count": 62,
   "id": "727ebbb6-28ca-446f-b029-3df703147b8c",
   "metadata": {},
   "outputs": [
    {
     "data": {
      "image/png": "[encoded data removed]",
      "text/plain": [
       "<Figure size 1800x900 with 1 Axes>"
      ]
     },
     "metadata": {},
     "output_type": "display_data"
    }
   ],
   "source": [
    "plot_series(df, cols = [''], title = 'CO2')"
   ]
  },
  {
   "cell_type": "code",
   "execution_count": 117,
   "id": "32e86fdb-0c79-4fda-a1a5-29b29d156c4a",
   "metadata": {
    "scrolled": true,
    "tags": []
   },
   "outputs": [
    {
     "name": "stderr",
     "output_type": "stream",
     "text": [
      "/var/folders/7v/f5chkx2s22s84wyhzjwys0g00000gn/T/ipykernel_844/3505088026.py:1: FutureWarning: The default value of numeric_only in DataFrame.corr is deprecated. In a future version, it will default to False. Select only valid columns or specify the value of numeric_only to silence this warning.\n",
      "  supply_corr = df.corr()\n"
     ]
    },
    {
     "data": {
      "image/png": "[encoded data removed]",
      "text/plain": [
       "<Figure size 1500x1500 with 2 Axes>"
      ]
     },
     "metadata": {},
     "output_type": "display_data"
    }
   ],
   "source": [
    "supply_corr = df.corr()\n",
    "mask = np.zeros_like(supply_corr)\n",
    "mask[np.triu_indices_from(mask)] = True\n",
    "\n",
    "plt.figure(figsize = (15,15))\n",
    "sns.heatmap(supply_corr,\n",
    "            cmap = 'viridis',\n",
    "            vmax = 1,\n",
    "            vmin = -1,\n",
    "            annot = True,\n",
    "            mask = mask,\n",
    "            annot_kws={'size': 15})\n",
    "\n",
    "plt.title('Correlation Between Numeric Categories in Food Waste')\n",
    "plt.yticks(fontsize = 14)\n",
    "plt.xticks(fontsize = 12);"
   ]
  },
  {
   "cell_type": "markdown",
   "id": "0ad7058f-91ff-4ae6-a6a9-6f67060734a2",
   "metadata": {},
   "source": [
    "## Functions Used"
   ]
  },
  {
   "cell_type": "markdown",
   "id": "d37468b3-c7f1-4afb-9752-03d6bfc95f6c",
   "metadata": {},
   "source": [
    "### Hyperparamters Functions\n",
    "* best_params: returns the best score and paramters for pipeline/model\n",
    "* return_gs: returns the optimal paramters of a pipeline/model\n",
    "* tts_scores: returns the Train and Test scores of a pipeline/model"
   ]
  },
  {
   "cell_type": "code",
   "execution_count": 118,
   "id": "ae885a01-1f7f-4b19-b792-5f59e3db2b62",
   "metadata": {},
   "outputs": [],
   "source": [
    "def best_params(pipeline, params, X_train, y_train):\n",
    "    gs = GridSearchCV(pipeline,\n",
    "                      param_grid = params,\n",
    "                      n_jobs=-1)\n",
    "\n",
    "    gs.fit(X_train, y_train)\n",
    "    \n",
    "    return f'Best Score: {gs.best_score_}, Params: {gs.best_params_}'"
   ]
  },
  {
   "cell_type": "code",
   "execution_count": 119,
   "id": "4d4d94c3-7049-49d0-ad22-2671c612a12f",
   "metadata": {},
   "outputs": [],
   "source": [
    "def return_gs(pipeline, params, X_train, y_train):\n",
    "    gs = GridSearchCV(pipeline,\n",
    "                      param_grid = params,\n",
    "                      n_jobs=-1)\n",
    "    return gs"
   ]
  },
  {
   "cell_type": "code",
   "execution_count": 120,
   "id": "21521f10-aa6b-426a-b160-1f1696290d52",
   "metadata": {},
   "outputs": [],
   "source": [
    "def tts_scores(gs, X_train, y_train, X_test, y_test):\n",
    "    gs.fit(X_train, y_train)\n",
    "    \n",
    "    return f'Train Score: {gs.score(X_train, y_train)}, Test Score: {gs.score(X_test, y_test)}'"
   ]
  },
  {
   "cell_type": "markdown",
   "id": "b9b53515-c6ff-46c7-8493-5b0790821066",
   "metadata": {},
   "source": [
    "### Evaluation Functions\n",
    "* predictions: accepts a pipeline and returns the predictions for y\n",
    "* regression_scores: returns DataFrame of data for a model and its regression metric scores (R2, MSE, and RMSE)\n",
    "* classification_scores: returns DataFrame of data fro a model and its classification metric scores (recall, precision, f1, accuracy)"
   ]
  },
  {
   "cell_type": "code",
   "execution_count": 121,
   "id": "df89257e-9f90-4ad8-8943-c02c08c1a6a6",
   "metadata": {},
   "outputs": [],
   "source": [
    "def predictions(pipeline, X_train, X_test, y_train):\n",
    "    pipeline.fit(X_train, y_train)\n",
    "    prediction = pipeline.predict(X_test)\n",
    "    \n",
    "    return prediction"
   ]
  },
  {
   "cell_type": "code",
   "execution_count": 122,
   "id": "a930a423-8928-4df4-b6cc-74ce24e2b7dd",
   "metadata": {},
   "outputs": [],
   "source": [
    "def regression_scores(model, y_test, y_pred):\n",
    "    dataframe = pd.DataFrame(columns = ['R2', 'MSE', 'RMSE'])\n",
    "    \n",
    "    r2 = metrics.r2_score(y_test, y_pred)\n",
    "    mse = metrics.mean_squared_error(y_test, y_pred)\n",
    "    rmse = round(mse**0.5, 4)\n",
    "    \n",
    "    dataframe.loc[model] = [r2, mse, rmse]\n",
    "    \n",
    "    pd.options.display.float_format = '{:.4f}'.format \n",
    "    \n",
    "    return dataframe"
   ]
  },
  {
   "cell_type": "code",
   "execution_count": 123,
   "id": "7a9a80c2-df06-4c8d-813e-cb5e4ae4626f",
   "metadata": {},
   "outputs": [],
   "source": [
    "def regression_scores(model, y_test, y_pred):\n",
    "    dataframe = pd.DataFrame(columns = ['R2', 'MSE', 'RMSE'])\n",
    "    \n",
    "    r2 = round(metrics.r2_score(y_test, y_pred), 4)\n",
    "    mse = round(metrics.mean_squared_error(y_test, y_pred), 4)\n",
    "    rmse = round(mse**0.5, 4)\n",
    "    \n",
    "    dataframe.loc[model] = [r2, mse, rmse]\n",
    "    \n",
    "    return dataframe"
   ]
  },
  {
   "cell_type": "code",
   "execution_count": 124,
   "id": "2dae2995-9929-4c03-b7fe-57721b261bc3",
   "metadata": {},
   "outputs": [],
   "source": [
    "def classification_scores(model, y_test, y_pred):\n",
    "    dataframe = pd.DataFrame(columns = ['Recall', 'Precision', 'F1', 'Accuracy'])\n",
    "    \n",
    "    recall = recall_score(y_test, y_pred, average = 'micro')\n",
    "    precision = precision_score(y_test, y_pred, average = 'micro')\n",
    "    f1 = f1_score(y_test, y_pred, average = 'micro')\n",
    "    accuracy = accuracy_score(y_test, y_pred)\n",
    "    \n",
    "    dataframe.loc[model] = [recall, precision, f1, accuracy]\n",
    "    \n",
    "    return dataframe"
   ]
  },
  {
   "cell_type": "markdown",
   "id": "4ef4295d-0665-494b-b066-96898e7b23da",
   "metadata": {},
   "source": [
    "### Train-Test-Split (for Regression)"
   ]
  },
  {
   "cell_type": "code",
   "execution_count": 125,
   "id": "73b6d114-e44f-48ba-9f27-f5f34ace2772",
   "metadata": {},
   "outputs": [],
   "source": [
    "random.seed(42) # set random seed"
   ]
  },
  {
   "cell_type": "code",
   "execution_count": 126,
   "id": "ad23d75f-2c70-4536-a864-0f76880be75e",
   "metadata": {},
   "outputs": [],
   "source": [
    "df_dummy = pd.get_dummies(df, columns = ['country',\n",
    "                             'commodity',\n",
    "                             'year',\n",
    "                             'activity',\n",
    "                             'food_supply_stage'])"
   ]
  },
  {
   "cell_type": "code",
   "execution_count": 127,
   "id": "1849db30-888c-4945-9229-298a94b3e138",
   "metadata": {},
   "outputs": [],
   "source": [
    "X = df_dummy.drop(columns = 'loss_percentage')\n",
    "y = df_dummy['loss_percentage']"
   ]
  },
  {
   "cell_type": "code",
   "execution_count": 128,
   "id": "e604de5c-ca46-4ea4-93c1-e56a1f6fc18b",
   "metadata": {},
   "outputs": [],
   "source": [
    "X_train, X_test, y_train, y_test = train_test_split(X, y, random_state = 42)"
   ]
  },
  {
   "cell_type": "markdown",
   "id": "8a56765e-11ea-4665-8425-dddcb5e3b665",
   "metadata": {},
   "source": [
    "### Linear Regression\n",
    "Regression problem with continous variables"
   ]
  },
  {
   "cell_type": "code",
   "execution_count": 129,
   "id": "9f90e8de-8f09-4954-b740-38a32bb4d7df",
   "metadata": {},
   "outputs": [],
   "source": [
    "lr_pipe = Pipeline([\n",
    "    ('ss', StandardScaler()),\n",
    "    ('lr', LinearRegression())\n",
    "])"
   ]
  },
  {
   "cell_type": "code",
   "execution_count": 130,
   "id": "d758a0bd-42d0-4f7e-a32d-14e9f21a20bb",
   "metadata": {},
   "outputs": [],
   "source": [
    "lr_params = {\n",
    "    'ss__with_mean': [False, True],\n",
    "    'ss__with_std': [False, True],\n",
    "    'lr__fit_intercept': [False, True],\n",
    "    'lr__n_jobs': [25, 50, 100, 250],\n",
    "    'lr__positive': [False, True]\n",
    "}"
   ]
  },
  {
   "cell_type": "code",
   "execution_count": 131,
   "id": "22c08886-87d0-41ee-a21b-4d90ae4912eb",
   "metadata": {
    "scrolled": true,
    "tags": []
   },
   "outputs": [
    {
     "data": {
      "text/plain": [
       "\"Best Score: 0.48314906820631476, Params: {'lr__fit_intercept': False, 'lr__n_jobs': 25, 'lr__positive': True, 'ss__with_mean': False, 'ss__with_std': False}\""
      ]
     },
     "execution_count": 131,
     "metadata": {},
     "output_type": "execute_result"
    }
   ],
   "source": [
    "best_params(lr_pipe, lr_params, X_train, y_train)"
   ]
  },
  {
   "cell_type": "code",
   "execution_count": 132,
   "id": "b7f287f1-174d-47ec-b225-523a49b6d337",
   "metadata": {},
   "outputs": [],
   "source": [
    "lr_gs = return_gs(lr_pipe, lr_params, X_train, y_train)"
   ]
  },
  {
   "cell_type": "code",
   "execution_count": 133,
   "id": "89609e6d-0519-4a33-a1a7-7b1755b14b26",
   "metadata": {},
   "outputs": [
    {
     "data": {
      "text/plain": [
       "'Train Score: 0.5370887616323707, Test Score: 0.45601898640936145'"
      ]
     },
     "execution_count": 133,
     "metadata": {},
     "output_type": "execute_result"
    }
   ],
   "source": [
    "tts_scores(lr_gs, X_train, y_train, X_test, y_test)"
   ]
  },
  {
   "cell_type": "markdown",
   "id": "98eb29a5-8bb7-46a3-9f0b-d5c335378f82",
   "metadata": {},
   "source": [
    "* Evaluation"
   ]
  },
  {
   "cell_type": "code",
   "execution_count": 134,
   "id": "da6780c6-db8c-417a-887e-ff35496ebbd2",
   "metadata": {},
   "outputs": [],
   "source": [
    "lr_pred = predictions(lr_pipe, X_train, X_test, y_train)"
   ]
  },
  {
   "cell_type": "code",
   "execution_count": 135,
   "id": "5ab651bb-a16e-4736-a053-db9a38b7efc1",
   "metadata": {},
   "outputs": [],
   "source": [
    "model_table = regression_scores('LinearRegression', y_test, lr_pred)"
   ]
  },
  {
   "cell_type": "markdown",
   "id": "1b6da494-8bc6-4c2b-8955-ded86c11a580",
   "metadata": {},
   "source": [
    "### RandomForest"
   ]
  },
  {
   "cell_type": "code",
   "execution_count": 136,
   "id": "ed01143d-aaae-4a56-8bb2-ea5ad7ce548d",
   "metadata": {},
   "outputs": [],
   "source": [
    "rfr_pipe = Pipeline([\n",
    "    ('ss', StandardScaler()),\n",
    "    ('rfr', RandomForestRegressor())\n",
    "])"
   ]
  },
  {
   "cell_type": "code",
   "execution_count": 137,
   "id": "2ee02c0c-0e93-4ea7-bd2d-2cd4dc91ab21",
   "metadata": {},
   "outputs": [],
   "source": [
    "rfr_params = {\n",
    "    'ss__with_mean': [False, True],\n",
    "    'ss__with_std': [False, True],\n",
    "    'rfr__n_estimators': [100, 150, 200, 250],\n",
    "    'rfr__bootstrap': [True, False]\n",
    "    \n",
    "}"
   ]
  },
  {
   "cell_type": "code",
   "execution_count": 138,
   "id": "f265b693-6cc9-4583-b009-797621d7b34e",
   "metadata": {},
   "outputs": [
    {
     "data": {
      "text/plain": [
       "\"Best Score: 0.7014952795674533, Params: {'rfr__bootstrap': True, 'rfr__n_estimators': 200, 'ss__with_mean': False, 'ss__with_std': False}\""
      ]
     },
     "execution_count": 138,
     "metadata": {},
     "output_type": "execute_result"
    }
   ],
   "source": [
    "best_params(rfr_pipe, rfr_params, X_train, y_train)"
   ]
  },
  {
   "cell_type": "code",
   "execution_count": 139,
   "id": "b4627cdc-d467-4d82-a31d-9d2f17441e1d",
   "metadata": {},
   "outputs": [],
   "source": [
    "rfr_gs = return_gs(rfr_pipe, rfr_params, X_train, y_train)"
   ]
  },
  {
   "cell_type": "code",
   "execution_count": 140,
   "id": "13351e9a-be04-4f10-bc0a-83d25a2643d5",
   "metadata": {},
   "outputs": [
    {
     "data": {
      "text/plain": [
       "'Train Score: 0.9287932153710325, Test Score: 0.6859126677188659'"
      ]
     },
     "execution_count": 140,
     "metadata": {},
     "output_type": "execute_result"
    }
   ],
   "source": [
    "tts_scores(rfr_gs, X_train, y_train, X_test, y_test)"
   ]
  },
  {
   "cell_type": "code",
   "execution_count": null,
   "id": "eec60cf8-0d9d-4021-bd2d-e2dc7070b305",
   "metadata": {},
   "outputs": [],
   "source": [
    "# yikes so overfit"
   ]
  },
  {
   "cell_type": "markdown",
   "id": "dacc8448-518d-4285-a089-138cc64f88f2",
   "metadata": {},
   "source": [
    "* Evaluation"
   ]
  },
  {
   "cell_type": "code",
   "execution_count": 141,
   "id": "6259a0e8-09ed-479c-8c4d-3951cb43c212",
   "metadata": {},
   "outputs": [],
   "source": [
    "rfr_pred = predictions(rfr_pipe, X_train, X_test, y_train)"
   ]
  },
  {
   "cell_type": "code",
   "execution_count": 142,
   "id": "8b819243-a2a2-4e02-b91f-8161d037374a",
   "metadata": {},
   "outputs": [],
   "source": [
    "model_table = pd.concat([model_table, regression_scores('RandomForest', y_test, rfr_pred)])"
   ]
  },
  {
   "cell_type": "markdown",
   "id": "f6d750da-f8c7-4ba6-ab8c-d8e9e9a622e3",
   "metadata": {},
   "source": [
    "### AdaBoostRegressor"
   ]
  },
  {
   "cell_type": "code",
   "execution_count": 144,
   "id": "0863ee9b-b5c2-426b-b6bc-90d6e1691a92",
   "metadata": {},
   "outputs": [],
   "source": [
    "ada_pipe = Pipeline([\n",
    "    ('ss', StandardScaler()),\n",
    "    ('ada', AdaBoostRegressor())\n",
    "])"
   ]
  },
  {
   "cell_type": "code",
   "execution_count": 145,
   "id": "8f734260-8b7a-48d1-a7cd-68ddced02997",
   "metadata": {},
   "outputs": [],
   "source": [
    "ada_params = {\n",
    "    'ss__with_mean': [False, True],\n",
    "    'ss__with_std': [False, True],\n",
    "    'ada__n_estimators': [25, 50, 100, 150, 200],\n",
    "    'ada__learning_rate': [1, 0.9, 1.1]\n",
    "}"
   ]
  },
  {
   "cell_type": "code",
   "execution_count": 146,
   "id": "2e78c9ba-ee1c-4cae-aeb5-583bc406a553",
   "metadata": {},
   "outputs": [
    {
     "data": {
      "text/plain": [
       "\"Best Score: 0.09894456721009011, Params: {'ada__learning_rate': 0.9, 'ada__n_estimators': 50, 'ss__with_mean': False, 'ss__with_std': False}\""
      ]
     },
     "execution_count": 146,
     "metadata": {},
     "output_type": "execute_result"
    }
   ],
   "source": [
    "best_params(ada_pipe, ada_params, X_train, y_train)"
   ]
  },
  {
   "cell_type": "code",
   "execution_count": 147,
   "id": "d660eca0-83a5-4aea-a992-e39d44874ecb",
   "metadata": {},
   "outputs": [],
   "source": [
    "ada_gs = return_gs(ada_pipe, ada_params, X_train, y_train)"
   ]
  },
  {
   "cell_type": "code",
   "execution_count": 148,
   "id": "5f84f7a1-0dc6-4243-9fb0-00ea7b03aba7",
   "metadata": {},
   "outputs": [
    {
     "data": {
      "text/plain": [
       "'Train Score: -0.011397390445074596, Test Score: -0.035100410380480174'"
      ]
     },
     "execution_count": 148,
     "metadata": {},
     "output_type": "execute_result"
    }
   ],
   "source": [
    "tts_scores(ada_gs, X_train, y_train, X_test, y_test)"
   ]
  },
  {
   "cell_type": "markdown",
   "id": "25c4a1a6-810c-4974-8a31-2d7399b303ce",
   "metadata": {},
   "source": [
    "* Evaluation"
   ]
  },
  {
   "cell_type": "code",
   "execution_count": 149,
   "id": "73ed6232-8564-4dea-986e-e6deaba6d77b",
   "metadata": {},
   "outputs": [],
   "source": [
    "ada_pred = predictions(ada_pipe, X_train, X_test, y_train)"
   ]
  },
  {
   "cell_type": "code",
   "execution_count": 150,
   "id": "04d8111e-68d9-4921-9688-554bbfe96960",
   "metadata": {},
   "outputs": [],
   "source": [
    "model_table = pd.concat([model_table, regression_scores('AdaBoost', y_test, ada_pred)])"
   ]
  },
  {
   "cell_type": "markdown",
   "id": "1cd8582b-fa17-41d9-af87-41e28a082e39",
   "metadata": {},
   "source": [
    "### Regression: Stacking"
   ]
  },
  {
   "cell_type": "code",
   "execution_count": null,
   "id": "14c4790b-fd2c-4119-af5e-28485db145dd",
   "metadata": {},
   "outputs": [],
   "source": [
    "level1_estimators =[\n",
    "    ('rfr_pipe', Pipeline([\n",
    "        ('ss', StandardScaler()),\n",
    "        ('rfr', RandomForestRegressor())\n",
    "    ])), \n",
    "    ('dt_pipe', Pipeline([\n",
    "        ('ss', StandardScaler()),\n",
    "        ('dt', DecisionTreeRegressor())\n",
    "    ])),  \n",
    "    ('bag_pipe', Pipeline([\n",
    "        ('ss', StandardScaler()),\n",
    "        ('bag', BaggingRegressor())\n",
    "    ])),       \n",
    "]"
   ]
  },
  {
   "cell_type": "code",
   "execution_count": null,
   "id": "eeb80fa7-a624-48ec-b86b-d753b223f1d1",
   "metadata": {},
   "outputs": [],
   "source": [
    "stacked_model = StackingRegressor(estimators = level1_estimators,\n",
    "                                 final_estimator = LinearRegression())"
   ]
  },
  {
   "cell_type": "code",
   "execution_count": null,
   "id": "fb49bd8f-07f5-47ed-ba74-ee5fe74c04cd",
   "metadata": {},
   "outputs": [],
   "source": [
    "cross_val_score(stacked_model, X_train, y_train).mean()"
   ]
  },
  {
   "cell_type": "code",
   "execution_count": null,
   "id": "6823543e-5a09-4cf1-b565-31df5d1cd587",
   "metadata": {},
   "outputs": [],
   "source": [
    "stacked_model.fit(X_train, y_train)"
   ]
  },
  {
   "cell_type": "code",
   "execution_count": null,
   "id": "f6a73802-3144-462e-93c7-48c3e55135f4",
   "metadata": {},
   "outputs": [],
   "source": [
    "stacked_model.score(X_train, y_train), stacked_model.score(X_test, y_test)"
   ]
  },
  {
   "cell_type": "markdown",
   "id": "4c3e15aa-7828-4857-84cf-cb4797501151",
   "metadata": {},
   "source": [
    "* Evaluation"
   ]
  },
  {
   "cell_type": "code",
   "execution_count": null,
   "id": "94fb8dd7-dd4e-4d70-beb2-4c6485b18086",
   "metadata": {},
   "outputs": [],
   "source": [
    "stacked_pred = predictions(stacked_model, X_train, X_test, y_train)"
   ]
  },
  {
   "cell_type": "code",
   "execution_count": null,
   "id": "f072e76c-466e-4319-819f-1e9f46175281",
   "metadata": {},
   "outputs": [],
   "source": [
    "model_table = pd.concat([model_table, regression_scores('Stacking', y_test, stacked_pred)])"
   ]
  },
  {
   "cell_type": "code",
   "execution_count": null,
   "id": "c6924285-862e-41c2-83c9-282595e997b4",
   "metadata": {},
   "outputs": [],
   "source": [
    "model_table"
   ]
  },
  {
   "cell_type": "markdown",
   "id": "d91bc0da-a41b-4bc3-83ff-3072e8dfac0d",
   "metadata": {},
   "source": [
    "### Imbalaced Data Methods"
   ]
  },
  {
   "cell_type": "code",
   "execution_count": null,
   "id": "e546e09a-e44a-4087-a5fb-961aafb5ee81",
   "metadata": {},
   "outputs": [],
   "source": []
  },
  {
   "cell_type": "code",
   "execution_count": null,
   "id": "c90f0d02-8883-4c7f-867d-77d7129a2ea5",
   "metadata": {},
   "outputs": [],
   "source": []
  },
  {
   "cell_type": "code",
   "execution_count": null,
   "id": "88a3d18a-cc1f-4096-91ae-f4e7b564284f",
   "metadata": {},
   "outputs": [],
   "source": []
  },
  {
   "cell_type": "code",
   "execution_count": null,
   "id": "324c9250-12b4-4874-822f-eba97cd8e91e",
   "metadata": {},
   "outputs": [],
   "source": []
  },
  {
   "cell_type": "code",
   "execution_count": null,
   "id": "248750fb-b7d1-4e9a-b340-1990a0d0bf6e",
   "metadata": {},
   "outputs": [],
   "source": []
  },
  {
   "cell_type": "code",
   "execution_count": null,
   "id": "73d552e0-810d-476b-bfe0-bbdc687d6713",
   "metadata": {},
   "outputs": [],
   "source": []
  },
  {
   "cell_type": "code",
   "execution_count": null,
   "id": "275352fd-184c-4be6-b846-f9786a00bf71",
   "metadata": {},
   "outputs": [],
   "source": []
  },
  {
   "cell_type": "code",
   "execution_count": null,
   "id": "147afb09-a7e2-4639-95c8-3dbfac850b56",
   "metadata": {},
   "outputs": [],
   "source": []
  },
  {
   "cell_type": "markdown",
   "id": "30426e54-8a74-4860-8876-06cbed768729",
   "metadata": {},
   "source": [
    "## Classification"
   ]
  },
  {
   "cell_type": "code",
   "execution_count": 151,
   "id": "5534fbc5-0715-4a4f-8d4c-eb57f4ec6f89",
   "metadata": {
    "scrolled": true,
    "tags": []
   },
   "outputs": [
    {
     "data": {
      "text/plain": [
       "Farm                  0.469249\n",
       "Whole supply chain    0.179600\n",
       "Harvest               0.140234\n",
       "Storage               0.098688\n",
       "Transport             0.071731\n",
       "Wholesale             0.009559\n",
       "Processing            0.009223\n",
       "Retail                0.008930\n",
       "Trader                0.003060\n",
       "Households            0.002138\n",
       "Export                0.002096\n",
       "Post-harvest          0.001845\n",
       "Missing               0.001803\n",
       "Food Services         0.000587\n",
       "Distribution          0.000419\n",
       "Pre-harvest           0.000419\n",
       "Market                0.000377\n",
       "Stacking              0.000042\n",
       "Name: food_supply_stage, dtype: float64"
      ]
     },
     "execution_count": 151,
     "metadata": {},
     "output_type": "execute_result"
    }
   ],
   "source": [
    "df['food_supply_stage'].value_counts(normalize = True)"
   ]
  },
  {
   "cell_type": "code",
   "execution_count": 152,
   "id": "05155c50-6779-46b6-ba5a-994b52dcc0a4",
   "metadata": {},
   "outputs": [],
   "source": [
    "features = pd.get_dummies(df, columns = ['Longitude', 'Latitude','country',\n",
    "                              'commodity',\n",
    "                              'year',\n",
    "                              'activity'])"
   ]
  },
  {
   "cell_type": "code",
   "execution_count": 153,
   "id": "8ba4fff1-dbc3-4b4f-acd0-d29b24cd8c8f",
   "metadata": {},
   "outputs": [],
   "source": [
    "X = features.drop(columns = 'food_supply_stage')"
   ]
  },
  {
   "cell_type": "code",
   "execution_count": 154,
   "id": "ad36e1cc-e9e2-4257-bb1f-d743ebf317f6",
   "metadata": {},
   "outputs": [],
   "source": [
    "y = pd.get_dummies(df['food_supply_stage'], columns = ['food_supply_stage'])"
   ]
  },
  {
   "cell_type": "code",
   "execution_count": 155,
   "id": "38ab29cf-9dde-4db5-b29a-2a8bd4390519",
   "metadata": {},
   "outputs": [],
   "source": [
    "X_train, X_test, y_train, y_test = train_test_split(X, y, random_state = 42)"
   ]
  },
  {
   "cell_type": "markdown",
   "id": "c301f5f9-8be5-4aa1-86b6-fe8321d0d9b7",
   "metadata": {},
   "source": [
    "### DecisionTreeClassifier"
   ]
  },
  {
   "cell_type": "code",
   "execution_count": 156,
   "id": "a41c7cf3-c21b-4ce5-9bb2-38b779fddd17",
   "metadata": {},
   "outputs": [],
   "source": [
    "dt_pipe = Pipeline([\n",
    "    ('ss', StandardScaler()),\n",
    "    ('dt', DecisionTreeClassifier())\n",
    "])"
   ]
  },
  {
   "cell_type": "code",
   "execution_count": 157,
   "id": "f74ac879-ed2f-4044-bc10-3017022d0613",
   "metadata": {},
   "outputs": [],
   "source": [
    "dt_params = {\n",
    "    'ss__with_mean': [False, True],\n",
    "    'ss__with_std': [False, True],\n",
    "    'dt__max_depth': [1, 5, 10, 25, 100],\n",
    "    'dt__min_samples_leaf': [1, 3, 6, 10],\n",
    "    'dt__min_samples_split': [5, 10, 15, 20]\n",
    "}"
   ]
  },
  {
   "cell_type": "code",
   "execution_count": 158,
   "id": "b8a9fb34-c42f-4957-9297-4f8a0547484c",
   "metadata": {
    "scrolled": true,
    "tags": []
   },
   "outputs": [
    {
     "data": {
      "text/plain": [
       "\"Best Score: 0.9547206525511649, Params: {'dt__max_depth': 100, 'dt__min_samples_leaf': 1, 'dt__min_samples_split': 5, 'ss__with_mean': True, 'ss__with_std': True}\""
      ]
     },
     "execution_count": 158,
     "metadata": {},
     "output_type": "execute_result"
    }
   ],
   "source": [
    "best_params(dt_pipe, dt_params, X_train, y_train)"
   ]
  },
  {
   "cell_type": "code",
   "execution_count": 159,
   "id": "598cb528-a5e5-4d59-a8d0-c14ba63a9653",
   "metadata": {},
   "outputs": [],
   "source": [
    "dt_gs = return_gs(dt_pipe, dt_params, X_train, y_train)"
   ]
  },
  {
   "cell_type": "code",
   "execution_count": 160,
   "id": "d5183103-0d5f-4a9c-b92c-b5c6752c6383",
   "metadata": {},
   "outputs": [
    {
     "data": {
      "text/plain": [
       "'Train Score: 0.9808262060484096, Test Score: 0.9585848423876593'"
      ]
     },
     "execution_count": 160,
     "metadata": {},
     "output_type": "execute_result"
    }
   ],
   "source": [
    "tts_scores(dt_gs, X_train, y_train, X_test, y_test)"
   ]
  },
  {
   "cell_type": "code",
   "execution_count": 161,
   "id": "1020e546-0ffd-4ed2-a2f7-855b214ace20",
   "metadata": {},
   "outputs": [],
   "source": [
    "### Evaluation: omg these are good scores, did I do this right "
   ]
  },
  {
   "cell_type": "code",
   "execution_count": 162,
   "id": "276881ba-4f11-49aa-b877-a3eee2415b30",
   "metadata": {},
   "outputs": [],
   "source": [
    "dt_pred = predictions(dt_pipe, X_train, X_test, y_train)"
   ]
  },
  {
   "cell_type": "code",
   "execution_count": 163,
   "id": "572a0d88-f3dc-43aa-aeab-1f44896f8a00",
   "metadata": {},
   "outputs": [],
   "source": [
    "class_model = classification_scores('DecisionTree', y_test, dt_pred)"
   ]
  },
  {
   "cell_type": "code",
   "execution_count": 164,
   "id": "2c29bc1e-6ace-4a24-94c4-91332d4f2dbb",
   "metadata": {},
   "outputs": [
    {
     "data": {
      "text/html": [
       "<div>\n",
       "<style scoped>\n",
       "    .dataframe tbody tr th:only-of-type {\n",
       "        vertical-align: middle;\n",
       "    }\n",
       "\n",
       "    .dataframe tbody tr th {\n",
       "        vertical-align: top;\n",
       "    }\n",
       "\n",
       "    .dataframe thead th {\n",
       "        text-align: right;\n",
       "    }\n",
       "</style>\n",
       "<table border=\"1\" class=\"dataframe\">\n",
       "  <thead>\n",
       "    <tr style=\"text-align: right;\">\n",
       "      <th></th>\n",
       "      <th>Recall</th>\n",
       "      <th>Precision</th>\n",
       "      <th>F1</th>\n",
       "      <th>Accuracy</th>\n",
       "    </tr>\n",
       "  </thead>\n",
       "  <tbody>\n",
       "    <tr>\n",
       "      <th>DecisionTree</th>\n",
       "      <td>0.961603</td>\n",
       "      <td>0.962571</td>\n",
       "      <td>0.962087</td>\n",
       "      <td>0.961603</td>\n",
       "    </tr>\n",
       "  </tbody>\n",
       "</table>\n",
       "</div>"
      ],
      "text/plain": [
       "                Recall  Precision        F1  Accuracy\n",
       "DecisionTree  0.961603   0.962571  0.962087  0.961603"
      ]
     },
     "execution_count": 164,
     "metadata": {},
     "output_type": "execute_result"
    }
   ],
   "source": [
    "class_model"
   ]
  },
  {
   "cell_type": "markdown",
   "id": "2ac5b9c4-16c1-4d24-b18c-7e7d0d3b1bbb",
   "metadata": {},
   "source": [
    "### LogisticRegression"
   ]
  },
  {
   "cell_type": "code",
   "execution_count": 165,
   "id": "0b2b5a2d-94c6-46f3-af7a-50208d19975b",
   "metadata": {},
   "outputs": [],
   "source": [
    "features = pd.get_dummies(df, columns = ['Longitude', 'Latitude','country',\n",
    "                              'commodity',\n",
    "                              'year',\n",
    "                              'activity'])"
   ]
  },
  {
   "cell_type": "code",
   "execution_count": 166,
   "id": "7d0ebee5-3601-41b5-9274-07ed40889068",
   "metadata": {},
   "outputs": [],
   "source": [
    "X = features.drop(columns = 'food_supply_stage')\n",
    "y = df['food_supply_stage']"
   ]
  },
  {
   "cell_type": "code",
   "execution_count": 167,
   "id": "aacd119e-592d-4147-9fd4-583d3179a682",
   "metadata": {},
   "outputs": [],
   "source": [
    "X_train, X_test, y_train, y_test = train_test_split(X, y, random_state=42)"
   ]
  },
  {
   "cell_type": "code",
   "execution_count": 168,
   "id": "b9f125f2-bd8d-4e81-830d-9409a88cc2f7",
   "metadata": {},
   "outputs": [],
   "source": [
    "log_pipe = Pipeline([\n",
    "    ('ss', StandardScaler()),\n",
    "    ('lr', LogisticRegression(multi_class='multinomial', \n",
    "                              max_iter = 1000, \n",
    "                              solver='saga'))\n",
    "])"
   ]
  },
  {
   "cell_type": "code",
   "execution_count": 169,
   "id": "bacf253d-2358-4e80-ad97-81aa61bbd357",
   "metadata": {},
   "outputs": [],
   "source": [
    "log_params = {\n",
    "    'ss__with_mean': [False, True],\n",
    "    'ss__with_std': [False, True],\n",
    "    'lr__penalty': ['l1', 'l2', 'elasticnet', None]\n",
    "}"
   ]
  },
  {
   "cell_type": "code",
   "execution_count": null,
   "id": "9e6a121b-ec3a-4536-8cf8-110d7484c7e7",
   "metadata": {
    "scrolled": true,
    "tags": []
   },
   "outputs": [],
   "source": [
    "best_params(log_pipe, log_params, X_train, y_train)"
   ]
  },
  {
   "cell_type": "code",
   "execution_count": null,
   "id": "9bd78348-7081-4575-a217-684a484dda93",
   "metadata": {},
   "outputs": [],
   "source": [
    "log_gs = return_gs(log_pipe, log_params, X_train, y_train)"
   ]
  },
  {
   "cell_type": "code",
   "execution_count": null,
   "id": "a3e50e8e-ba97-4d72-8881-a956effbd28b",
   "metadata": {},
   "outputs": [],
   "source": [
    "tts_scores(log_gs, X_train, y_train, X_test, y_test)"
   ]
  },
  {
   "cell_type": "code",
   "execution_count": null,
   "id": "9c2607f0-8e38-4310-b6d9-4490f44d46cf",
   "metadata": {},
   "outputs": [],
   "source": [
    "log_pred = predictions(log_pipe, X_train, X_test, y_train)"
   ]
  },
  {
   "cell_type": "code",
   "execution_count": null,
   "id": "b8583964-7143-4396-992a-a3135562983a",
   "metadata": {},
   "outputs": [],
   "source": [
    "class_model = pd.concat([class_model, regression_scores('LogisticRegression', y_test, log_pred)])"
   ]
  },
  {
   "cell_type": "markdown",
   "id": "3765b726-690c-4905-9e3a-8e66a0ba5b16",
   "metadata": {},
   "source": [
    "### Stacking: Classification"
   ]
  },
  {
   "cell_type": "code",
   "execution_count": null,
   "id": "099d70ef-804f-499a-9067-75a6383d6e65",
   "metadata": {},
   "outputs": [],
   "source": [
    "level1_estimators =[\n",
    "    ('rfr_pipe', Pipeline([\n",
    "        ('ss', StandardScaler()),\n",
    "        ('rfr', RandomForestClassifier())\n",
    "    ])), \n",
    "    ('dt_pipe', Pipeline([\n",
    "        ('ss', StandardScaler()),\n",
    "        ('dt', DecisionTreeClassifier())\n",
    "    ])),  \n",
    "    ('bag_pipe', Pipeline([\n",
    "        ('ss', StandardScaler()),\n",
    "        ('bag', BaggingClassifier())\n",
    "    ])),       \n",
    "]"
   ]
  },
  {
   "cell_type": "code",
   "execution_count": null,
   "id": "ed9ca9ce-a889-44b8-bc01-36c0ee28631b",
   "metadata": {},
   "outputs": [],
   "source": [
    "stacked_model = StackingRegressor(estimators = level1_estimators,\n",
    "                                 final_estimator = LogisticRegression())"
   ]
  },
  {
   "cell_type": "code",
   "execution_count": null,
   "id": "c689304a-c214-45ed-92df-378121aee1e8",
   "metadata": {},
   "outputs": [],
   "source": [
    "cross_val_score(stacked_model, X_train, y_train).mean()"
   ]
  },
  {
   "cell_type": "code",
   "execution_count": null,
   "id": "e6706e7b-d6d2-47ba-9e12-1d13ede87c8b",
   "metadata": {},
   "outputs": [],
   "source": [
    "stacked_model.fit(X_train, y_train)"
   ]
  },
  {
   "cell_type": "code",
   "execution_count": null,
   "id": "feea7f60-7abd-43c7-a6a6-97d819ff58c3",
   "metadata": {},
   "outputs": [],
   "source": [
    "stacked_model.score(X_train, y_train), stacked_model.score(X_test, y_test)"
   ]
  },
  {
   "cell_type": "code",
   "execution_count": null,
   "id": "81f1074c-b016-40fe-b052-befa81cade0b",
   "metadata": {},
   "outputs": [],
   "source": []
  },
  {
   "cell_type": "code",
   "execution_count": null,
   "id": "a7b7939a-c942-4281-87c0-ac06f688570e",
   "metadata": {},
   "outputs": [],
   "source": []
  },
  {
   "cell_type": "code",
   "execution_count": null,
   "id": "69947fb9-8b74-4a62-9251-4e8880c8c8f9",
   "metadata": {},
   "outputs": [],
   "source": []
  },
  {
   "cell_type": "code",
   "execution_count": null,
   "id": "6dae51b2-8db9-464e-bb15-a60275e2015e",
   "metadata": {},
   "outputs": [],
   "source": []
  },
  {
   "cell_type": "markdown",
   "id": "e22069dd-886f-418b-aa01-56070950570b",
   "metadata": {},
   "source": [
    "### Attempting AdaSyn"
   ]
  },
  {
   "cell_type": "code",
   "execution_count": null,
   "id": "30398a1e-3a48-4507-823c-a2fe02c0665e",
   "metadata": {},
   "outputs": [],
   "source": [
    "dt_ada_pipe = make_pipeline(\n",
    "    ADASYN(random_state = 34),\n",
    "    DecisionTreeClassifier()\n",
    ")"
   ]
  },
  {
   "cell_type": "code",
   "execution_count": null,
   "id": "e34dfbe9-4d46-42a0-bc3e-6bb05d66823a",
   "metadata": {},
   "outputs": [],
   "source": [
    "dt_ada_params = {\n",
    "    'decisiontreeclassifier__max_depth':[100,200,300],\n",
    "    'decisiontreeclassifier__min_samples_split': [2, 3, 4, 5]\n",
    "}"
   ]
  },
  {
   "cell_type": "code",
   "execution_count": null,
   "id": "0f9e2f10-8866-48b7-9fb2-9ef44a832dc0",
   "metadata": {},
   "outputs": [],
   "source": [
    "dt_ada_gs = GridSearchCV(dt_ada_pipe, \n",
    "                         dt_ada_params,\n",
    "                         scoring = 'balanced_accuracy',\n",
    "                         n_jobs = -1\n",
    "                        )"
   ]
  },
  {
   "cell_type": "code",
   "execution_count": null,
   "id": "62df5945-99db-4796-870b-91630bc67b6a",
   "metadata": {
    "scrolled": true,
    "tags": []
   },
   "outputs": [],
   "source": [
    "dt_ada_gs.fit(X_train, y_train)"
   ]
  },
  {
   "cell_type": "code",
   "execution_count": null,
   "id": "aec508c8-0a29-454c-a7b8-0b71ded15419",
   "metadata": {},
   "outputs": [],
   "source": [
    "dt_ada_gs.score(X_test_ss, y_test)"
   ]
  },
  {
   "cell_type": "code",
   "execution_count": null,
   "id": "53ce7458-a56b-4d7a-96cf-50fc9ca76457",
   "metadata": {},
   "outputs": [],
   "source": []
  },
  {
   "cell_type": "code",
   "execution_count": null,
   "id": "8beee99e-da5b-4aa1-8d7c-3161ff7f80ad",
   "metadata": {},
   "outputs": [],
   "source": [
    "dt_sm_pipe = make_pipeline(\n",
    "    SMOTE(), \n",
    "    DecisionTreeClassifier())"
   ]
  },
  {
   "cell_type": "code",
   "execution_count": null,
   "id": "68c28fd3-3c62-4661-8287-386d0db1d1a5",
   "metadata": {},
   "outputs": [],
   "source": [
    "dt_sm_gs = GridSearchCV(\n",
    "    dt_sm_pipe, \n",
    "    {'decisiontreeclassifier__max_depth':[100,200,300],\n",
    "    'decisiontreeclassifier__min_samples_split': [2, 3, 4, 5]}, \n",
    "    scoring='balanced_accuracy'\n",
    ")"
   ]
  },
  {
   "cell_type": "code",
   "execution_count": null,
   "id": "c65f7dfc-f6b3-4cb1-848e-2d6a64d0aef5",
   "metadata": {
    "scrolled": true,
    "tags": []
   },
   "outputs": [],
   "source": [
    "dt_sm_gs.fit(X_train, y_train)"
   ]
  },
  {
   "cell_type": "markdown",
   "id": "e5f2eab9-7598-4ac0-9956-9ec127972fab",
   "metadata": {},
   "source": [
    "### Unsupervised Learning"
   ]
  },
  {
   "cell_type": "code",
   "execution_count": null,
   "id": "40ee5e6f-5ea5-4fbc-a960-43db0d4a9b2d",
   "metadata": {},
   "outputs": [],
   "source": [
    "df.info()"
   ]
  },
  {
   "cell_type": "code",
   "execution_count": null,
   "id": "777e7a05-03b4-483b-9f03-72528a151d5f",
   "metadata": {},
   "outputs": [],
   "source": [
    "from sklearn.preprocessing import StandardScaler, OneHotEncoder\n",
    "from sklearn.compose import make_column_transformer"
   ]
  },
  {
   "cell_type": "code",
   "execution_count": null,
   "id": "9581a5f3-c98f-45d4-bb40-80c17cccc29b",
   "metadata": {},
   "outputs": [],
   "source": [
    "cat_col = ['country', 'commodity', 'activity', 'food_supply_stage']\n",
    "num_col = ['Latitude', 'Longitude', 'loss_percentage', 'year']\n",
    "\n",
    "transformer = make_column_transformer(\n",
    "            (OneHotEncoder(), cat_col),\n",
    "            (StandardScaler(), num_col)\n",
    ")"
   ]
  },
  {
   "cell_type": "code",
   "execution_count": null,
   "id": "56405e93-7a8e-41d1-81dc-5b2b57f5e695",
   "metadata": {},
   "outputs": [],
   "source": [
    "df_tf = transformer.fit_transform(df)"
   ]
  },
  {
   "cell_type": "code",
   "execution_count": null,
   "id": "e4c71047-163f-40f4-af0b-6710946c2cc8",
   "metadata": {},
   "outputs": [],
   "source": [
    "ss = StandardScaler(with_mean = False)\n",
    "X_sc = ss.fit_transform(df_tf)"
   ]
  },
  {
   "cell_type": "code",
   "execution_count": null,
   "id": "ffdf1d08-0a89-422a-8ff5-5d7288ce9cdc",
   "metadata": {},
   "outputs": [],
   "source": [
    "from sklearn.cluster import KMeans"
   ]
  },
  {
   "cell_type": "code",
   "execution_count": null,
   "id": "8c90911c-8d1f-4015-85b6-d393ed1a9a54",
   "metadata": {},
   "outputs": [],
   "source": [
    "km = KMeans(n_clusters = 8, random_state = 42, n_init = 10)\n",
    "km.fit(X_sc)"
   ]
  },
  {
   "cell_type": "code",
   "execution_count": null,
   "id": "ba7d104c-ae36-416e-ab11-294a1d87a4b7",
   "metadata": {},
   "outputs": [],
   "source": [
    "km.n_clusters"
   ]
  },
  {
   "cell_type": "code",
   "execution_count": null,
   "id": "11beb6a3-42d7-4eec-9a98-559e94e2956a",
   "metadata": {},
   "outputs": [],
   "source": [
    "km.predict(X_sc)"
   ]
  },
  {
   "cell_type": "code",
   "execution_count": null,
   "id": "abcea1eb-e3d9-4f9c-ad13-d9e09903c61c",
   "metadata": {},
   "outputs": [],
   "source": [
    "df_copy = df.copy()"
   ]
  },
  {
   "cell_type": "code",
   "execution_count": null,
   "id": "50f6dfb4-dc81-4471-baf7-388fc9df981f",
   "metadata": {},
   "outputs": [],
   "source": [
    "df_copy['cluster'] = km.labels_"
   ]
  },
  {
   "cell_type": "code",
   "execution_count": null,
   "id": "31699fcb-2c22-4551-b92f-b4cdae2d5a62",
   "metadata": {},
   "outputs": [],
   "source": [
    "df_copy.groupby('cluster').mean()"
   ]
  },
  {
   "cell_type": "code",
   "execution_count": null,
   "id": "28570847-74d1-4051-9180-cc5d2bd8aa1b",
   "metadata": {},
   "outputs": [],
   "source": [
    "# Take a look at the data using a scatterplot\n",
    "df.plot(kind=\"scatter\", x=\"Latitude\", y=\"Longitude\", figsize=(12,6), s=50)\n",
    "plt.xlabel(\"Latitude\", fontsize=18)\n",
    "plt.ylabel(\"Longitude\", fontsize=18);"
   ]
  },
  {
   "cell_type": "code",
   "execution_count": null,
   "id": "5ee5bd17-3d04-448d-8d1c-a09c45acecb1",
   "metadata": {},
   "outputs": [],
   "source": []
  },
  {
   "cell_type": "code",
   "execution_count": null,
   "id": "c72c5038-094b-4962-9690-06a477a6d6a2",
   "metadata": {},
   "outputs": [],
   "source": []
  }
 ],
 "metadata": {
  "kernelspec": {
   "display_name": "Python 3 (ipykernel)",
   "language": "python",
   "name": "python3"
  },
  "language_info": {
   "codemirror_mode": {
    "name": "ipython",
    "version": 3
   },
   "file_extension": ".py",
   "mimetype": "text/x-python",
   "name": "python",
   "nbconvert_exporter": "python",
   "pygments_lexer": "ipython3",
   "version": "3.9.13"
  }
 },
 "nbformat": 4,
 "nbformat_minor": 5
}
