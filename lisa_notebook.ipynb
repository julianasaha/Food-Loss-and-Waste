{
 "cells": [
  {
   "cell_type": "markdown",
   "id": "49a9a09d-16d6-4007-91b9-4074bed91f0f",
   "metadata": {},
   "source": [
    "## Imports"
   ]
  },
  {
   "cell_type": "code",
   "execution_count": 26,
   "id": "0811b97c-0c8d-4261-a1e4-4d2a684fea25",
   "metadata": {},
   "outputs": [],
   "source": [
    "import pandas as pd\n",
    "import numpy as np\n",
    "import matplotlib.pyplot as plt\n",
    "import seaborn as sns"
   ]
  },
  {
   "cell_type": "code",
   "execution_count": 27,
   "id": "e8b6ea35-5ec0-41da-aea7-8b153fa87179",
   "metadata": {},
   "outputs": [],
   "source": [
    "df = pd.read_csv('./data/food_waste.csv')"
   ]
  },
  {
   "cell_type": "code",
   "execution_count": 28,
   "id": "ea5a3b01-c2df-4685-bcfa-23eac2ac7d8b",
   "metadata": {
    "scrolled": true,
    "tags": []
   },
   "outputs": [
    {
     "name": "stdout",
     "output_type": "stream",
     "text": [
      "<class 'pandas.core.frame.DataFrame'>\n",
      "RangeIndex: 27773 entries, 0 to 27772\n",
      "Data columns (total 18 columns):\n",
      " #   Column                    Non-Null Count  Dtype  \n",
      "---  ------                    --------------  -----  \n",
      " 0   m49_code                  27773 non-null  int64  \n",
      " 1   country                   27773 non-null  object \n",
      " 2   region                    871 non-null    object \n",
      " 3   cpc_code                  27773 non-null  object \n",
      " 4   commodity                 27773 non-null  object \n",
      " 5   year                      27773 non-null  int64  \n",
      " 6   loss_percentage           27773 non-null  float64\n",
      " 7   loss_percentage_original  27773 non-null  object \n",
      " 8   loss_quantity             4552 non-null   object \n",
      " 9   activity                  20873 non-null  object \n",
      " 10  food_supply_stage         27724 non-null  object \n",
      " 11  treatment                 881 non-null    object \n",
      " 12  cause_of_loss             925 non-null    object \n",
      " 13  sample_size               1176 non-null   object \n",
      " 14  method_data_collection    27418 non-null  object \n",
      " 15  reference                 8436 non-null   object \n",
      " 16  url                       21158 non-null  object \n",
      " 17  notes                     1350 non-null   object \n",
      "dtypes: float64(1), int64(2), object(15)\n",
      "memory usage: 3.8+ MB\n"
     ]
    }
   ],
   "source": [
    "df.info()"
   ]
  },
  {
   "cell_type": "markdown",
   "id": "f86a0946-17c2-4d36-9e32-277be59c8768",
   "metadata": {},
   "source": [
    "## Cleaning Data"
   ]
  },
  {
   "cell_type": "code",
   "execution_count": 29,
   "id": "163f75be-e545-4f03-85c2-dc88af5eaa8f",
   "metadata": {},
   "outputs": [
    {
     "name": "stdout",
     "output_type": "stream",
     "text": [
      "region: 26902\n",
      "loss_quantity: 23221\n",
      "treatment: 26892\n",
      "cause_of_loss: 26848\n",
      "sample_size: 26597\n",
      "reference: 19337\n",
      "notes: 26423\n"
     ]
    }
   ],
   "source": [
    "# iterate through columns that have more than 1000 null variables\n",
    "for col in df.columns:\n",
    "    if df[col].isnull().sum() > 10000:\n",
    "        print(f'{col}: {df[col].isnull().sum()}')"
   ]
  },
  {
   "cell_type": "code",
   "execution_count": 30,
   "id": "adf28ce9-3057-4ecd-b44a-e2819dbe3720",
   "metadata": {
    "scrolled": true,
    "tags": []
   },
   "outputs": [],
   "source": [
    "# dropping columns with many null variables, missing data essentially\n",
    "for col in df.columns:\n",
    "    if df[col].isnull().sum() > 10000:\n",
    "        df.drop(col, axis = 1, inplace = True)"
   ]
  },
  {
   "cell_type": "code",
   "execution_count": 31,
   "id": "0763a6e1-1f96-4c16-b7e5-81e5e1311ea4",
   "metadata": {},
   "outputs": [],
   "source": [
    "# these columns aren't relevant for us to look at\n",
    "df.drop(columns = ['m49_code', 'cpc_code', 'method_data_collection', 'url'],\n",
    "             axis = 1, inplace = True)"
   ]
  },
  {
   "cell_type": "code",
   "execution_count": 32,
   "id": "75c82019-41d4-4954-a32c-281b7d489ca5",
   "metadata": {},
   "outputs": [
    {
     "name": "stdout",
     "output_type": "stream",
     "text": [
      "<class 'pandas.core.frame.DataFrame'>\n",
      "RangeIndex: 27773 entries, 0 to 27772\n",
      "Data columns (total 7 columns):\n",
      " #   Column                    Non-Null Count  Dtype  \n",
      "---  ------                    --------------  -----  \n",
      " 0   country                   27773 non-null  object \n",
      " 1   commodity                 27773 non-null  object \n",
      " 2   year                      27773 non-null  int64  \n",
      " 3   loss_percentage           27773 non-null  float64\n",
      " 4   loss_percentage_original  27773 non-null  object \n",
      " 5   activity                  20873 non-null  object \n",
      " 6   food_supply_stage         27724 non-null  object \n",
      "dtypes: float64(1), int64(1), object(5)\n",
      "memory usage: 1.5+ MB\n"
     ]
    }
   ],
   "source": [
    "df.info()"
   ]
  },
  {
   "cell_type": "code",
   "execution_count": 35,
   "id": "a763e48d-b4ca-4c6b-8f6b-bfc3b70e4544",
   "metadata": {},
   "outputs": [
    {
     "data": {
      "text/plain": [
       "country                        0\n",
       "commodity                      0\n",
       "year                           0\n",
       "loss_percentage                0\n",
       "loss_percentage_original       0\n",
       "activity                    6900\n",
       "food_supply_stage             49\n",
       "dtype: int64"
      ]
     },
     "execution_count": 35,
     "metadata": {},
     "output_type": "execute_result"
    }
   ],
   "source": [
    "df.isnull().sum()"
   ]
  },
  {
   "cell_type": "code",
   "execution_count": 33,
   "id": "5dda5197-ab3b-416e-acb1-b9962b81de67",
   "metadata": {
    "scrolled": true,
    "tags": []
   },
   "outputs": [
    {
     "data": {
      "text/plain": [
       "Farm                  12368\n",
       "Whole supply chain     5918\n",
       "Harvest                3688\n",
       "Storage                2525\n",
       "Transport              1849\n",
       "Retail                  438\n",
       "Processing              262\n",
       "Wholesale               257\n",
       "Households              167\n",
       "Trader                   76\n",
       "Post-harvest             53\n",
       "Export                   50\n",
       "Packing                  17\n",
       "Food Services            14\n",
       "Pre-harvest              11\n",
       "Grading                  11\n",
       "Distribution             10\n",
       "Market                    9\n",
       "Stacking                  1\n",
       "Name: food_supply_stage, dtype: int64"
      ]
     },
     "execution_count": 33,
     "metadata": {},
     "output_type": "execute_result"
    }
   ],
   "source": [
    "df['food_supply_stage'].value_counts()"
   ]
  },
  {
   "cell_type": "code",
   "execution_count": null,
   "id": "21521f10-aa6b-426a-b160-1f1696290d52",
   "metadata": {},
   "outputs": [],
   "source": []
  },
  {
   "cell_type": "code",
   "execution_count": null,
   "id": "6c6fcf3a-f422-4541-adeb-8f2a68e692c8",
   "metadata": {},
   "outputs": [],
   "source": []
  },
  {
   "cell_type": "code",
   "execution_count": null,
   "id": "ad23d75f-2c70-4536-a864-0f76880be75e",
   "metadata": {},
   "outputs": [],
   "source": []
  },
  {
   "cell_type": "code",
   "execution_count": null,
   "id": "1849db30-888c-4945-9229-298a94b3e138",
   "metadata": {},
   "outputs": [],
   "source": []
  },
  {
   "cell_type": "code",
   "execution_count": null,
   "id": "e604de5c-ca46-4ea4-93c1-e56a1f6fc18b",
   "metadata": {},
   "outputs": [],
   "source": []
  },
  {
   "cell_type": "code",
   "execution_count": null,
   "id": "b7f287f1-174d-47ec-b225-523a49b6d337",
   "metadata": {},
   "outputs": [],
   "source": []
  },
  {
   "cell_type": "code",
   "execution_count": null,
   "id": "89609e6d-0519-4a33-a1a7-7b1755b14b26",
   "metadata": {},
   "outputs": [],
   "source": []
  },
  {
   "cell_type": "code",
   "execution_count": null,
   "id": "598cb528-a5e5-4d59-a8d0-c14ba63a9653",
   "metadata": {},
   "outputs": [],
   "source": []
  },
  {
   "cell_type": "code",
   "execution_count": null,
   "id": "7cbb5d2d-b8e1-4e1d-a3ff-4f9c237079b7",
   "metadata": {},
   "outputs": [],
   "source": []
  }
 ],
 "metadata": {
  "kernelspec": {
   "display_name": "Python 3 (ipykernel)",
   "language": "python",
   "name": "python3"
  },
  "language_info": {
   "codemirror_mode": {
    "name": "ipython",
    "version": 3
   },
   "file_extension": ".py",
   "mimetype": "text/x-python",
   "name": "python",
   "nbconvert_exporter": "python",
   "pygments_lexer": "ipython3",
   "version": "3.9.13"
  }
 },
 "nbformat": 4,
 "nbformat_minor": 5
}
