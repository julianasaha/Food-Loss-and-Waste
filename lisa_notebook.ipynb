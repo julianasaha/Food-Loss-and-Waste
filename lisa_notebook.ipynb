{
 "cells": [
  {
   "cell_type": "markdown",
   "id": "49a9a09d-16d6-4007-91b9-4074bed91f0f",
   "metadata": {},
   "source": [
    "## Imports"
   ]
  },
  {
   "cell_type": "code",
   "execution_count": 13,
   "id": "0811b97c-0c8d-4261-a1e4-4d2a684fea25",
   "metadata": {},
   "outputs": [],
   "source": [
    "import pandas as pd\n",
    "import numpy as np\n",
    "import matplotlib.pyplot as plt\n",
    "import seaborn as sns"
   ]
  },
  {
   "cell_type": "code",
   "execution_count": 14,
   "id": "e8b6ea35-5ec0-41da-aea7-8b153fa87179",
   "metadata": {},
   "outputs": [],
   "source": [
    "df = pd.read_csv('./data/food_waste.csv')"
   ]
  },
  {
   "cell_type": "code",
   "execution_count": 15,
   "id": "ea5a3b01-c2df-4685-bcfa-23eac2ac7d8b",
   "metadata": {
    "scrolled": true,
    "tags": []
   },
   "outputs": [
    {
     "name": "stdout",
     "output_type": "stream",
     "text": [
      "<class 'pandas.core.frame.DataFrame'>\n",
      "RangeIndex: 27773 entries, 0 to 27772\n",
      "Data columns (total 18 columns):\n",
      " #   Column                    Non-Null Count  Dtype  \n",
      "---  ------                    --------------  -----  \n",
      " 0   m49_code                  27773 non-null  int64  \n",
      " 1   country                   27773 non-null  object \n",
      " 2   region                    871 non-null    object \n",
      " 3   cpc_code                  27773 non-null  object \n",
      " 4   commodity                 27773 non-null  object \n",
      " 5   year                      27773 non-null  int64  \n",
      " 6   loss_percentage           27773 non-null  float64\n",
      " 7   loss_percentage_original  27773 non-null  object \n",
      " 8   loss_quantity             4552 non-null   object \n",
      " 9   activity                  20873 non-null  object \n",
      " 10  food_supply_stage         27724 non-null  object \n",
      " 11  treatment                 881 non-null    object \n",
      " 12  cause_of_loss             925 non-null    object \n",
      " 13  sample_size               1176 non-null   object \n",
      " 14  method_data_collection    27418 non-null  object \n",
      " 15  reference                 8436 non-null   object \n",
      " 16  url                       21158 non-null  object \n",
      " 17  notes                     1350 non-null   object \n",
      "dtypes: float64(1), int64(2), object(15)\n",
      "memory usage: 3.8+ MB\n"
     ]
    }
   ],
   "source": [
    "df.info()"
   ]
  },
  {
   "cell_type": "markdown",
   "id": "f86a0946-17c2-4d36-9e32-277be59c8768",
   "metadata": {},
   "source": [
    "## Cleaning Data"
   ]
  },
  {
   "cell_type": "code",
   "execution_count": 16,
   "id": "163f75be-e545-4f03-85c2-dc88af5eaa8f",
   "metadata": {},
   "outputs": [
    {
     "name": "stdout",
     "output_type": "stream",
     "text": [
      "region: 26902\n",
      "loss_quantity: 23221\n",
      "treatment: 26892\n",
      "cause_of_loss: 26848\n",
      "sample_size: 26597\n",
      "reference: 19337\n",
      "notes: 26423\n"
     ]
    }
   ],
   "source": [
    "# iterate through columns that have more than 1000 null variables\n",
    "for col in df.columns:\n",
    "    if df[col].isnull().sum() > 10000:\n",
    "        print(f'{col}: {df[col].isnull().sum()}')"
   ]
  },
  {
   "cell_type": "code",
   "execution_count": 17,
   "id": "adf28ce9-3057-4ecd-b44a-e2819dbe3720",
   "metadata": {
    "scrolled": true,
    "tags": []
   },
   "outputs": [],
   "source": [
    "# dropping columns with many null variables, missing data essentially\n",
    "for col in df.columns:\n",
    "    if df[col].isnull().sum() > 10000:\n",
    "        df.drop(col, axis = 1, inplace = True)"
   ]
  },
  {
   "cell_type": "code",
   "execution_count": 18,
   "id": "0763a6e1-1f96-4c16-b7e5-81e5e1311ea4",
   "metadata": {},
   "outputs": [],
   "source": [
    "# these columns aren't relevant for us to look at\n",
    "df.drop(columns = ['m49_code', 'cpc_code', 'method_data_collection', 'url'],\n",
    "             axis = 1, inplace = True)"
   ]
  },
  {
   "cell_type": "code",
   "execution_count": 19,
   "id": "75c82019-41d4-4954-a32c-281b7d489ca5",
   "metadata": {},
   "outputs": [
    {
     "name": "stdout",
     "output_type": "stream",
     "text": [
      "<class 'pandas.core.frame.DataFrame'>\n",
      "RangeIndex: 27773 entries, 0 to 27772\n",
      "Data columns (total 7 columns):\n",
      " #   Column                    Non-Null Count  Dtype  \n",
      "---  ------                    --------------  -----  \n",
      " 0   country                   27773 non-null  object \n",
      " 1   commodity                 27773 non-null  object \n",
      " 2   year                      27773 non-null  int64  \n",
      " 3   loss_percentage           27773 non-null  float64\n",
      " 4   loss_percentage_original  27773 non-null  object \n",
      " 5   activity                  20873 non-null  object \n",
      " 6   food_supply_stage         27724 non-null  object \n",
      "dtypes: float64(1), int64(1), object(5)\n",
      "memory usage: 1.5+ MB\n"
     ]
    }
   ],
   "source": [
    "df.info()"
   ]
  },
  {
   "cell_type": "code",
   "execution_count": 20,
   "id": "a763e48d-b4ca-4c6b-8f6b-bfc3b70e4544",
   "metadata": {},
   "outputs": [
    {
     "data": {
      "text/plain": [
       "country                        0\n",
       "commodity                      0\n",
       "year                           0\n",
       "loss_percentage                0\n",
       "loss_percentage_original       0\n",
       "activity                    6900\n",
       "food_supply_stage             49\n",
       "dtype: int64"
      ]
     },
     "execution_count": 20,
     "metadata": {},
     "output_type": "execute_result"
    }
   ],
   "source": [
    "df.isnull().sum()"
   ]
  },
  {
   "cell_type": "code",
   "execution_count": 21,
   "id": "d6f1ed6a-01cd-41ab-a9ff-a60605d7954d",
   "metadata": {},
   "outputs": [],
   "source": [
    "df['activity'].fillna('Missing', inplace = True)\n",
    "df['food_supply_stage'].fillna('Missing', inplace = True)"
   ]
  },
  {
   "cell_type": "code",
   "execution_count": 22,
   "id": "a8dd3ee9-4b71-4ece-b75b-45f56aa79695",
   "metadata": {},
   "outputs": [
    {
     "data": {
      "text/plain": [
       "country                     0\n",
       "commodity                   0\n",
       "year                        0\n",
       "loss_percentage             0\n",
       "loss_percentage_original    0\n",
       "activity                    0\n",
       "food_supply_stage           0\n",
       "dtype: int64"
      ]
     },
     "execution_count": 22,
     "metadata": {},
     "output_type": "execute_result"
    }
   ],
   "source": [
    "df.isnull().sum()"
   ]
  },
  {
   "cell_type": "markdown",
   "id": "1fe902fe-6e91-4458-9e8e-b4e8bc21744a",
   "metadata": {},
   "source": [
    "### Baseline Accuracy"
   ]
  },
  {
   "cell_type": "code",
   "execution_count": 23,
   "id": "24b01d5f-7055-4f1d-bfcf-b95debafe597",
   "metadata": {
    "scrolled": true,
    "tags": []
   },
   "outputs": [
    {
     "data": {
      "text/plain": [
       "2.50     2213\n",
       "1.00     1410\n",
       "3.50     1317\n",
       "2.65     1240\n",
       "2.00      848\n",
       "         ... \n",
       "6.87        1\n",
       "8.38        1\n",
       "8.94        1\n",
       "7.06        1\n",
       "23.90       1\n",
       "Name: loss_percentage, Length: 1831, dtype: int64"
      ]
     },
     "execution_count": 23,
     "metadata": {},
     "output_type": "execute_result"
    }
   ],
   "source": [
    "df['loss_percentage'].value_counts()"
   ]
  },
  {
   "cell_type": "code",
   "execution_count": 24,
   "id": "5dda5197-ab3b-416e-acb1-b9962b81de67",
   "metadata": {
    "scrolled": true,
    "tags": []
   },
   "outputs": [
    {
     "data": {
      "text/plain": [
       "Farm                  12368\n",
       "Whole supply chain     5918\n",
       "Harvest                3688\n",
       "Storage                2525\n",
       "Transport              1849\n",
       "Retail                  438\n",
       "Processing              262\n",
       "Wholesale               257\n",
       "Households              167\n",
       "Trader                   76\n",
       "Post-harvest             53\n",
       "Export                   50\n",
       "Missing                  49\n",
       "Packing                  17\n",
       "Food Services            14\n",
       "Grading                  11\n",
       "Pre-harvest              11\n",
       "Distribution             10\n",
       "Market                    9\n",
       "Stacking                  1\n",
       "Name: food_supply_stage, dtype: int64"
      ]
     },
     "execution_count": 24,
     "metadata": {},
     "output_type": "execute_result"
    }
   ],
   "source": [
    "df['food_supply_stage'].value_counts()"
   ]
  },
  {
   "cell_type": "markdown",
   "id": "93439edd-1e61-47a4-b134-87e06db88ad3",
   "metadata": {},
   "source": [
    "### EDA"
   ]
  },
  {
   "cell_type": "code",
   "execution_count": null,
   "id": "f57e133b-1105-440b-9fd2-76af63ce6ffd",
   "metadata": {},
   "outputs": [],
   "source": []
  },
  {
   "cell_type": "code",
   "execution_count": null,
   "id": "72934fdc-5a05-4e6e-8adc-5c3388f772a4",
   "metadata": {},
   "outputs": [],
   "source": []
  },
  {
   "cell_type": "code",
   "execution_count": null,
   "id": "de36dc51-d278-4a29-88e1-936f4504f6d1",
   "metadata": {},
   "outputs": [],
   "source": []
  },
  {
   "cell_type": "code",
   "execution_count": null,
   "id": "cee9cd9a-5b10-4a72-af40-4fc94ccf7f6a",
   "metadata": {},
   "outputs": [],
   "source": []
  },
  {
   "cell_type": "code",
   "execution_count": null,
   "id": "87532062-a419-47ab-ad7d-a6b9129f222a",
   "metadata": {},
   "outputs": [],
   "source": []
  },
  {
   "cell_type": "code",
   "execution_count": null,
   "id": "bc61329a-9e8c-4aeb-a672-949561edeaac",
   "metadata": {},
   "outputs": [],
   "source": []
  },
  {
   "cell_type": "code",
   "execution_count": null,
   "id": "390f1c63-2af0-471d-bd46-f3a3d128ccd2",
   "metadata": {},
   "outputs": [],
   "source": []
  },
  {
   "cell_type": "code",
   "execution_count": null,
   "id": "65e90e2a-6da7-48cb-8dc7-2feca832ec48",
   "metadata": {},
   "outputs": [],
   "source": []
  },
  {
   "cell_type": "code",
   "execution_count": null,
   "id": "af847422-dfb8-447c-98a1-496ec7b89372",
   "metadata": {},
   "outputs": [],
   "source": []
  },
  {
   "cell_type": "code",
   "execution_count": null,
   "id": "50590051-d0bc-43f9-bea9-8ebaa0ce4c96",
   "metadata": {},
   "outputs": [],
   "source": []
  },
  {
   "cell_type": "code",
   "execution_count": null,
   "id": "7d9577db-a46b-4c42-a05b-b4cbcb57a677",
   "metadata": {},
   "outputs": [],
   "source": []
  },
  {
   "cell_type": "code",
   "execution_count": null,
   "id": "af9326dc-4967-4eb8-ac25-6b193de93bfa",
   "metadata": {},
   "outputs": [],
   "source": []
  },
  {
   "cell_type": "code",
   "execution_count": 29,
   "id": "57d92ce2-88af-4ed1-9c61-47d28ad1c9b7",
   "metadata": {},
   "outputs": [],
   "source": [
    "from sklearn import metrics\n",
    "from sklearn.model_selection import train_test_split, cross_val_score, GridSearchCV\n",
    "from sklearn.preprocessing import StandardScaler, PolynomialFeatures"
   ]
  },
  {
   "cell_type": "markdown",
   "id": "0ad7058f-91ff-4ae6-a6a9-6f67060734a2",
   "metadata": {},
   "source": [
    "### Functions for GridSearch"
   ]
  },
  {
   "cell_type": "code",
   "execution_count": 25,
   "id": "987ca995-2778-498b-bcb2-e8f05acaa89e",
   "metadata": {},
   "outputs": [],
   "source": [
    "from sklearn.metrics import recall_score, precision_score, f1_score\n",
    "from sklearn.pipeline import Pipeline\n",
    "\n",
    "from sklearn.linear_model import LogisticRegression, LinearRegression\n",
    "from sklearn.ensemble import AdaBoostRegressor\n",
    "from sklearn.tree import DecisionTreeRegressor\n",
    "from sklearn.ensemble import RandomForestRegressor\n",
    "from sklearn.ensemble import BaggingRegressor"
   ]
  },
  {
   "cell_type": "code",
   "execution_count": 26,
   "id": "ae885a01-1f7f-4b19-b792-5f59e3db2b62",
   "metadata": {},
   "outputs": [],
   "source": [
    "def best_params(pipeline, params, X_train, y_train):\n",
    "    gs = GridSearchCV(pipeline,\n",
    "                      param_grid = params,\n",
    "                      n_jobs=-1)\n",
    "\n",
    "    gs.fit(X_train, y_train)\n",
    "    return f'Best Score: {gs.best_score_}, Params: {gs.best_params_}'"
   ]
  },
  {
   "cell_type": "code",
   "execution_count": 27,
   "id": "4d4d94c3-7049-49d0-ad22-2671c612a12f",
   "metadata": {},
   "outputs": [],
   "source": [
    "def return_gs(pipeline, params, X_train, y_train):\n",
    "    gs = GridSearchCV(pipeline,\n",
    "                      param_grid = params,\n",
    "                      n_jobs=-1)\n",
    "    return gs"
   ]
  },
  {
   "cell_type": "code",
   "execution_count": 28,
   "id": "21521f10-aa6b-426a-b160-1f1696290d52",
   "metadata": {},
   "outputs": [],
   "source": [
    "def scores(gs, X_train, y_train, X_test, y_test):\n",
    "    gs.fit(X_train, y_train)\n",
    "    return f'Train Score: {gs.score(X_train, y_train)}, Test Score: {gs.score(X_test, y_test)}'"
   ]
  },
  {
   "cell_type": "code",
   "execution_count": 17,
   "id": "6c6fcf3a-f422-4541-adeb-8f2a68e692c8",
   "metadata": {},
   "outputs": [
    {
     "name": "stdout",
     "output_type": "stream",
     "text": [
      "<class 'pandas.core.frame.DataFrame'>\n",
      "RangeIndex: 27773 entries, 0 to 27772\n",
      "Data columns (total 7 columns):\n",
      " #   Column                    Non-Null Count  Dtype  \n",
      "---  ------                    --------------  -----  \n",
      " 0   country                   27773 non-null  object \n",
      " 1   commodity                 27773 non-null  object \n",
      " 2   year                      27773 non-null  int64  \n",
      " 3   loss_percentage           27773 non-null  float64\n",
      " 4   loss_percentage_original  27773 non-null  object \n",
      " 5   activity                  27773 non-null  object \n",
      " 6   food_supply_stage         27773 non-null  object \n",
      "dtypes: float64(1), int64(1), object(5)\n",
      "memory usage: 1.5+ MB\n"
     ]
    }
   ],
   "source": [
    "df.info()"
   ]
  },
  {
   "cell_type": "code",
   "execution_count": 30,
   "id": "ad23d75f-2c70-4536-a864-0f76880be75e",
   "metadata": {},
   "outputs": [],
   "source": [
    "df_dummy = pd.get_dummies(df, columns = ['country',\n",
    "                             'commodity',\n",
    "                             'year',\n",
    "                             'activity',\n",
    "                             'food_supply_stage'])"
   ]
  },
  {
   "cell_type": "code",
   "execution_count": 31,
   "id": "1849db30-888c-4945-9229-298a94b3e138",
   "metadata": {},
   "outputs": [],
   "source": [
    "X = df_dummy.drop(columns = ['loss_percentage',\n",
    "                            'loss_percentage_original'])\n",
    "y = df_dummy['loss_percentage']"
   ]
  },
  {
   "cell_type": "code",
   "execution_count": 32,
   "id": "e604de5c-ca46-4ea4-93c1-e56a1f6fc18b",
   "metadata": {},
   "outputs": [],
   "source": [
    "X_train, X_test, y_train, y_test = train_test_split(X, y, random_state = 42)"
   ]
  },
  {
   "cell_type": "markdown",
   "id": "8a56765e-11ea-4665-8425-dddcb5e3b665",
   "metadata": {},
   "source": [
    "### Linear Regression\n",
    "Regression problem with continous variables"
   ]
  },
  {
   "cell_type": "code",
   "execution_count": 39,
   "id": "9f90e8de-8f09-4954-b740-38a32bb4d7df",
   "metadata": {},
   "outputs": [],
   "source": [
    "lr_pipe = Pipeline([\n",
    "    ('ss', StandardScaler()),\n",
    "    ('lr', LinearRegression())\n",
    "])"
   ]
  },
  {
   "cell_type": "code",
   "execution_count": 45,
   "id": "d758a0bd-42d0-4f7e-a32d-14e9f21a20bb",
   "metadata": {},
   "outputs": [],
   "source": [
    "lr_params = {\n",
    "    'ss__with_mean': [False, True],\n",
    "    'ss__with_std': [False, True],\n",
    "    'lr__fit_intercept': [False, True],\n",
    "    'lr__n_jobs': [25, 50, 100, 250],\n",
    "    'lr__positive': [False, True]\n",
    "}"
   ]
  },
  {
   "cell_type": "code",
   "execution_count": 46,
   "id": "22c08886-87d0-41ee-a21b-4d90ae4912eb",
   "metadata": {
    "scrolled": true,
    "tags": []
   },
   "outputs": [
    {
     "data": {
      "text/plain": [
       "\"Best Score: 0.5438935237502853, Params: {'lr__fit_intercept': False, 'lr__n_jobs': 25, 'lr__positive': True, 'ss__with_mean': False, 'ss__with_std': True}\""
      ]
     },
     "execution_count": 46,
     "metadata": {},
     "output_type": "execute_result"
    }
   ],
   "source": [
    "best_params(lr_pipe, lr_params, X_train, y_train)"
   ]
  },
  {
   "cell_type": "code",
   "execution_count": 47,
   "id": "b7f287f1-174d-47ec-b225-523a49b6d337",
   "metadata": {},
   "outputs": [],
   "source": [
    "lr_gs = return_gs(lr_pipe, lr_params, X_train, y_train)"
   ]
  },
  {
   "cell_type": "code",
   "execution_count": 48,
   "id": "89609e6d-0519-4a33-a1a7-7b1755b14b26",
   "metadata": {},
   "outputs": [
    {
     "data": {
      "text/plain": [
       "'Train Score: 0.5838162671183593, Test Score: 0.5290938842000981'"
      ]
     },
     "execution_count": 48,
     "metadata": {},
     "output_type": "execute_result"
    }
   ],
   "source": [
    "scores(lr_gs, X_train, y_train, X_test, y_test)"
   ]
  },
  {
   "cell_type": "markdown",
   "id": "1b6da494-8bc6-4c2b-8955-ded86c11a580",
   "metadata": {},
   "source": [
    "### Random Forest"
   ]
  },
  {
   "cell_type": "code",
   "execution_count": 55,
   "id": "ed01143d-aaae-4a56-8bb2-ea5ad7ce548d",
   "metadata": {},
   "outputs": [],
   "source": [
    "rfr_pipe = Pipeline([\n",
    "    ('ss', StandardScaler()),\n",
    "    ('rfr', RandomForestRegressor())\n",
    "])"
   ]
  },
  {
   "cell_type": "code",
   "execution_count": 56,
   "id": "2ee02c0c-0e93-4ea7-bd2d-2cd4dc91ab21",
   "metadata": {},
   "outputs": [],
   "source": [
    "rfr_params = {\n",
    "    'ss__with_mean': [False, True],\n",
    "    'ss__with_std': [False, True],\n",
    "    'rfr__n_estimators': [100, 150, 200, 250],\n",
    "    'rfr__bootstrap': [True, False]\n",
    "    \n",
    "}"
   ]
  },
  {
   "cell_type": "code",
   "execution_count": 57,
   "id": "f265b693-6cc9-4583-b009-797621d7b34e",
   "metadata": {},
   "outputs": [
    {
     "data": {
      "text/plain": [
       "\"Best Score: 0.7214188183619951, Params: {'rfr__bootstrap': True, 'rfr__n_estimators': 100, 'ss__with_mean': False, 'ss__with_std': False}\""
      ]
     },
     "execution_count": 57,
     "metadata": {},
     "output_type": "execute_result"
    }
   ],
   "source": [
    "best_params(rfr_pipe, rfr_params, X_train, y_train)"
   ]
  },
  {
   "cell_type": "code",
   "execution_count": 58,
   "id": "b4627cdc-d467-4d82-a31d-9d2f17441e1d",
   "metadata": {},
   "outputs": [],
   "source": [
    "rfr_gs = return_gs(rfr_pipe, rfr_params, X_train, y_train)"
   ]
  },
  {
   "cell_type": "code",
   "execution_count": 59,
   "id": "13351e9a-be04-4f10-bc0a-83d25a2643d5",
   "metadata": {},
   "outputs": [
    {
     "data": {
      "text/plain": [
       "'Train Score: 0.9327441610043699, Test Score: 0.7034672482884989'"
      ]
     },
     "execution_count": 59,
     "metadata": {},
     "output_type": "execute_result"
    }
   ],
   "source": [
    "scores(rfr_gs, X_train, y_train, X_test, y_test)"
   ]
  },
  {
   "cell_type": "code",
   "execution_count": null,
   "id": "eec60cf8-0d9d-4021-bd2d-e2dc7070b305",
   "metadata": {},
   "outputs": [],
   "source": [
    "# yikes so overfit"
   ]
  },
  {
   "cell_type": "markdown",
   "id": "f6d750da-f8c7-4ba6-ab8c-d8e9e9a622e3",
   "metadata": {},
   "source": [
    "### AdaBoostRegressor"
   ]
  },
  {
   "cell_type": "code",
   "execution_count": 33,
   "id": "0863ee9b-b5c2-426b-b6bc-90d6e1691a92",
   "metadata": {},
   "outputs": [],
   "source": [
    "ada_pipe = Pipeline([\n",
    "    ('ss', StandardScaler()),\n",
    "    ('ada', AdaBoostRegressor())\n",
    "])"
   ]
  },
  {
   "cell_type": "code",
   "execution_count": 34,
   "id": "8f734260-8b7a-48d1-a7cd-68ddced02997",
   "metadata": {},
   "outputs": [],
   "source": [
    "ada_params = {\n",
    "    'ss__with_mean': [False, True],\n",
    "    'ss__with_std': [False, True],\n",
    "    'ada__n_estimators': [25, 50, 100, 150, 200],\n",
    "    'ada__learning_rate': [1, 0.9, 1.1]\n",
    "}"
   ]
  },
  {
   "cell_type": "code",
   "execution_count": 35,
   "id": "2e78c9ba-ee1c-4cae-aeb5-583bc406a553",
   "metadata": {},
   "outputs": [
    {
     "data": {
      "text/plain": [
       "\"Best Score: -0.22695060771379144, Params: {'ada__learning_rate': 1.1, 'ada__n_estimators': 50, 'ss__with_mean': False, 'ss__with_std': True}\""
      ]
     },
     "execution_count": 35,
     "metadata": {},
     "output_type": "execute_result"
    }
   ],
   "source": [
    "best_params(ada_pipe, ada_params, X_train, y_train)"
   ]
  },
  {
   "cell_type": "code",
   "execution_count": 36,
   "id": "d660eca0-83a5-4aea-a992-e39d44874ecb",
   "metadata": {},
   "outputs": [],
   "source": [
    "ada_gs = return_gs(ada_pipe, ada_params, X_train, y_train)"
   ]
  },
  {
   "cell_type": "code",
   "execution_count": 37,
   "id": "5f84f7a1-0dc6-4243-9fb0-00ea7b03aba7",
   "metadata": {},
   "outputs": [
    {
     "data": {
      "text/plain": [
       "'Train Score: -0.374967855860741, Test Score: -0.4241848078985586'"
      ]
     },
     "execution_count": 37,
     "metadata": {},
     "output_type": "execute_result"
    }
   ],
   "source": [
    "scores(ada_gs, X_train, y_train, X_test, y_test)"
   ]
  },
  {
   "cell_type": "markdown",
   "id": "30426e54-8a74-4860-8876-06cbed768729",
   "metadata": {},
   "source": [
    "### Classification?"
   ]
  },
  {
   "cell_type": "code",
   "execution_count": null,
   "id": "b265be21-97ee-4e28-94f8-f4c73e4a1601",
   "metadata": {},
   "outputs": [],
   "source": [
    "# classify food categories"
   ]
  },
  {
   "cell_type": "code",
   "execution_count": null,
   "id": "5534fbc5-0715-4a4f-8d4c-eb57f4ec6f89",
   "metadata": {},
   "outputs": [],
   "source": []
  },
  {
   "cell_type": "code",
   "execution_count": null,
   "id": "4e51c69b-0e80-44ac-9b8b-63a946bb59c8",
   "metadata": {},
   "outputs": [],
   "source": []
  },
  {
   "cell_type": "code",
   "execution_count": null,
   "id": "38ab29cf-9dde-4db5-b29a-2a8bd4390519",
   "metadata": {},
   "outputs": [],
   "source": []
  },
  {
   "cell_type": "code",
   "execution_count": null,
   "id": "a41c7cf3-c21b-4ce5-9bb2-38b779fddd17",
   "metadata": {},
   "outputs": [],
   "source": []
  },
  {
   "cell_type": "code",
   "execution_count": null,
   "id": "f74ac879-ed2f-4044-bc10-3017022d0613",
   "metadata": {},
   "outputs": [],
   "source": []
  },
  {
   "cell_type": "code",
   "execution_count": null,
   "id": "b8a9fb34-c42f-4957-9297-4f8a0547484c",
   "metadata": {},
   "outputs": [],
   "source": []
  },
  {
   "cell_type": "code",
   "execution_count": null,
   "id": "598cb528-a5e5-4d59-a8d0-c14ba63a9653",
   "metadata": {},
   "outputs": [],
   "source": []
  },
  {
   "cell_type": "code",
   "execution_count": null,
   "id": "7cbb5d2d-b8e1-4e1d-a3ff-4f9c237079b7",
   "metadata": {},
   "outputs": [],
   "source": []
  }
 ],
 "metadata": {
  "kernelspec": {
   "display_name": "Python 3 (ipykernel)",
   "language": "python",
   "name": "python3"
  },
  "language_info": {
   "codemirror_mode": {
    "name": "ipython",
    "version": 3
   },
   "file_extension": ".py",
   "mimetype": "text/x-python",
   "name": "python",
   "nbconvert_exporter": "python",
   "pygments_lexer": "ipython3",
   "version": "3.9.13"
  }
 },
 "nbformat": 4,
 "nbformat_minor": 5
}
