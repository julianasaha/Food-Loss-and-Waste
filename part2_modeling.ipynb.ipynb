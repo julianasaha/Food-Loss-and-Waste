{
 "cells": [
  {
   "cell_type": "markdown",
   "id": "2c398e91-f8a9-438c-a1e7-44ea861d9353",
   "metadata": {
    "tags": []
   },
   "source": [
    "## Imports"
   ]
  },
  {
   "cell_type": "code",
   "execution_count": 1,
   "id": "520c3d37-daf3-4295-abcf-4a94f473c7e6",
   "metadata": {},
   "outputs": [],
   "source": [
    "import pandas as pd\n",
    "import numpy as np\n",
    "import matplotlib.pyplot as plt\n",
    "import seaborn as sns\n",
    "import random\n",
    "\n",
    "# encoding imports\n",
    "from sklearn.impute import SimpleImputer\n",
    "from sklearn.preprocessing import LabelEncoder\n",
    "\n",
    "# evaluation imports\n",
    "from sklearn import metrics\n",
    "from sklearn.metrics import recall_score, precision_score, f1_score, accuracy_score\n",
    "from sklearn.metrics import confusion_matrix\n",
    "from sklearn.metrics import ConfusionMatrixDisplay\n",
    "\n",
    "from sklearn.model_selection import train_test_split, cross_val_score, GridSearchCV\n",
    "from sklearn.preprocessing import StandardScaler, PolynomialFeatures\n",
    "from sklearn.pipeline import Pipeline\n",
    "\n",
    "# modeling imports\n",
    "from sklearn.linear_model import LinearRegression, LogisticRegression\n",
    "from sklearn.ensemble import RandomForestRegressor, AdaBoostRegressor, StackingRegressor, BaggingRegressor, GradientBoostingRegressor \n",
    "from sklearn.tree import DecisionTreeRegressor\n",
    "from sklearn.ensemble import RandomForestClassifier, BaggingClassifier\n",
    "from sklearn.tree import DecisionTreeClassifier\n",
    "from sklearn.svm import SVR\n",
    "\n",
    "# imbalanced modeling\n",
    "from imblearn.over_sampling import ADASYN\n",
    "from imblearn.over_sampling import SMOTE\n",
    "from imblearn.pipeline import make_pipeline"
   ]
  },
  {
   "cell_type": "markdown",
   "id": "8c027586-074a-4171-b444-3e0443d4d995",
   "metadata": {},
   "source": [
    "---"
   ]
  },
  {
   "cell_type": "markdown",
   "id": "e41ee768-e902-4111-aff8-b5e142b3689a",
   "metadata": {},
   "source": [
    "## Title: Overview? Description?"
   ]
  },
  {
   "cell_type": "markdown",
   "id": "3c9ee1c2-d4e8-46ae-9a4d-a29e38b59c35",
   "metadata": {},
   "source": [
    "For this project, we are exploring two types of models, classification and regression. We going to see if we create a model that will predict the loss_percentage given a country while also identifying accurately which food stage is highly associated with food loss. \n",
    "\n",
    "The models we explored include:\n"
   ]
  },
  {
   "cell_type": "markdown",
   "id": "5a5ebe31-6264-446b-b00b-59f2b7fc108c",
   "metadata": {},
   "source": [
    "---"
   ]
  },
  {
   "cell_type": "markdown",
   "id": "fb67e24e-cdbc-442f-b936-9fcf9cd0b375",
   "metadata": {},
   "source": [
    "## [EDIT]: File Path"
   ]
  },
  {
   "cell_type": "code",
   "execution_count": 5,
   "id": "494e2e44-673f-4b78-bb71-4d92a2d7b186",
   "metadata": {},
   "outputs": [],
   "source": [
    "np.random.seed(42)"
   ]
  },
  {
   "cell_type": "code",
   "execution_count": 6,
   "id": "44551c3e-3a73-44ec-8244-cb245c871d06",
   "metadata": {},
   "outputs": [
    {
     "data": {
      "text/html": [
       "<div>\n",
       "<style scoped>\n",
       "    .dataframe tbody tr th:only-of-type {\n",
       "        vertical-align: middle;\n",
       "    }\n",
       "\n",
       "    .dataframe tbody tr th {\n",
       "        vertical-align: top;\n",
       "    }\n",
       "\n",
       "    .dataframe thead th {\n",
       "        text-align: right;\n",
       "    }\n",
       "</style>\n",
       "<table border=\"1\" class=\"dataframe\">\n",
       "  <thead>\n",
       "    <tr style=\"text-align: right;\">\n",
       "      <th></th>\n",
       "      <th>Latitude</th>\n",
       "      <th>Longitude</th>\n",
       "      <th>country</th>\n",
       "      <th>commodity</th>\n",
       "      <th>year</th>\n",
       "      <th>loss_percentage</th>\n",
       "      <th>activity</th>\n",
       "      <th>food_supply_stage</th>\n",
       "    </tr>\n",
       "  </thead>\n",
       "  <tbody>\n",
       "    <tr>\n",
       "      <th>0</th>\n",
       "      <td>33.0</td>\n",
       "      <td>65.0</td>\n",
       "      <td>Afghanistan</td>\n",
       "      <td>Wheat</td>\n",
       "      <td>2017</td>\n",
       "      <td>15.00</td>\n",
       "      <td>wsc</td>\n",
       "      <td>Whole supply chain</td>\n",
       "    </tr>\n",
       "    <tr>\n",
       "      <th>1</th>\n",
       "      <td>33.0</td>\n",
       "      <td>65.0</td>\n",
       "      <td>Afghanistan</td>\n",
       "      <td>Maize (corn)</td>\n",
       "      <td>2017</td>\n",
       "      <td>14.95</td>\n",
       "      <td>wsc</td>\n",
       "      <td>Whole supply chain</td>\n",
       "    </tr>\n",
       "    <tr>\n",
       "      <th>2</th>\n",
       "      <td>33.0</td>\n",
       "      <td>65.0</td>\n",
       "      <td>Afghanistan</td>\n",
       "      <td>Rice</td>\n",
       "      <td>2017</td>\n",
       "      <td>7.09</td>\n",
       "      <td>wsc</td>\n",
       "      <td>Whole supply chain</td>\n",
       "    </tr>\n",
       "    <tr>\n",
       "      <th>3</th>\n",
       "      <td>33.0</td>\n",
       "      <td>65.0</td>\n",
       "      <td>Afghanistan</td>\n",
       "      <td>Barley</td>\n",
       "      <td>2017</td>\n",
       "      <td>14.74</td>\n",
       "      <td>wsc</td>\n",
       "      <td>Whole supply chain</td>\n",
       "    </tr>\n",
       "    <tr>\n",
       "      <th>4</th>\n",
       "      <td>33.0</td>\n",
       "      <td>65.0</td>\n",
       "      <td>Afghanistan</td>\n",
       "      <td>Wheat</td>\n",
       "      <td>2016</td>\n",
       "      <td>15.02</td>\n",
       "      <td>wsc</td>\n",
       "      <td>Whole supply chain</td>\n",
       "    </tr>\n",
       "  </tbody>\n",
       "</table>\n",
       "</div>"
      ],
      "text/plain": [
       "   Latitude  Longitude      country     commodity  year  loss_percentage  \\\n",
       "0      33.0       65.0  Afghanistan         Wheat  2017            15.00   \n",
       "1      33.0       65.0  Afghanistan  Maize (corn)  2017            14.95   \n",
       "2      33.0       65.0  Afghanistan          Rice  2017             7.09   \n",
       "3      33.0       65.0  Afghanistan        Barley  2017            14.74   \n",
       "4      33.0       65.0  Afghanistan         Wheat  2016            15.02   \n",
       "\n",
       "  activity   food_supply_stage  \n",
       "0      wsc  Whole supply chain  \n",
       "1      wsc  Whole supply chain  \n",
       "2      wsc  Whole supply chain  \n",
       "3      wsc  Whole supply chain  \n",
       "4      wsc  Whole supply chain  "
      ]
     },
     "execution_count": 6,
     "metadata": {},
     "output_type": "execute_result"
    }
   ],
   "source": [
    "df = pd.read_csv('./data/clean_data.csv')\n",
    "df.head()"
   ]
  },
  {
   "cell_type": "markdown",
   "id": "262efd7b-4c8c-4eea-8ff6-36eef845f532",
   "metadata": {},
   "source": [
    "---"
   ]
  },
  {
   "cell_type": "markdown",
   "id": "0c079891-e2a8-42eb-ab16-f018421bcede",
   "metadata": {},
   "source": [
    "## Functions\n",
    "\n",
    "### GridSearch Functions\n",
    "* best_params: returns the best score and paramters for pipeline/model\n",
    "* return_gs: returns the optimal paramters of a pipeline/model\n",
    "* tts_scores: returns the Train and Test scores of a pipeline/model"
   ]
  },
  {
   "cell_type": "code",
   "execution_count": 7,
   "id": "053bab44-ba6d-4af5-ba9a-cd7d3dc44e0d",
   "metadata": {},
   "outputs": [],
   "source": [
    "def best_params(pipeline, params, X_train, y_train):\n",
    "    gs = GridSearchCV(pipeline,\n",
    "                      param_grid = params,\n",
    "                      n_jobs=-1, \n",
    "                      cv = 3)\n",
    "\n",
    "    gs.fit(X_train, y_train)\n",
    "    \n",
    "    return f'Best Score: {gs.best_score_}, Params: {gs.best_params_}'"
   ]
  },
  {
   "cell_type": "code",
   "execution_count": 8,
   "id": "4ab3eb1a-edea-4311-af18-d8c43645955d",
   "metadata": {},
   "outputs": [],
   "source": [
    "def return_gs(pipeline, params, X_train, y_train):\n",
    "    gs = GridSearchCV(pipeline,\n",
    "                      param_grid = params,\n",
    "                      n_jobs=-1, \n",
    "                      cv = 3)\n",
    "    return gs"
   ]
  },
  {
   "cell_type": "code",
   "execution_count": 9,
   "id": "c53efdc6-c052-4171-bee4-a8872ca20e74",
   "metadata": {},
   "outputs": [],
   "source": [
    "def tts_scores(gs, X_train, y_train, X_test, y_test):\n",
    "    gs.fit(X_train, y_train)\n",
    "    \n",
    "    return f'Train Score: {gs.score(X_train, y_train)}, Test Score: {gs.score(X_test, y_test)}'"
   ]
  },
  {
   "cell_type": "markdown",
   "id": "8fd5d244-bac0-48d8-b2da-cc0cb60dcd73",
   "metadata": {},
   "source": [
    "---"
   ]
  },
  {
   "cell_type": "markdown",
   "id": "fcec64a1-7e43-4bb4-acac-b587c37379a3",
   "metadata": {},
   "source": [
    "### Evaluation Functions"
   ]
  },
  {
   "cell_type": "markdown",
   "id": "e458e5f9-ff50-4d52-913b-cea3942f8235",
   "metadata": {},
   "source": [
    "* predictions: accepts a pipeline and returns the predictions for y\n",
    "* regression_scores: returns DataFrame of data for a model and its regression metric scores (R2, MSE, and RMSE)\n",
    "* classification_scores: returns DataFrame of data fro a model and its classification metric scores (recall, precision, f1, accuracy)"
   ]
  },
  {
   "cell_type": "code",
   "execution_count": 10,
   "id": "ba2c36ea-f93f-494d-b8e8-583d6e479a01",
   "metadata": {},
   "outputs": [],
   "source": [
    "def predictions(pipeline, X_train, X_test, y_train):\n",
    "    pipeline.fit(X_train, y_train)\n",
    "    prediction = pipeline.predict(X_test)\n",
    "    \n",
    "    return prediction"
   ]
  },
  {
   "cell_type": "code",
   "execution_count": 11,
   "id": "165102f8-f7e7-4f81-95ca-baa3758243fb",
   "metadata": {},
   "outputs": [],
   "source": [
    "def regression_scores(model, y_test, y_pred):\n",
    "    dataframe = pd.DataFrame(columns = ['R2', 'MSE', 'RMSE'])\n",
    "    \n",
    "    r2 = metrics.r2_score(y_test, y_pred)\n",
    "    mse = metrics.mean_squared_error(y_test, y_pred)\n",
    "    rmse = np.sqrt(mse)\n",
    "    \n",
    "    dataframe.loc[model] = [r2, mse, rmse]\n",
    "    \n",
    "    pd.options.display.float_format = '{:.4f}'.format \n",
    "    \n",
    "    return dataframe"
   ]
  },
  {
   "cell_type": "code",
   "execution_count": 12,
   "id": "db856adc-853d-4b8b-9a5c-29d9f4aa7bb8",
   "metadata": {},
   "outputs": [],
   "source": [
    "def classification_scores(model, y_test, y_pred):\n",
    "    dataframe = pd.DataFrame(columns = ['Recall', 'Precision', 'F1', 'Accuracy'])\n",
    "    \n",
    "    recall = recall_score(y_test, y_pred, average = 'micro')\n",
    "    precision = precision_score(y_test, y_pred, average = 'micro')\n",
    "    f1 = f1_score(y_test, y_pred, average = 'micro')\n",
    "    accuracy = accuracy_score(y_test, y_pred)\n",
    "    \n",
    "    dataframe.loc[model] = [recall, precision, f1, accuracy]\n",
    "    \n",
    "    return dataframe"
   ]
  },
  {
   "cell_type": "markdown",
   "id": "b822c2e5-5951-4fc0-8116-cc2ff78552e8",
   "metadata": {},
   "source": [
    "---"
   ]
  },
  {
   "cell_type": "markdown",
   "id": "c09cf8c1-c850-454e-8192-06f1597c2777",
   "metadata": {},
   "source": [
    "### Train-Test-Split (for Regression Modeling)"
   ]
  },
  {
   "cell_type": "code",
   "execution_count": 13,
   "id": "de0da4b7-0bfd-40ef-94dd-a31169112f6e",
   "metadata": {},
   "outputs": [
    {
     "name": "stdout",
     "output_type": "stream",
     "text": [
      "<class 'pandas.core.frame.DataFrame'>\n",
      "RangeIndex: 23810 entries, 0 to 23809\n",
      "Data columns (total 8 columns):\n",
      " #   Column             Non-Null Count  Dtype  \n",
      "---  ------             --------------  -----  \n",
      " 0   Latitude           23810 non-null  float64\n",
      " 1   Longitude          23810 non-null  float64\n",
      " 2   country            23810 non-null  object \n",
      " 3   commodity          23810 non-null  object \n",
      " 4   year               23810 non-null  int64  \n",
      " 5   loss_percentage    23810 non-null  float64\n",
      " 6   activity           23810 non-null  object \n",
      " 7   food_supply_stage  23810 non-null  object \n",
      "dtypes: float64(3), int64(1), object(4)\n",
      "memory usage: 1.5+ MB\n"
     ]
    }
   ],
   "source": [
    "df.info()"
   ]
  },
  {
   "cell_type": "markdown",
   "id": "e93ce4fd-be02-49d7-afb1-60641df872c5",
   "metadata": {},
   "source": [
    "* Note: We encoded year as a dummy variable as it being an integer may have the model believe it has numerical value to the data"
   ]
  },
  {
   "cell_type": "code",
   "execution_count": 174,
   "id": "8a9aff67-597f-436e-a861-30a4db7e1823",
   "metadata": {},
   "outputs": [],
   "source": [
    "df_dummy = pd.get_dummies(df, columns = ['country',\n",
    "                                         'commodity', \n",
    "                                         'year',\n",
    "                                         'activity',\n",
    "                                         'food_supply_stage'])"
   ]
  },
  {
   "cell_type": "code",
   "execution_count": 175,
   "id": "d1562552-e23d-4875-9513-3fc53e16a11c",
   "metadata": {},
   "outputs": [],
   "source": [
    "X = df_dummy.drop(columns = 'loss_percentage')\n",
    "y = df_dummy['loss_percentage']"
   ]
  },
  {
   "cell_type": "code",
   "execution_count": 176,
   "id": "822c506b-522a-4229-bb72-f205eccba850",
   "metadata": {},
   "outputs": [],
   "source": [
    "X_train, X_test, y_train, y_test = train_test_split(X, y, random_state = 42)"
   ]
  },
  {
   "cell_type": "markdown",
   "id": "a46208dc-abf2-45ab-8cfb-81a5849fe6d4",
   "metadata": {},
   "source": [
    "---"
   ]
  },
  {
   "cell_type": "markdown",
   "id": "73267439-7764-4a8e-9122-2d2101b89dba",
   "metadata": {},
   "source": [
    "## Regression Models\n",
    "\n",
    "Insert description of problem statement\n",
    "\n",
    "* Best:\n",
    "* Other:"
   ]
  },
  {
   "cell_type": "markdown",
   "id": "bdeaad7a-6b2e-4639-9159-bc5cf0c6e159",
   "metadata": {},
   "source": [
    "### Baseline Accuracy"
   ]
  },
  {
   "cell_type": "code",
   "execution_count": 111,
   "id": "94a2bcbf-3748-4b31-8089-052645990d1c",
   "metadata": {},
   "outputs": [],
   "source": [
    "def bl_compare(model, pred):\n",
    "    dataframe = pd.DataFrame(columns = ['Mean'])\n",
    "    \n",
    "    pipe_median = np.mean(pred)\n",
    "    \n",
    "    dataframe.loc[model] = [pipe_median]\n",
    "\n",
    "    return dataframe"
   ]
  },
  {
   "cell_type": "code",
   "execution_count": 112,
   "id": "55d3d9e0-c32a-4b42-8207-c44286fef7d2",
   "metadata": {},
   "outputs": [],
   "source": [
    "bl_mean = np.mean(y_train)"
   ]
  },
  {
   "cell_type": "code",
   "execution_count": 113,
   "id": "8905f853-583c-41ec-97ea-19eb061dee6d",
   "metadata": {},
   "outputs": [],
   "source": [
    "bl_pred = np.full_like(y_test, bl_mean)"
   ]
  },
  {
   "cell_type": "code",
   "execution_count": 114,
   "id": "ce819fdc-d71a-49e3-996d-fa2de29a0f15",
   "metadata": {},
   "outputs": [
    {
     "data": {
      "text/html": [
       "<div>\n",
       "<style scoped>\n",
       "    .dataframe tbody tr th:only-of-type {\n",
       "        vertical-align: middle;\n",
       "    }\n",
       "\n",
       "    .dataframe tbody tr th {\n",
       "        vertical-align: top;\n",
       "    }\n",
       "\n",
       "    .dataframe thead th {\n",
       "        text-align: right;\n",
       "    }\n",
       "</style>\n",
       "<table border=\"1\" class=\"dataframe\">\n",
       "  <thead>\n",
       "    <tr style=\"text-align: right;\">\n",
       "      <th></th>\n",
       "      <th>R2</th>\n",
       "      <th>MSE</th>\n",
       "      <th>RMSE</th>\n",
       "    </tr>\n",
       "  </thead>\n",
       "  <tbody>\n",
       "    <tr>\n",
       "      <th>Baseline</th>\n",
       "      <td>-0.0001</td>\n",
       "      <td>26.7990</td>\n",
       "      <td>5.1768</td>\n",
       "    </tr>\n",
       "  </tbody>\n",
       "</table>\n",
       "</div>"
      ],
      "text/plain": [
       "              R2     MSE   RMSE\n",
       "Baseline -0.0001 26.7990 5.1768"
      ]
     },
     "execution_count": 114,
     "metadata": {},
     "output_type": "execute_result"
    }
   ],
   "source": [
    "regression_scores('Baseline', y_test, bl_pred)"
   ]
  },
  {
   "cell_type": "code",
   "execution_count": 115,
   "id": "4cb7a1c9-b673-4a2c-a96c-cbc52d017907",
   "metadata": {},
   "outputs": [
    {
     "data": {
      "text/html": [
       "<div>\n",
       "<style scoped>\n",
       "    .dataframe tbody tr th:only-of-type {\n",
       "        vertical-align: middle;\n",
       "    }\n",
       "\n",
       "    .dataframe tbody tr th {\n",
       "        vertical-align: top;\n",
       "    }\n",
       "\n",
       "    .dataframe thead th {\n",
       "        text-align: right;\n",
       "    }\n",
       "</style>\n",
       "<table border=\"1\" class=\"dataframe\">\n",
       "  <thead>\n",
       "    <tr style=\"text-align: right;\">\n",
       "      <th></th>\n",
       "      <th>Mean</th>\n",
       "    </tr>\n",
       "  </thead>\n",
       "  <tbody>\n",
       "    <tr>\n",
       "      <th>Baseline</th>\n",
       "      <td>3.9391</td>\n",
       "    </tr>\n",
       "  </tbody>\n",
       "</table>\n",
       "</div>"
      ],
      "text/plain": [
       "           Mean\n",
       "Baseline 3.9391"
      ]
     },
     "execution_count": 115,
     "metadata": {},
     "output_type": "execute_result"
    }
   ],
   "source": [
    "bl_compare('Baseline', bl_pred)"
   ]
  },
  {
   "cell_type": "markdown",
   "id": "7b2b895d-292f-4a4f-b5d2-dbcaf8b8f576",
   "metadata": {
    "tags": []
   },
   "source": [
    "### Random Forest Regressor"
   ]
  },
  {
   "cell_type": "code",
   "execution_count": 177,
   "id": "58c4ffff-a34b-4b9f-b219-30b47d98825d",
   "metadata": {},
   "outputs": [],
   "source": [
    "rfr_pipe = Pipeline([\n",
    "    ('ss', StandardScaler()),\n",
    "    ('rfr', RandomForestRegressor())\n",
    "])"
   ]
  },
  {
   "cell_type": "code",
   "execution_count": 178,
   "id": "dcf03ceb-e6c7-4b73-b257-47fc1ed13c41",
   "metadata": {},
   "outputs": [],
   "source": [
    "rfr_params = {\n",
    "    'ss__with_mean': [False, True],\n",
    "    'ss__with_std': [False, True],\n",
    "    'rfr__n_estimators': [100, 150, 200, 250],\n",
    "    'rfr__max_depth': [None, 10,50,80],\n",
    "    'rfr__min_samples_leaf': [1,3, 4, 5]\n",
    "}"
   ]
  },
  {
   "cell_type": "code",
   "execution_count": 179,
   "id": "03520505-bc75-4825-876e-14c0d9a6be05",
   "metadata": {},
   "outputs": [
    {
     "data": {
      "text/plain": [
       "\"Best Score: 0.6675328082564227, Params: {'rfr__max_depth': None, 'rfr__min_samples_leaf': 1, 'rfr__n_estimators': 150, 'ss__with_mean': True, 'ss__with_std': True}\""
      ]
     },
     "execution_count": 179,
     "metadata": {},
     "output_type": "execute_result"
    }
   ],
   "source": [
    "best_params(rfr_pipe, rfr_params, X_train, y_train)"
   ]
  },
  {
   "cell_type": "code",
   "execution_count": 180,
   "id": "cb3dcda0-df91-4cc1-b7a2-f6e892201813",
   "metadata": {},
   "outputs": [],
   "source": [
    "rfr_gs = return_gs(rfr_pipe, rfr_params, X_train, y_train)"
   ]
  },
  {
   "cell_type": "code",
   "execution_count": null,
   "id": "94d887fd-46a6-4dc0-ab43-21e25d82aa0d",
   "metadata": {},
   "outputs": [],
   "source": [
    "tts_scores(rfr_gs, X_train, y_train, X_test, y_test)"
   ]
  },
  {
   "cell_type": "code",
   "execution_count": null,
   "id": "5feeb2a0-dc20-4a02-be4b-691cece994b9",
   "metadata": {},
   "outputs": [],
   "source": [
    "cross_val_score(rfr_pipe, X_train, y_train, cv=3).mean()"
   ]
  },
  {
   "cell_type": "code",
   "execution_count": null,
   "id": "266a734b-6e15-4c7a-936d-a4996c8d8996",
   "metadata": {},
   "outputs": [],
   "source": [
    "rfr_pred = predictions(rfr_pipe, X_train, X_test, y_train)"
   ]
  },
  {
   "cell_type": "code",
   "execution_count": null,
   "id": "4d4da758-efbf-41d2-8208-ef90ac5548ca",
   "metadata": {},
   "outputs": [],
   "source": [
    "regression_scores('RandomForest', y_test, rfr_pred)"
   ]
  },
  {
   "cell_type": "markdown",
   "id": "88437464-2027-4d41-9e5d-51f503654398",
   "metadata": {
    "jp-MarkdownHeadingCollapsed": true,
    "tags": []
   },
   "source": [
    "### Decision Tree Regressor\n",
    "\n",
    "[finished, add description]\n",
    "readability"
   ]
  },
  {
   "cell_type": "code",
   "execution_count": 50,
   "id": "eaf7f7c5-231e-4b8e-af2d-7e4462531477",
   "metadata": {},
   "outputs": [],
   "source": [
    "dtr_pipe = Pipeline([\n",
    "    ('ss', StandardScaler()),\n",
    "    ('dtr', DecisionTreeRegressor())\n",
    "])"
   ]
  },
  {
   "cell_type": "code",
   "execution_count": 51,
   "id": "60fbbdf2-f487-408c-8dd6-ac7f035b42c9",
   "metadata": {},
   "outputs": [],
   "source": [
    "dtr_params = {\n",
    "    'ss__with_mean': [False, True],\n",
    "    'ss__with_std': [False, True],\n",
    "    'dtr__max_depth': [9, 10,13,15],\n",
    "    'dtr__min_samples_split': [15, 18,20],\n",
    "    'dtr__min_samples_leaf': [1, 3, 5]\n",
    "}"
   ]
  },
  {
   "cell_type": "code",
   "execution_count": 52,
   "id": "30e4a7e6-c770-467a-95a8-6b1772f6b4d8",
   "metadata": {
    "scrolled": true,
    "tags": []
   },
   "outputs": [
    {
     "data": {
      "text/plain": [
       "\"Best Score: 0.5147373797899001, Params: {'dtr__max_depth': 15, 'dtr__min_samples_leaf': 1, 'dtr__min_samples_split': 15, 'ss__with_mean': True, 'ss__with_std': False}\""
      ]
     },
     "execution_count": 52,
     "metadata": {},
     "output_type": "execute_result"
    }
   ],
   "source": [
    "best_params(dtr_pipe, dtr_params, X_train, y_train)"
   ]
  },
  {
   "cell_type": "code",
   "execution_count": 53,
   "id": "fa6d2114-50fe-4525-acdc-da9c0eb36a21",
   "metadata": {},
   "outputs": [],
   "source": [
    "dtr_gs = return_gs(dtr_pipe, dtr_params, X_train, y_train)"
   ]
  },
  {
   "cell_type": "code",
   "execution_count": 54,
   "id": "a06d252b-cfd4-4edd-8689-d689079b5e31",
   "metadata": {},
   "outputs": [
    {
     "data": {
      "text/plain": [
       "'Train Score: 0.6928624378266306, Test Score: 0.5704785376327788'"
      ]
     },
     "execution_count": 54,
     "metadata": {},
     "output_type": "execute_result"
    }
   ],
   "source": [
    "tts_scores(dtr_gs, X_train, y_train, X_test, y_test)"
   ]
  },
  {
   "cell_type": "code",
   "execution_count": 55,
   "id": "1d89a928-b01a-4924-96d0-82b8e4b6ea71",
   "metadata": {},
   "outputs": [
    {
     "data": {
      "text/plain": [
       "0.5511820606894577"
      ]
     },
     "execution_count": 55,
     "metadata": {},
     "output_type": "execute_result"
    }
   ],
   "source": [
    "cross_val_score(dtr_pipe, X_train, y_train, cv=3).mean()"
   ]
  },
  {
   "cell_type": "code",
   "execution_count": 56,
   "id": "09f880d2-55aa-47db-95ed-d1bf4ec0c999",
   "metadata": {},
   "outputs": [],
   "source": [
    "dtr_pred = predictions(dtr_pipe, X_train, X_test, y_train)"
   ]
  },
  {
   "cell_type": "code",
   "execution_count": 57,
   "id": "57e2f756-cda9-4e8d-b2f3-117680f847f3",
   "metadata": {},
   "outputs": [
    {
     "data": {
      "text/html": [
       "<div>\n",
       "<style scoped>\n",
       "    .dataframe tbody tr th:only-of-type {\n",
       "        vertical-align: middle;\n",
       "    }\n",
       "\n",
       "    .dataframe tbody tr th {\n",
       "        vertical-align: top;\n",
       "    }\n",
       "\n",
       "    .dataframe thead th {\n",
       "        text-align: right;\n",
       "    }\n",
       "</style>\n",
       "<table border=\"1\" class=\"dataframe\">\n",
       "  <thead>\n",
       "    <tr style=\"text-align: right;\">\n",
       "      <th></th>\n",
       "      <th>R2</th>\n",
       "      <th>MSE</th>\n",
       "      <th>RMSE</th>\n",
       "    </tr>\n",
       "  </thead>\n",
       "  <tbody>\n",
       "    <tr>\n",
       "      <th>DecisionTree</th>\n",
       "      <td>0.6063</td>\n",
       "      <td>10.5502</td>\n",
       "      <td>3.2481</td>\n",
       "    </tr>\n",
       "  </tbody>\n",
       "</table>\n",
       "</div>"
      ],
      "text/plain": [
       "                 R2     MSE   RMSE\n",
       "DecisionTree 0.6063 10.5502 3.2481"
      ]
     },
     "execution_count": 57,
     "metadata": {},
     "output_type": "execute_result"
    }
   ],
   "source": [
    "regression_scores('DecisionTree', y_test, dtr_pred)"
   ]
  },
  {
   "cell_type": "code",
   "execution_count": 116,
   "id": "aea91ea0-ab51-4a4c-ae54-fa5f4b46c82e",
   "metadata": {},
   "outputs": [
    {
     "data": {
      "text/html": [
       "<div>\n",
       "<style scoped>\n",
       "    .dataframe tbody tr th:only-of-type {\n",
       "        vertical-align: middle;\n",
       "    }\n",
       "\n",
       "    .dataframe tbody tr th {\n",
       "        vertical-align: top;\n",
       "    }\n",
       "\n",
       "    .dataframe thead th {\n",
       "        text-align: right;\n",
       "    }\n",
       "</style>\n",
       "<table border=\"1\" class=\"dataframe\">\n",
       "  <thead>\n",
       "    <tr style=\"text-align: right;\">\n",
       "      <th></th>\n",
       "      <th>Mean</th>\n",
       "    </tr>\n",
       "  </thead>\n",
       "  <tbody>\n",
       "    <tr>\n",
       "      <th>DecisionTree</th>\n",
       "      <td>3.8507</td>\n",
       "    </tr>\n",
       "  </tbody>\n",
       "</table>\n",
       "</div>"
      ],
      "text/plain": [
       "               Mean\n",
       "DecisionTree 3.8507"
      ]
     },
     "execution_count": 116,
     "metadata": {},
     "output_type": "execute_result"
    }
   ],
   "source": [
    "bl_compare('DecisionTree', dtr_pred)"
   ]
  },
  {
   "cell_type": "markdown",
   "id": "342c8d0f-e9b9-4a39-8930-eec6ecbdcc5f",
   "metadata": {
    "jp-MarkdownHeadingCollapsed": true,
    "tags": []
   },
   "source": [
    "### Stacking (Regression)\n",
    "\n",
    "[finished, add description]"
   ]
  },
  {
   "cell_type": "code",
   "execution_count": 61,
   "id": "c0c90417-1702-4e16-bab3-91d8e39f1713",
   "metadata": {},
   "outputs": [],
   "source": [
    "level1_estimators =[\n",
    "    ('rfr_pipe', Pipeline([\n",
    "        ('ss', StandardScaler()),\n",
    "        ('rfr', RandomForestRegressor())\n",
    "    ])), \n",
    "    ('dt_pipe', Pipeline([\n",
    "        ('ss', StandardScaler()),\n",
    "        ('dt', DecisionTreeRegressor())\n",
    "    ])),  \n",
    "    ('bag_pipe', Pipeline([\n",
    "        ('ss', StandardScaler()),\n",
    "        ('bag', BaggingRegressor())\n",
    "    ])),       \n",
    "]"
   ]
  },
  {
   "cell_type": "code",
   "execution_count": 62,
   "id": "02cf9f5f-f7cf-464f-b2ce-b39f74374792",
   "metadata": {},
   "outputs": [],
   "source": [
    "stacked_model = StackingRegressor(estimators = level1_estimators,\n",
    "                                 final_estimator = LinearRegression())"
   ]
  },
  {
   "cell_type": "code",
   "execution_count": 63,
   "id": "6c977387-1ee4-4ccb-9d23-6387630d4f76",
   "metadata": {},
   "outputs": [
    {
     "data": {
      "text/plain": [
       "0.6619324829246788"
      ]
     },
     "execution_count": 63,
     "metadata": {},
     "output_type": "execute_result"
    }
   ],
   "source": [
    "cross_val_score(stacked_model, X_train, y_train).mean()"
   ]
  },
  {
   "cell_type": "code",
   "execution_count": 64,
   "id": "5a252bcd-1b0d-4649-a2a4-5e4802ef4588",
   "metadata": {},
   "outputs": [
    {
     "data": {
      "text/html": [
       "<style>#sk-container-id-1 {color: black;background-color: white;}#sk-container-id-1 pre{padding: 0;}#sk-container-id-1 div.sk-toggleable {background-color: white;}#sk-container-id-1 label.sk-toggleable__label {cursor: pointer;display: block;width: 100%;margin-bottom: 0;padding: 0.3em;box-sizing: border-box;text-align: center;}#sk-container-id-1 label.sk-toggleable__label-arrow:before {content: \"▸\";float: left;margin-right: 0.25em;color: #696969;}#sk-container-id-1 label.sk-toggleable__label-arrow:hover:before {color: black;}#sk-container-id-1 div.sk-estimator:hover label.sk-toggleable__label-arrow:before {color: black;}#sk-container-id-1 div.sk-toggleable__content {max-height: 0;max-width: 0;overflow: hidden;text-align: left;background-color: #f0f8ff;}#sk-container-id-1 div.sk-toggleable__content pre {margin: 0.2em;color: black;border-radius: 0.25em;background-color: #f0f8ff;}#sk-container-id-1 input.sk-toggleable__control:checked~div.sk-toggleable__content {max-height: 200px;max-width: 100%;overflow: auto;}#sk-container-id-1 input.sk-toggleable__control:checked~label.sk-toggleable__label-arrow:before {content: \"▾\";}#sk-container-id-1 div.sk-estimator input.sk-toggleable__control:checked~label.sk-toggleable__label {background-color: #d4ebff;}#sk-container-id-1 div.sk-label input.sk-toggleable__control:checked~label.sk-toggleable__label {background-color: #d4ebff;}#sk-container-id-1 input.sk-hidden--visually {border: 0;clip: rect(1px 1px 1px 1px);clip: rect(1px, 1px, 1px, 1px);height: 1px;margin: -1px;overflow: hidden;padding: 0;position: absolute;width: 1px;}#sk-container-id-1 div.sk-estimator {font-family: monospace;background-color: #f0f8ff;border: 1px dotted black;border-radius: 0.25em;box-sizing: border-box;margin-bottom: 0.5em;}#sk-container-id-1 div.sk-estimator:hover {background-color: #d4ebff;}#sk-container-id-1 div.sk-parallel-item::after {content: \"\";width: 100%;border-bottom: 1px solid gray;flex-grow: 1;}#sk-container-id-1 div.sk-label:hover label.sk-toggleable__label {background-color: #d4ebff;}#sk-container-id-1 div.sk-serial::before {content: \"\";position: absolute;border-left: 1px solid gray;box-sizing: border-box;top: 0;bottom: 0;left: 50%;z-index: 0;}#sk-container-id-1 div.sk-serial {display: flex;flex-direction: column;align-items: center;background-color: white;padding-right: 0.2em;padding-left: 0.2em;position: relative;}#sk-container-id-1 div.sk-item {position: relative;z-index: 1;}#sk-container-id-1 div.sk-parallel {display: flex;align-items: stretch;justify-content: center;background-color: white;position: relative;}#sk-container-id-1 div.sk-item::before, #sk-container-id-1 div.sk-parallel-item::before {content: \"\";position: absolute;border-left: 1px solid gray;box-sizing: border-box;top: 0;bottom: 0;left: 50%;z-index: -1;}#sk-container-id-1 div.sk-parallel-item {display: flex;flex-direction: column;z-index: 1;position: relative;background-color: white;}#sk-container-id-1 div.sk-parallel-item:first-child::after {align-self: flex-end;width: 50%;}#sk-container-id-1 div.sk-parallel-item:last-child::after {align-self: flex-start;width: 50%;}#sk-container-id-1 div.sk-parallel-item:only-child::after {width: 0;}#sk-container-id-1 div.sk-dashed-wrapped {border: 1px dashed gray;margin: 0 0.4em 0.5em 0.4em;box-sizing: border-box;padding-bottom: 0.4em;background-color: white;}#sk-container-id-1 div.sk-label label {font-family: monospace;font-weight: bold;display: inline-block;line-height: 1.2em;}#sk-container-id-1 div.sk-label-container {text-align: center;}#sk-container-id-1 div.sk-container {/* jupyter's `normalize.less` sets `[hidden] { display: none; }` but bootstrap.min.css set `[hidden] { display: none !important; }` so we also need the `!important` here to be able to override the default hidden behavior on the sphinx rendered scikit-learn.org. See: https://github.com/scikit-learn/scikit-learn/issues/21755 */display: inline-block !important;position: relative;}#sk-container-id-1 div.sk-text-repr-fallback {display: none;}</style><div id=\"sk-container-id-1\" class=\"sk-top-container\"><div class=\"sk-text-repr-fallback\"><pre>StackingRegressor(estimators=[(&#x27;rfr_pipe&#x27;,\n",
       "                               Pipeline(steps=[(&#x27;ss&#x27;, StandardScaler()),\n",
       "                                               (&#x27;rfr&#x27;,\n",
       "                                                RandomForestRegressor())])),\n",
       "                              (&#x27;dt_pipe&#x27;,\n",
       "                               Pipeline(steps=[(&#x27;ss&#x27;, StandardScaler()),\n",
       "                                               (&#x27;dt&#x27;,\n",
       "                                                DecisionTreeRegressor())])),\n",
       "                              (&#x27;bag_pipe&#x27;,\n",
       "                               Pipeline(steps=[(&#x27;ss&#x27;, StandardScaler()),\n",
       "                                               (&#x27;bag&#x27;, BaggingRegressor())]))],\n",
       "                  final_estimator=LinearRegression())</pre><b>In a Jupyter environment, please rerun this cell to show the HTML representation or trust the notebook. <br />On GitHub, the HTML representation is unable to render, please try loading this page with nbviewer.org.</b></div><div class=\"sk-container\" hidden><div class=\"sk-item sk-dashed-wrapped\"><div class=\"sk-label-container\"><div class=\"sk-label sk-toggleable\"><input class=\"sk-toggleable__control sk-hidden--visually\" id=\"sk-estimator-id-1\" type=\"checkbox\" ><label for=\"sk-estimator-id-1\" class=\"sk-toggleable__label sk-toggleable__label-arrow\">StackingRegressor</label><div class=\"sk-toggleable__content\"><pre>StackingRegressor(estimators=[(&#x27;rfr_pipe&#x27;,\n",
       "                               Pipeline(steps=[(&#x27;ss&#x27;, StandardScaler()),\n",
       "                                               (&#x27;rfr&#x27;,\n",
       "                                                RandomForestRegressor())])),\n",
       "                              (&#x27;dt_pipe&#x27;,\n",
       "                               Pipeline(steps=[(&#x27;ss&#x27;, StandardScaler()),\n",
       "                                               (&#x27;dt&#x27;,\n",
       "                                                DecisionTreeRegressor())])),\n",
       "                              (&#x27;bag_pipe&#x27;,\n",
       "                               Pipeline(steps=[(&#x27;ss&#x27;, StandardScaler()),\n",
       "                                               (&#x27;bag&#x27;, BaggingRegressor())]))],\n",
       "                  final_estimator=LinearRegression())</pre></div></div></div><div class=\"sk-serial\"><div class=\"sk-item\"><div class=\"sk-parallel\"><div class=\"sk-parallel-item\"><div class=\"sk-item\"><div class=\"sk-label-container\"><div class=\"sk-label sk-toggleable\"><label>rfr_pipe</label></div></div><div class=\"sk-serial\"><div class=\"sk-item\"><div class=\"sk-serial\"><div class=\"sk-item\"><div class=\"sk-estimator sk-toggleable\"><input class=\"sk-toggleable__control sk-hidden--visually\" id=\"sk-estimator-id-2\" type=\"checkbox\" ><label for=\"sk-estimator-id-2\" class=\"sk-toggleable__label sk-toggleable__label-arrow\">StandardScaler</label><div class=\"sk-toggleable__content\"><pre>StandardScaler()</pre></div></div></div><div class=\"sk-item\"><div class=\"sk-estimator sk-toggleable\"><input class=\"sk-toggleable__control sk-hidden--visually\" id=\"sk-estimator-id-3\" type=\"checkbox\" ><label for=\"sk-estimator-id-3\" class=\"sk-toggleable__label sk-toggleable__label-arrow\">RandomForestRegressor</label><div class=\"sk-toggleable__content\"><pre>RandomForestRegressor()</pre></div></div></div></div></div></div></div></div><div class=\"sk-parallel-item\"><div class=\"sk-item\"><div class=\"sk-label-container\"><div class=\"sk-label sk-toggleable\"><label>dt_pipe</label></div></div><div class=\"sk-serial\"><div class=\"sk-item\"><div class=\"sk-serial\"><div class=\"sk-item\"><div class=\"sk-estimator sk-toggleable\"><input class=\"sk-toggleable__control sk-hidden--visually\" id=\"sk-estimator-id-4\" type=\"checkbox\" ><label for=\"sk-estimator-id-4\" class=\"sk-toggleable__label sk-toggleable__label-arrow\">StandardScaler</label><div class=\"sk-toggleable__content\"><pre>StandardScaler()</pre></div></div></div><div class=\"sk-item\"><div class=\"sk-estimator sk-toggleable\"><input class=\"sk-toggleable__control sk-hidden--visually\" id=\"sk-estimator-id-5\" type=\"checkbox\" ><label for=\"sk-estimator-id-5\" class=\"sk-toggleable__label sk-toggleable__label-arrow\">DecisionTreeRegressor</label><div class=\"sk-toggleable__content\"><pre>DecisionTreeRegressor()</pre></div></div></div></div></div></div></div></div><div class=\"sk-parallel-item\"><div class=\"sk-item\"><div class=\"sk-label-container\"><div class=\"sk-label sk-toggleable\"><label>bag_pipe</label></div></div><div class=\"sk-serial\"><div class=\"sk-item\"><div class=\"sk-serial\"><div class=\"sk-item\"><div class=\"sk-estimator sk-toggleable\"><input class=\"sk-toggleable__control sk-hidden--visually\" id=\"sk-estimator-id-6\" type=\"checkbox\" ><label for=\"sk-estimator-id-6\" class=\"sk-toggleable__label sk-toggleable__label-arrow\">StandardScaler</label><div class=\"sk-toggleable__content\"><pre>StandardScaler()</pre></div></div></div><div class=\"sk-item\"><div class=\"sk-estimator sk-toggleable\"><input class=\"sk-toggleable__control sk-hidden--visually\" id=\"sk-estimator-id-7\" type=\"checkbox\" ><label for=\"sk-estimator-id-7\" class=\"sk-toggleable__label sk-toggleable__label-arrow\">BaggingRegressor</label><div class=\"sk-toggleable__content\"><pre>BaggingRegressor()</pre></div></div></div></div></div></div></div></div></div></div><div class=\"sk-item\"><div class=\"sk-parallel\"><div class=\"sk-parallel-item\"><div class=\"sk-item\"><div class=\"sk-label-container\"><div class=\"sk-label sk-toggleable\"><label>final_estimator</label></div></div><div class=\"sk-serial\"><div class=\"sk-item\"><div class=\"sk-estimator sk-toggleable\"><input class=\"sk-toggleable__control sk-hidden--visually\" id=\"sk-estimator-id-8\" type=\"checkbox\" ><label for=\"sk-estimator-id-8\" class=\"sk-toggleable__label sk-toggleable__label-arrow\">LinearRegression</label><div class=\"sk-toggleable__content\"><pre>LinearRegression()</pre></div></div></div></div></div></div></div></div></div></div></div></div>"
      ],
      "text/plain": [
       "StackingRegressor(estimators=[('rfr_pipe',\n",
       "                               Pipeline(steps=[('ss', StandardScaler()),\n",
       "                                               ('rfr',\n",
       "                                                RandomForestRegressor())])),\n",
       "                              ('dt_pipe',\n",
       "                               Pipeline(steps=[('ss', StandardScaler()),\n",
       "                                               ('dt',\n",
       "                                                DecisionTreeRegressor())])),\n",
       "                              ('bag_pipe',\n",
       "                               Pipeline(steps=[('ss', StandardScaler()),\n",
       "                                               ('bag', BaggingRegressor())]))],\n",
       "                  final_estimator=LinearRegression())"
      ]
     },
     "execution_count": 64,
     "metadata": {},
     "output_type": "execute_result"
    }
   ],
   "source": [
    "stacked_model.fit(X_train, y_train)"
   ]
  },
  {
   "cell_type": "code",
   "execution_count": 65,
   "id": "8304d179-c39f-4354-af72-06d88b799f52",
   "metadata": {},
   "outputs": [
    {
     "data": {
      "text/plain": [
       "(0.9215573741286196, 0.7153878067192359)"
      ]
     },
     "execution_count": 65,
     "metadata": {},
     "output_type": "execute_result"
    }
   ],
   "source": [
    "stacked_model.score(X_train, y_train), stacked_model.score(X_test, y_test)"
   ]
  },
  {
   "cell_type": "code",
   "execution_count": 66,
   "id": "2bb87e45-7e1f-4169-a3fe-06cb4e4ac370",
   "metadata": {},
   "outputs": [],
   "source": [
    "stacked_pred = predictions(stacked_model, X_train, X_test, y_train)"
   ]
  },
  {
   "cell_type": "code",
   "execution_count": 67,
   "id": "efeeb28c-f803-49e9-bbd2-6b79ec6a78d8",
   "metadata": {},
   "outputs": [
    {
     "data": {
      "text/html": [
       "<div>\n",
       "<style scoped>\n",
       "    .dataframe tbody tr th:only-of-type {\n",
       "        vertical-align: middle;\n",
       "    }\n",
       "\n",
       "    .dataframe tbody tr th {\n",
       "        vertical-align: top;\n",
       "    }\n",
       "\n",
       "    .dataframe thead th {\n",
       "        text-align: right;\n",
       "    }\n",
       "</style>\n",
       "<table border=\"1\" class=\"dataframe\">\n",
       "  <thead>\n",
       "    <tr style=\"text-align: right;\">\n",
       "      <th></th>\n",
       "      <th>R2</th>\n",
       "      <th>MSE</th>\n",
       "      <th>RMSE</th>\n",
       "    </tr>\n",
       "  </thead>\n",
       "  <tbody>\n",
       "    <tr>\n",
       "      <th>Stacking</th>\n",
       "      <td>0.7224</td>\n",
       "      <td>7.4384</td>\n",
       "      <td>2.7273</td>\n",
       "    </tr>\n",
       "  </tbody>\n",
       "</table>\n",
       "</div>"
      ],
      "text/plain": [
       "             R2    MSE   RMSE\n",
       "Stacking 0.7224 7.4384 2.7273"
      ]
     },
     "execution_count": 67,
     "metadata": {},
     "output_type": "execute_result"
    }
   ],
   "source": [
    "regression_scores('Stacking', y_test, stacked_pred)"
   ]
  },
  {
   "cell_type": "code",
   "execution_count": 117,
   "id": "dfe2d6cf-7e8c-487a-8819-fc1ac30b0e55",
   "metadata": {},
   "outputs": [
    {
     "data": {
      "text/html": [
       "<div>\n",
       "<style scoped>\n",
       "    .dataframe tbody tr th:only-of-type {\n",
       "        vertical-align: middle;\n",
       "    }\n",
       "\n",
       "    .dataframe tbody tr th {\n",
       "        vertical-align: top;\n",
       "    }\n",
       "\n",
       "    .dataframe thead th {\n",
       "        text-align: right;\n",
       "    }\n",
       "</style>\n",
       "<table border=\"1\" class=\"dataframe\">\n",
       "  <thead>\n",
       "    <tr style=\"text-align: right;\">\n",
       "      <th></th>\n",
       "      <th>Mean</th>\n",
       "    </tr>\n",
       "  </thead>\n",
       "  <tbody>\n",
       "    <tr>\n",
       "      <th>Stacking</th>\n",
       "      <td>3.9683</td>\n",
       "    </tr>\n",
       "  </tbody>\n",
       "</table>\n",
       "</div>"
      ],
      "text/plain": [
       "           Mean\n",
       "Stacking 3.9683"
      ]
     },
     "execution_count": 117,
     "metadata": {},
     "output_type": "execute_result"
    }
   ],
   "source": [
    "bl_compare('Stacking', stacked_pred)"
   ]
  },
  {
   "cell_type": "markdown",
   "id": "4f10e875-8d65-4d90-9a23-81a71997e25d",
   "metadata": {
    "jp-MarkdownHeadingCollapsed": true,
    "tags": []
   },
   "source": [
    "### Gradient Boosting\n",
    "\n",
    "[finished, add description, decent model]"
   ]
  },
  {
   "cell_type": "code",
   "execution_count": 118,
   "id": "8425699a-e444-4769-8c1d-77f74833abaf",
   "metadata": {},
   "outputs": [],
   "source": [
    "gb_pipe = Pipeline([\n",
    "    ('ss', StandardScaler()),\n",
    "    ('gb', GradientBoostingRegressor())\n",
    "])"
   ]
  },
  {
   "cell_type": "code",
   "execution_count": 119,
   "id": "5844e633-ed1c-4679-8816-4ba704329304",
   "metadata": {},
   "outputs": [],
   "source": [
    "gb_params = {\n",
    "    'ss__with_mean': [False, True],\n",
    "    'ss__with_std': [False, True],\n",
    "}"
   ]
  },
  {
   "cell_type": "code",
   "execution_count": 120,
   "id": "cc90a247-60c6-4cec-8cbe-a6e807642b2a",
   "metadata": {},
   "outputs": [
    {
     "data": {
      "text/plain": [
       "\"Best Score: 0.5135995306416755, Params: {'dtr__max_depth': 15, 'dtr__min_samples_leaf': 1, 'dtr__min_samples_split': 15, 'ss__with_mean': True, 'ss__with_std': False}\""
      ]
     },
     "execution_count": 120,
     "metadata": {},
     "output_type": "execute_result"
    }
   ],
   "source": [
    "best_params(dtr_pipe, dtr_params, X_train, y_train)"
   ]
  },
  {
   "cell_type": "code",
   "execution_count": 121,
   "id": "c8228c3a-6d58-4ee3-977a-0285824cca02",
   "metadata": {},
   "outputs": [],
   "source": [
    "dtr_gs = return_gs(dtr_pipe, dtr_params, X_train, y_train)"
   ]
  },
  {
   "cell_type": "code",
   "execution_count": 122,
   "id": "b1d8ba23-5366-41bb-b7c8-423828f7449e",
   "metadata": {},
   "outputs": [
    {
     "data": {
      "text/plain": [
       "'Train Score: 0.6928624378266306, Test Score: 0.5948264402413468'"
      ]
     },
     "execution_count": 122,
     "metadata": {},
     "output_type": "execute_result"
    }
   ],
   "source": [
    "tts_scores(dtr_gs, X_train, y_train, X_test, y_test)"
   ]
  },
  {
   "cell_type": "code",
   "execution_count": 123,
   "id": "42a2a687-bd6c-410c-8eb1-f387e5e60465",
   "metadata": {},
   "outputs": [
    {
     "data": {
      "text/plain": [
       "0.4617622234122014"
      ]
     },
     "execution_count": 123,
     "metadata": {},
     "output_type": "execute_result"
    }
   ],
   "source": [
    "cross_val_score(gb_pipe, X_train, y_train, cv=3).mean()"
   ]
  },
  {
   "cell_type": "code",
   "execution_count": 124,
   "id": "32fd4b05-bc98-4f47-9086-a3ef37703411",
   "metadata": {},
   "outputs": [],
   "source": [
    "gb_pred = predictions(gb_pipe, X_train, X_test, y_train)"
   ]
  },
  {
   "cell_type": "code",
   "execution_count": 125,
   "id": "93473adb-fca4-443e-a799-2443bfb2ef58",
   "metadata": {},
   "outputs": [
    {
     "data": {
      "text/html": [
       "<div>\n",
       "<style scoped>\n",
       "    .dataframe tbody tr th:only-of-type {\n",
       "        vertical-align: middle;\n",
       "    }\n",
       "\n",
       "    .dataframe tbody tr th {\n",
       "        vertical-align: top;\n",
       "    }\n",
       "\n",
       "    .dataframe thead th {\n",
       "        text-align: right;\n",
       "    }\n",
       "</style>\n",
       "<table border=\"1\" class=\"dataframe\">\n",
       "  <thead>\n",
       "    <tr style=\"text-align: right;\">\n",
       "      <th></th>\n",
       "      <th>R2</th>\n",
       "      <th>MSE</th>\n",
       "      <th>RMSE</th>\n",
       "    </tr>\n",
       "  </thead>\n",
       "  <tbody>\n",
       "    <tr>\n",
       "      <th>GradientBoost</th>\n",
       "      <td>0.4874</td>\n",
       "      <td>13.7363</td>\n",
       "      <td>3.7063</td>\n",
       "    </tr>\n",
       "  </tbody>\n",
       "</table>\n",
       "</div>"
      ],
      "text/plain": [
       "                  R2     MSE   RMSE\n",
       "GradientBoost 0.4874 13.7363 3.7063"
      ]
     },
     "execution_count": 125,
     "metadata": {},
     "output_type": "execute_result"
    }
   ],
   "source": [
    "regression_scores('GradientBoost', y_test, gb_pred)"
   ]
  },
  {
   "cell_type": "code",
   "execution_count": 126,
   "id": "74927e1b-25ce-4856-9dc5-362faaa983c1",
   "metadata": {},
   "outputs": [
    {
     "data": {
      "text/html": [
       "<div>\n",
       "<style scoped>\n",
       "    .dataframe tbody tr th:only-of-type {\n",
       "        vertical-align: middle;\n",
       "    }\n",
       "\n",
       "    .dataframe tbody tr th {\n",
       "        vertical-align: top;\n",
       "    }\n",
       "\n",
       "    .dataframe thead th {\n",
       "        text-align: right;\n",
       "    }\n",
       "</style>\n",
       "<table border=\"1\" class=\"dataframe\">\n",
       "  <thead>\n",
       "    <tr style=\"text-align: right;\">\n",
       "      <th></th>\n",
       "      <th>Mean</th>\n",
       "    </tr>\n",
       "  </thead>\n",
       "  <tbody>\n",
       "    <tr>\n",
       "      <th>GradientBoost</th>\n",
       "      <td>3.8992</td>\n",
       "    </tr>\n",
       "  </tbody>\n",
       "</table>\n",
       "</div>"
      ],
      "text/plain": [
       "                Mean\n",
       "GradientBoost 3.8992"
      ]
     },
     "execution_count": 126,
     "metadata": {},
     "output_type": "execute_result"
    }
   ],
   "source": [
    "bl_compare('GradientBoost', gb_pred)"
   ]
  },
  {
   "cell_type": "markdown",
   "id": "061fbe92-bcdc-4f3d-8ad5-173d674d9a52",
   "metadata": {
    "jp-MarkdownHeadingCollapsed": true,
    "tags": []
   },
   "source": [
    "### Support Vector Regressor\n",
    "[finished, add description, bad model so we will not look into it further]"
   ]
  },
  {
   "cell_type": "code",
   "execution_count": 127,
   "id": "73d847c8-210a-437a-87e6-c6dd0729553a",
   "metadata": {},
   "outputs": [],
   "source": [
    "svr_pipe = Pipeline([\n",
    "    ('ss', StandardScaler()),\n",
    "    ('svr', SVR(kernel = 'rbf'))\n",
    "])"
   ]
  },
  {
   "cell_type": "code",
   "execution_count": 128,
   "id": "9556aeae-76ce-4a23-bc30-8e4dcdbcc08c",
   "metadata": {},
   "outputs": [
    {
     "data": {
      "text/plain": [
       "0.2819942304995868"
      ]
     },
     "execution_count": 128,
     "metadata": {},
     "output_type": "execute_result"
    }
   ],
   "source": [
    "cross_val_score(svr_pipe, X_train, y_train, cv=3).mean()"
   ]
  },
  {
   "cell_type": "markdown",
   "id": "96218da3-999a-4f5f-b057-fc9ccd39eff0",
   "metadata": {},
   "source": [
    "## Regression Model DataFrame"
   ]
  },
  {
   "cell_type": "code",
   "execution_count": 129,
   "id": "1adb0e35-fee7-4244-b853-a21a2e3b5a24",
   "metadata": {
    "scrolled": true,
    "tags": []
   },
   "outputs": [],
   "source": [
    "# Stacking\n",
    "reg_table = regression_scores('Stacking', y_test, stacked_pred)"
   ]
  },
  {
   "cell_type": "code",
   "execution_count": 130,
   "id": "bae7a5da-3c12-4d26-800a-dec029006114",
   "metadata": {},
   "outputs": [],
   "source": [
    "# Decision Tree\n",
    "reg_table = pd.concat([reg_table, regression_scores('DecisionTree', y_test, dtr_pred)])"
   ]
  },
  {
   "cell_type": "code",
   "execution_count": 131,
   "id": "0c365749-6812-4bae-8206-9d929692499a",
   "metadata": {},
   "outputs": [],
   "source": [
    "# Gradient Boosting\n",
    "reg_table = pd.concat([reg_table, regression_scores('GradientBoost', y_test, gb_pred)])"
   ]
  },
  {
   "cell_type": "code",
   "execution_count": 226,
   "id": "1e6e41ec-09a4-41c0-8dec-9d610730a799",
   "metadata": {},
   "outputs": [],
   "source": [
    "# Random Forest\n",
    "reg_table = pd.concat([reg_table, regression_scores('RandomForest', y_test, rfr_pred)])"
   ]
  },
  {
   "cell_type": "code",
   "execution_count": 132,
   "id": "98492f4e-83b1-4e62-b3a7-de62b3427d98",
   "metadata": {},
   "outputs": [
    {
     "data": {
      "text/html": [
       "<div>\n",
       "<style scoped>\n",
       "    .dataframe tbody tr th:only-of-type {\n",
       "        vertical-align: middle;\n",
       "    }\n",
       "\n",
       "    .dataframe tbody tr th {\n",
       "        vertical-align: top;\n",
       "    }\n",
       "\n",
       "    .dataframe thead th {\n",
       "        text-align: right;\n",
       "    }\n",
       "</style>\n",
       "<table border=\"1\" class=\"dataframe\">\n",
       "  <thead>\n",
       "    <tr style=\"text-align: right;\">\n",
       "      <th></th>\n",
       "      <th>R2</th>\n",
       "      <th>MSE</th>\n",
       "      <th>RMSE</th>\n",
       "    </tr>\n",
       "  </thead>\n",
       "  <tbody>\n",
       "    <tr>\n",
       "      <th>Stacking</th>\n",
       "      <td>0.7224</td>\n",
       "      <td>7.4384</td>\n",
       "      <td>2.7273</td>\n",
       "    </tr>\n",
       "    <tr>\n",
       "      <th>DecisionTree</th>\n",
       "      <td>0.6063</td>\n",
       "      <td>10.5502</td>\n",
       "      <td>3.2481</td>\n",
       "    </tr>\n",
       "    <tr>\n",
       "      <th>GradientBoost</th>\n",
       "      <td>0.4874</td>\n",
       "      <td>13.7363</td>\n",
       "      <td>3.7063</td>\n",
       "    </tr>\n",
       "  </tbody>\n",
       "</table>\n",
       "</div>"
      ],
      "text/plain": [
       "                  R2     MSE   RMSE\n",
       "Stacking      0.7224  7.4384 2.7273\n",
       "DecisionTree  0.6063 10.5502 3.2481\n",
       "GradientBoost 0.4874 13.7363 3.7063"
      ]
     },
     "execution_count": 132,
     "metadata": {},
     "output_type": "execute_result"
    }
   ],
   "source": [
    "reg_table"
   ]
  },
  {
   "cell_type": "markdown",
   "id": "64499147-7864-44fc-86be-97441e79fe1f",
   "metadata": {},
   "source": [
    "---"
   ]
  },
  {
   "cell_type": "markdown",
   "id": "69847845-1087-4ceb-a30b-de4b9685a5e4",
   "metadata": {},
   "source": [
    "## Classification Models"
   ]
  },
  {
   "cell_type": "markdown",
   "id": "098c9bb0-688a-4efa-a115-3134bfd7b203",
   "metadata": {},
   "source": [
    "Within this dataset, producers documented their highest loss percentage of food and its corresponding food supply stage the loss occurred. There are approximately 17 stages identified and utilized to build a model that will accurately classify the stage for a datapoint's highest loss percentage. However, the classes are incredibly imbalanced; according to the baseline accuracy, 'Farm' appears in ~47% of the the data while the remaining 16 stages exist in less than 20% each. This aspect along with the large number of classes to classify may skew the classification model.\n",
    "\n",
    "We evaluated multiple classification models: Random Forest Classifer, Decision Tree Classifier, and x, and assessed their accuracy and F1 scores. To encode the categorical variable (food_supply_stage), we explored using a Label Encoder and dummy variables. The Label Encoder assigned a numerical value to each category (e.g. Farm may be instantiated to 0, etc.) even though they do not have an apparent order or rank. This enables the model to process data that requires numerical inputs. Dummy variables creates binary columns for the categories which ensure indepedence from one another. Both methods resulted in similar scores and we made the conclusion that the encoding choices did not have a huge influence. "
   ]
  },
  {
   "cell_type": "markdown",
   "id": "7b0cc2e0-5ea5-4121-b94a-7e2cfb1f3602",
   "metadata": {},
   "source": [
    "### Baseline Accuracy\n",
    "\n",
    "Below you will find the baseline accuracy of all 17 stages. Since the dataset is imbalanced, we will consider the F1 scores (and if needed, precision and recall) as the accuracy may not be fully representative. "
   ]
  },
  {
   "cell_type": "code",
   "execution_count": 158,
   "id": "6b189585-0ba2-46b4-8b33-0cdfba52ceaa",
   "metadata": {
    "scrolled": true,
    "tags": []
   },
   "outputs": [
    {
     "data": {
      "text/plain": [
       "Farm                 0.4701\n",
       "Whole supply chain   0.1799\n",
       "Harvest              0.1405\n",
       "Storage              0.0989\n",
       "Transport            0.0719\n",
       "Wholesale            0.0096\n",
       "Processing           0.0092\n",
       "Retail               0.0089\n",
       "Trader               0.0031\n",
       "Households           0.0021\n",
       "Export               0.0021\n",
       "Post-harvest         0.0018\n",
       "Food Services        0.0006\n",
       "Pre-harvest          0.0004\n",
       "Distribution         0.0004\n",
       "Market               0.0004\n",
       "Stacking             0.0000\n",
       "Name: food_supply_stage, dtype: float64"
      ]
     },
     "execution_count": 158,
     "metadata": {},
     "output_type": "execute_result"
    }
   ],
   "source": [
    "df['food_supply_stage'].value_counts(normalize = True)"
   ]
  },
  {
   "cell_type": "markdown",
   "id": "d45ee4ea-ac5b-4ce2-b3fe-cbd9220c5475",
   "metadata": {
    "tags": []
   },
   "source": [
    "### Random Forest Classifier\n",
    "\n",
    "The Random Forest Classifier will generate decision trees based on randomly-selected columns and average the predictions. These actions will mitigate the impact of imbalanced classes and outliers through its likelihood in choosing data from minority classes. On the other hand, this model could also select low instances. One challenge that we could encounter is the time requirement to run this model as its making multiple predictions over a large dataset (> 20k)."
   ]
  },
  {
   "cell_type": "code",
   "execution_count": 310,
   "id": "65fdd120-e6ae-4f85-8d67-725c172d405f",
   "metadata": {},
   "outputs": [],
   "source": [
    "# if there are missing values, use this for numerical columns by using the mean strategy\n",
    "#for column in df.select_dtypes(include=[np.number]).columns:\n",
    "    #imputer = SimpleImputer(strategy='mean')\n",
    "    #df[column] = imputer.fit_transform(df[[column]])"
   ]
  },
  {
   "cell_type": "code",
   "execution_count": 166,
   "id": "4699312c-0b6a-4b79-85f2-920b409064cb",
   "metadata": {},
   "outputs": [],
   "source": [
    "# Using label encoder\n",
    "label_encoders = {}\n",
    "for column in df.select_dtypes(include=['object']).columns:\n",
    "    label_encoders[column] = LabelEncoder()\n",
    "    df[column] = label_encoders[column].fit_transform(df[column])"
   ]
  },
  {
   "cell_type": "markdown",
   "id": "5163e1c6-ec61-445d-b63d-b664546b1b55",
   "metadata": {},
   "source": [
    "* Train-Test-Split with Label Encoder"
   ]
  },
  {
   "cell_type": "code",
   "execution_count": 167,
   "id": "07788654-818d-457c-856d-d5ba88d23442",
   "metadata": {},
   "outputs": [],
   "source": [
    "X = df.drop('food_supply_stage', axis=1)\n",
    "y = df['food_supply_stage']"
   ]
  },
  {
   "cell_type": "code",
   "execution_count": 168,
   "id": "4c387fc2-aded-4e3e-b04b-a4ee60499f9d",
   "metadata": {},
   "outputs": [],
   "source": [
    "X_train, X_test, y_train, y_test = train_test_split(X, y, test_size=0.2, random_state=42)"
   ]
  },
  {
   "cell_type": "code",
   "execution_count": 173,
   "id": "4d5fd3ff-6cf8-4d29-8e18-ea17c069bc57",
   "metadata": {},
   "outputs": [
    {
     "data": {
      "text/html": [
       "<style>#sk-container-id-4 {color: black;background-color: white;}#sk-container-id-4 pre{padding: 0;}#sk-container-id-4 div.sk-toggleable {background-color: white;}#sk-container-id-4 label.sk-toggleable__label {cursor: pointer;display: block;width: 100%;margin-bottom: 0;padding: 0.3em;box-sizing: border-box;text-align: center;}#sk-container-id-4 label.sk-toggleable__label-arrow:before {content: \"▸\";float: left;margin-right: 0.25em;color: #696969;}#sk-container-id-4 label.sk-toggleable__label-arrow:hover:before {color: black;}#sk-container-id-4 div.sk-estimator:hover label.sk-toggleable__label-arrow:before {color: black;}#sk-container-id-4 div.sk-toggleable__content {max-height: 0;max-width: 0;overflow: hidden;text-align: left;background-color: #f0f8ff;}#sk-container-id-4 div.sk-toggleable__content pre {margin: 0.2em;color: black;border-radius: 0.25em;background-color: #f0f8ff;}#sk-container-id-4 input.sk-toggleable__control:checked~div.sk-toggleable__content {max-height: 200px;max-width: 100%;overflow: auto;}#sk-container-id-4 input.sk-toggleable__control:checked~label.sk-toggleable__label-arrow:before {content: \"▾\";}#sk-container-id-4 div.sk-estimator input.sk-toggleable__control:checked~label.sk-toggleable__label {background-color: #d4ebff;}#sk-container-id-4 div.sk-label input.sk-toggleable__control:checked~label.sk-toggleable__label {background-color: #d4ebff;}#sk-container-id-4 input.sk-hidden--visually {border: 0;clip: rect(1px 1px 1px 1px);clip: rect(1px, 1px, 1px, 1px);height: 1px;margin: -1px;overflow: hidden;padding: 0;position: absolute;width: 1px;}#sk-container-id-4 div.sk-estimator {font-family: monospace;background-color: #f0f8ff;border: 1px dotted black;border-radius: 0.25em;box-sizing: border-box;margin-bottom: 0.5em;}#sk-container-id-4 div.sk-estimator:hover {background-color: #d4ebff;}#sk-container-id-4 div.sk-parallel-item::after {content: \"\";width: 100%;border-bottom: 1px solid gray;flex-grow: 1;}#sk-container-id-4 div.sk-label:hover label.sk-toggleable__label {background-color: #d4ebff;}#sk-container-id-4 div.sk-serial::before {content: \"\";position: absolute;border-left: 1px solid gray;box-sizing: border-box;top: 0;bottom: 0;left: 50%;z-index: 0;}#sk-container-id-4 div.sk-serial {display: flex;flex-direction: column;align-items: center;background-color: white;padding-right: 0.2em;padding-left: 0.2em;position: relative;}#sk-container-id-4 div.sk-item {position: relative;z-index: 1;}#sk-container-id-4 div.sk-parallel {display: flex;align-items: stretch;justify-content: center;background-color: white;position: relative;}#sk-container-id-4 div.sk-item::before, #sk-container-id-4 div.sk-parallel-item::before {content: \"\";position: absolute;border-left: 1px solid gray;box-sizing: border-box;top: 0;bottom: 0;left: 50%;z-index: -1;}#sk-container-id-4 div.sk-parallel-item {display: flex;flex-direction: column;z-index: 1;position: relative;background-color: white;}#sk-container-id-4 div.sk-parallel-item:first-child::after {align-self: flex-end;width: 50%;}#sk-container-id-4 div.sk-parallel-item:last-child::after {align-self: flex-start;width: 50%;}#sk-container-id-4 div.sk-parallel-item:only-child::after {width: 0;}#sk-container-id-4 div.sk-dashed-wrapped {border: 1px dashed gray;margin: 0 0.4em 0.5em 0.4em;box-sizing: border-box;padding-bottom: 0.4em;background-color: white;}#sk-container-id-4 div.sk-label label {font-family: monospace;font-weight: bold;display: inline-block;line-height: 1.2em;}#sk-container-id-4 div.sk-label-container {text-align: center;}#sk-container-id-4 div.sk-container {/* jupyter's `normalize.less` sets `[hidden] { display: none; }` but bootstrap.min.css set `[hidden] { display: none !important; }` so we also need the `!important` here to be able to override the default hidden behavior on the sphinx rendered scikit-learn.org. See: https://github.com/scikit-learn/scikit-learn/issues/21755 */display: inline-block !important;position: relative;}#sk-container-id-4 div.sk-text-repr-fallback {display: none;}</style><div id=\"sk-container-id-4\" class=\"sk-top-container\"><div class=\"sk-text-repr-fallback\"><pre>RandomForestClassifier(random_state=42)</pre><b>In a Jupyter environment, please rerun this cell to show the HTML representation or trust the notebook. <br />On GitHub, the HTML representation is unable to render, please try loading this page with nbviewer.org.</b></div><div class=\"sk-container\" hidden><div class=\"sk-item\"><div class=\"sk-estimator sk-toggleable\"><input class=\"sk-toggleable__control sk-hidden--visually\" id=\"sk-estimator-id-11\" type=\"checkbox\" checked><label for=\"sk-estimator-id-11\" class=\"sk-toggleable__label sk-toggleable__label-arrow\">RandomForestClassifier</label><div class=\"sk-toggleable__content\"><pre>RandomForestClassifier(random_state=42)</pre></div></div></div></div></div>"
      ],
      "text/plain": [
       "RandomForestClassifier(random_state=42)"
      ]
     },
     "execution_count": 173,
     "metadata": {},
     "output_type": "execute_result"
    }
   ],
   "source": [
    "# create a Random Forest Classifier and fit it to the training data\n",
    "rfc = RandomForestClassifier (n_estimators=100, random_state=42)\n",
    "rfc.fit(X_train, y_train)"
   ]
  },
  {
   "cell_type": "code",
   "execution_count": 170,
   "id": "3be9dd04-85e8-4a0e-a141-f0923384db84",
   "metadata": {},
   "outputs": [
    {
     "data": {
      "text/plain": [
       "'Train Score: 0.998687526249475, Test Score: 0.9628307433851323'"
      ]
     },
     "execution_count": 170,
     "metadata": {},
     "output_type": "execute_result"
    }
   ],
   "source": [
    "tts_scores(clf, X_train, y_train, X_test, y_test)"
   ]
  },
  {
   "cell_type": "code",
   "execution_count": 171,
   "id": "adac11e0-a882-492a-9ed0-6cd8aad0d062",
   "metadata": {},
   "outputs": [],
   "source": [
    "rfc_pred = predictions(clf, X_train, X_test, y_train)"
   ]
  },
  {
   "cell_type": "code",
   "execution_count": 172,
   "id": "3621f219-a6ae-45aa-b70b-af91b3f607b1",
   "metadata": {},
   "outputs": [
    {
     "data": {
      "text/html": [
       "<div>\n",
       "<style scoped>\n",
       "    .dataframe tbody tr th:only-of-type {\n",
       "        vertical-align: middle;\n",
       "    }\n",
       "\n",
       "    .dataframe tbody tr th {\n",
       "        vertical-align: top;\n",
       "    }\n",
       "\n",
       "    .dataframe thead th {\n",
       "        text-align: right;\n",
       "    }\n",
       "</style>\n",
       "<table border=\"1\" class=\"dataframe\">\n",
       "  <thead>\n",
       "    <tr style=\"text-align: right;\">\n",
       "      <th></th>\n",
       "      <th>Recall</th>\n",
       "      <th>Precision</th>\n",
       "      <th>F1</th>\n",
       "      <th>Accuracy</th>\n",
       "    </tr>\n",
       "  </thead>\n",
       "  <tbody>\n",
       "    <tr>\n",
       "      <th>RandomForestClassifier</th>\n",
       "      <td>0.9628</td>\n",
       "      <td>0.9628</td>\n",
       "      <td>0.9628</td>\n",
       "      <td>0.9628</td>\n",
       "    </tr>\n",
       "  </tbody>\n",
       "</table>\n",
       "</div>"
      ],
      "text/plain": [
       "                        Recall  Precision     F1  Accuracy\n",
       "RandomForestClassifier  0.9628     0.9628 0.9628    0.9628"
      ]
     },
     "execution_count": 172,
     "metadata": {},
     "output_type": "execute_result"
    }
   ],
   "source": [
    "classification_scores('RandomForestClassifier', y_test, rfc_pred)"
   ]
  },
  {
   "cell_type": "markdown",
   "id": "d7929211-28df-451c-9524-fb62993ba2ac",
   "metadata": {
    "tags": []
   },
   "source": [
    "### Decision Tree Classifier\n",
    "\n",
    "However, it's important to note that the decision tree classifier can get overfit quickly as it improves the model through each split. \n",
    "\n",
    "One difficulty is that it'll continue"
   ]
  },
  {
   "cell_type": "code",
   "execution_count": null,
   "id": "1927b024-4e35-4820-a75c-ad68a196c99f",
   "metadata": {},
   "outputs": [],
   "source": [
    "features = pd.get_dummies(df, columns = ['Longitude', 'Latitude','country',\n",
    "                              'commodity',\n",
    "                              'year',\n",
    "                              'activity'])\n",
    "\n",
    "X = features.drop(columns = 'food_supply_stage')\n",
    "y = pd.get_dummies(df['food_supply_stage'], columns = ['food_supply_stage'])\n",
    "\n",
    "X_train, X_test, y_train, y_test = train_test_split(X, y, random_state = 42)\n",
    "\n",
    "dt_pipe = Pipeline([\n",
    "    ('ss', StandardScaler()),\n",
    "    ('dt', DecisionTreeClassifier())\n",
    "])"
   ]
  },
  {
   "cell_type": "code",
   "execution_count": 146,
   "id": "d7b503a6-6835-4c8d-8fd1-b63dd919afaf",
   "metadata": {},
   "outputs": [],
   "source": [
    "features = pd.get_dummies(df, columns = ['Longitude', 'Latitude','country',\n",
    "                              'commodity',\n",
    "                              'year',\n",
    "                              'activity'])"
   ]
  },
  {
   "cell_type": "code",
   "execution_count": 147,
   "id": "7d559788-bdec-4aaf-b8df-52de2d4aef98",
   "metadata": {},
   "outputs": [],
   "source": [
    "X = features.drop(columns = 'food_supply_stage')\n",
    "y = pd.get_dummies(df['food_supply_stage'], columns = ['food_supply_stage'])"
   ]
  },
  {
   "cell_type": "code",
   "execution_count": 148,
   "id": "3b09cbb4-8ec4-4bc8-b942-c6a8463fba4d",
   "metadata": {},
   "outputs": [],
   "source": [
    "X_train, X_test, y_train, y_test = train_test_split(X, y, random_state = 42)"
   ]
  },
  {
   "cell_type": "code",
   "execution_count": 149,
   "id": "b49b9772-10db-442b-8d62-e8b91588da40",
   "metadata": {},
   "outputs": [],
   "source": [
    "dt_pipe = Pipeline([\n",
    "    ('ss', StandardScaler()),\n",
    "    ('dt', DecisionTreeClassifier())\n",
    "])"
   ]
  },
  {
   "cell_type": "code",
   "execution_count": 164,
   "id": "730e570a-589c-421b-acba-36a33fc6f688",
   "metadata": {},
   "outputs": [],
   "source": [
    "dt_params = {\n",
    "    'ss__with_mean': [False, True],\n",
    "    'ss__with_std': [False, True],\n",
    "    'dt__max_depth': [1, 5, 10, 25, 100],\n",
    "    'dt__min_samples_leaf': [1, 3, 6, 10],\n",
    "    'dt__min_samples_split': [5, 10, 15, 20]\n",
    "}"
   ]
  },
  {
   "cell_type": "code",
   "execution_count": 151,
   "id": "a7e0e639-abbe-47e1-9560-12376eea71cd",
   "metadata": {},
   "outputs": [
    {
     "data": {
      "text/plain": [
       "\"Best Score: 0.9521194567270381, Params: {'dt__max_depth': 100, 'dt__min_samples_leaf': 1, 'dt__min_samples_split': 5, 'ss__with_mean': True, 'ss__with_std': False}\""
      ]
     },
     "execution_count": 151,
     "metadata": {},
     "output_type": "execute_result"
    }
   ],
   "source": [
    "best_params(dt_pipe, dt_params, X_train, y_train)"
   ]
  },
  {
   "cell_type": "code",
   "execution_count": 152,
   "id": "1af583cf-8980-41d8-93e8-6af583cb0b36",
   "metadata": {},
   "outputs": [],
   "source": [
    "dt_gs = return_gs(dt_pipe, dt_params, X_train, y_train)"
   ]
  },
  {
   "cell_type": "code",
   "execution_count": 153,
   "id": "f4384097-5bba-484a-b59e-ccd439b64063",
   "metadata": {},
   "outputs": [
    {
     "data": {
      "text/plain": [
       "'Train Score: 0.9828078624628998, Test Score: 0.9606920880228457'"
      ]
     },
     "execution_count": 153,
     "metadata": {},
     "output_type": "execute_result"
    }
   ],
   "source": [
    "tts_scores(dt_gs, X_train, y_train, X_test, y_test)"
   ]
  },
  {
   "cell_type": "code",
   "execution_count": 154,
   "id": "9f2252a0-0b31-4827-9fbe-1f34e36e1426",
   "metadata": {},
   "outputs": [],
   "source": [
    "dt_pred = predictions(dt_pipe, X_train, X_test, y_train)"
   ]
  },
  {
   "cell_type": "code",
   "execution_count": 155,
   "id": "0bbe93b5-b987-495a-bd42-a877a59c38ef",
   "metadata": {},
   "outputs": [
    {
     "data": {
      "text/html": [
       "<div>\n",
       "<style scoped>\n",
       "    .dataframe tbody tr th:only-of-type {\n",
       "        vertical-align: middle;\n",
       "    }\n",
       "\n",
       "    .dataframe tbody tr th {\n",
       "        vertical-align: top;\n",
       "    }\n",
       "\n",
       "    .dataframe thead th {\n",
       "        text-align: right;\n",
       "    }\n",
       "</style>\n",
       "<table border=\"1\" class=\"dataframe\">\n",
       "  <thead>\n",
       "    <tr style=\"text-align: right;\">\n",
       "      <th></th>\n",
       "      <th>Recall</th>\n",
       "      <th>Precision</th>\n",
       "      <th>F1</th>\n",
       "      <th>Accuracy</th>\n",
       "    </tr>\n",
       "  </thead>\n",
       "  <tbody>\n",
       "    <tr>\n",
       "      <th>DecisionTree</th>\n",
       "      <td>0.9654</td>\n",
       "      <td>0.9662</td>\n",
       "      <td>0.9658</td>\n",
       "      <td>0.9654</td>\n",
       "    </tr>\n",
       "  </tbody>\n",
       "</table>\n",
       "</div>"
      ],
      "text/plain": [
       "              Recall  Precision     F1  Accuracy\n",
       "DecisionTree  0.9654     0.9662 0.9658    0.9654"
      ]
     },
     "execution_count": 155,
     "metadata": {},
     "output_type": "execute_result"
    }
   ],
   "source": [
    "classification_scores('DecisionTree', y_test, dt_pred)"
   ]
  },
  {
   "cell_type": "code",
   "execution_count": null,
   "id": "eb3781be-a7ad-4820-9a19-8e0c2fde9d57",
   "metadata": {},
   "outputs": [],
   "source": [
    "ConfusionMatrixDisplay.from_estimator(dt_gs, X_test, y_test)"
   ]
  },
  {
   "cell_type": "code",
   "execution_count": 161,
   "id": "8164c386-5289-4a83-b0d4-c7c07918d0ad",
   "metadata": {},
   "outputs": [],
   "source": [
    "bag_pipe = Pipeline([\n",
    "    ('ss', StandardScaler()),\n",
    "    ('bag', BaggingClassifier(random_state = 42))\n",
    "])"
   ]
  },
  {
   "cell_type": "code",
   "execution_count": 163,
   "id": "479256c1-33a7-4bc1-8288-a6ba66de5d2c",
   "metadata": {},
   "outputs": [],
   "source": [
    "bag_params = {\n",
    "    'ss__with_mean': [False, True],\n",
    "    'ss__with_std': [False, True]\n",
    "}"
   ]
  },
  {
   "cell_type": "code",
   "execution_count": 165,
   "id": "3db9727d-a42c-47b3-81f3-1f6b4c4c8a52",
   "metadata": {
    "scrolled": true,
    "tags": []
   },
   "outputs": [
    {
     "ename": "ValueError",
     "evalue": "\nAll the 12 fits failed.\nIt is very likely that your model is misconfigured.\nYou can try to debug the error by setting error_score='raise'.\n\nBelow are more details about the failures:\n--------------------------------------------------------------------------------\n4 fits failed with the following error:\nTraceback (most recent call last):\n  File \"/Users/lisaliang/opt/anaconda3/lib/python3.9/site-packages/sklearn/model_selection/_validation.py\", line 686, in _fit_and_score\n    estimator.fit(X_train, y_train, **fit_params)\n  File \"/Users/lisaliang/opt/anaconda3/lib/python3.9/site-packages/sklearn/pipeline.py\", line 405, in fit\n    self._final_estimator.fit(Xt, y, **fit_params_last_step)\n  File \"/Users/lisaliang/opt/anaconda3/lib/python3.9/site-packages/sklearn/ensemble/_bagging.py\", line 337, in fit\n    return self._fit(X, y, self.max_samples, sample_weight=sample_weight)\n  File \"/Users/lisaliang/opt/anaconda3/lib/python3.9/site-packages/sklearn/ensemble/_bagging.py\", line 393, in _fit\n    y = self._validate_y(y)\n  File \"/Users/lisaliang/opt/anaconda3/lib/python3.9/site-packages/sklearn/ensemble/_bagging.py\", line 802, in _validate_y\n    y = column_or_1d(y, warn=True)\n  File \"/Users/lisaliang/opt/anaconda3/lib/python3.9/site-packages/sklearn/utils/validation.py\", line 1202, in column_or_1d\n    raise ValueError(\nValueError: y should be a 1d array, got an array of shape (11904, 17) instead.\n\n--------------------------------------------------------------------------------\n8 fits failed with the following error:\nTraceback (most recent call last):\n  File \"/Users/lisaliang/opt/anaconda3/lib/python3.9/site-packages/sklearn/model_selection/_validation.py\", line 686, in _fit_and_score\n    estimator.fit(X_train, y_train, **fit_params)\n  File \"/Users/lisaliang/opt/anaconda3/lib/python3.9/site-packages/sklearn/pipeline.py\", line 405, in fit\n    self._final_estimator.fit(Xt, y, **fit_params_last_step)\n  File \"/Users/lisaliang/opt/anaconda3/lib/python3.9/site-packages/sklearn/ensemble/_bagging.py\", line 337, in fit\n    return self._fit(X, y, self.max_samples, sample_weight=sample_weight)\n  File \"/Users/lisaliang/opt/anaconda3/lib/python3.9/site-packages/sklearn/ensemble/_bagging.py\", line 393, in _fit\n    y = self._validate_y(y)\n  File \"/Users/lisaliang/opt/anaconda3/lib/python3.9/site-packages/sklearn/ensemble/_bagging.py\", line 802, in _validate_y\n    y = column_or_1d(y, warn=True)\n  File \"/Users/lisaliang/opt/anaconda3/lib/python3.9/site-packages/sklearn/utils/validation.py\", line 1202, in column_or_1d\n    raise ValueError(\nValueError: y should be a 1d array, got an array of shape (11905, 17) instead.\n",
     "output_type": "error",
     "traceback": [
      "\u001b[0;31m---------------------------------------------------------------------------\u001b[0m",
      "\u001b[0;31mValueError\u001b[0m                                Traceback (most recent call last)",
      "Cell \u001b[0;32mIn[165], line 1\u001b[0m\n\u001b[0;32m----> 1\u001b[0m \u001b[43mbest_params\u001b[49m\u001b[43m(\u001b[49m\u001b[43mbag_pipe\u001b[49m\u001b[43m,\u001b[49m\u001b[43m \u001b[49m\u001b[43mbag_params\u001b[49m\u001b[43m,\u001b[49m\u001b[43m \u001b[49m\u001b[43mX_train\u001b[49m\u001b[43m,\u001b[49m\u001b[43m \u001b[49m\u001b[43my_train\u001b[49m\u001b[43m)\u001b[49m\n",
      "Cell \u001b[0;32mIn[7], line 7\u001b[0m, in \u001b[0;36mbest_params\u001b[0;34m(pipeline, params, X_train, y_train)\u001b[0m\n\u001b[1;32m      1\u001b[0m \u001b[38;5;28;01mdef\u001b[39;00m \u001b[38;5;21mbest_params\u001b[39m(pipeline, params, X_train, y_train):\n\u001b[1;32m      2\u001b[0m     gs \u001b[38;5;241m=\u001b[39m GridSearchCV(pipeline,\n\u001b[1;32m      3\u001b[0m                       param_grid \u001b[38;5;241m=\u001b[39m params,\n\u001b[1;32m      4\u001b[0m                       n_jobs\u001b[38;5;241m=\u001b[39m\u001b[38;5;241m-\u001b[39m\u001b[38;5;241m1\u001b[39m, \n\u001b[1;32m      5\u001b[0m                       cv \u001b[38;5;241m=\u001b[39m \u001b[38;5;241m3\u001b[39m)\n\u001b[0;32m----> 7\u001b[0m     \u001b[43mgs\u001b[49m\u001b[38;5;241;43m.\u001b[39;49m\u001b[43mfit\u001b[49m\u001b[43m(\u001b[49m\u001b[43mX_train\u001b[49m\u001b[43m,\u001b[49m\u001b[43m \u001b[49m\u001b[43my_train\u001b[49m\u001b[43m)\u001b[49m\n\u001b[1;32m      9\u001b[0m     \u001b[38;5;28;01mreturn\u001b[39;00m \u001b[38;5;124mf\u001b[39m\u001b[38;5;124m'\u001b[39m\u001b[38;5;124mBest Score: \u001b[39m\u001b[38;5;132;01m{\u001b[39;00mgs\u001b[38;5;241m.\u001b[39mbest_score_\u001b[38;5;132;01m}\u001b[39;00m\u001b[38;5;124m, Params: \u001b[39m\u001b[38;5;132;01m{\u001b[39;00mgs\u001b[38;5;241m.\u001b[39mbest_params_\u001b[38;5;132;01m}\u001b[39;00m\u001b[38;5;124m'\u001b[39m\n",
      "File \u001b[0;32m~/opt/anaconda3/lib/python3.9/site-packages/sklearn/model_selection/_search.py:874\u001b[0m, in \u001b[0;36mBaseSearchCV.fit\u001b[0;34m(self, X, y, groups, **fit_params)\u001b[0m\n\u001b[1;32m    868\u001b[0m     results \u001b[38;5;241m=\u001b[39m \u001b[38;5;28mself\u001b[39m\u001b[38;5;241m.\u001b[39m_format_results(\n\u001b[1;32m    869\u001b[0m         all_candidate_params, n_splits, all_out, all_more_results\n\u001b[1;32m    870\u001b[0m     )\n\u001b[1;32m    872\u001b[0m     \u001b[38;5;28;01mreturn\u001b[39;00m results\n\u001b[0;32m--> 874\u001b[0m \u001b[38;5;28;43mself\u001b[39;49m\u001b[38;5;241;43m.\u001b[39;49m\u001b[43m_run_search\u001b[49m\u001b[43m(\u001b[49m\u001b[43mevaluate_candidates\u001b[49m\u001b[43m)\u001b[49m\n\u001b[1;32m    876\u001b[0m \u001b[38;5;66;03m# multimetric is determined here because in the case of a callable\u001b[39;00m\n\u001b[1;32m    877\u001b[0m \u001b[38;5;66;03m# self.scoring the return type is only known after calling\u001b[39;00m\n\u001b[1;32m    878\u001b[0m first_test_score \u001b[38;5;241m=\u001b[39m all_out[\u001b[38;5;241m0\u001b[39m][\u001b[38;5;124m\"\u001b[39m\u001b[38;5;124mtest_scores\u001b[39m\u001b[38;5;124m\"\u001b[39m]\n",
      "File \u001b[0;32m~/opt/anaconda3/lib/python3.9/site-packages/sklearn/model_selection/_search.py:1388\u001b[0m, in \u001b[0;36mGridSearchCV._run_search\u001b[0;34m(self, evaluate_candidates)\u001b[0m\n\u001b[1;32m   1386\u001b[0m \u001b[38;5;28;01mdef\u001b[39;00m \u001b[38;5;21m_run_search\u001b[39m(\u001b[38;5;28mself\u001b[39m, evaluate_candidates):\n\u001b[1;32m   1387\u001b[0m \u001b[38;5;250m    \u001b[39m\u001b[38;5;124;03m\"\"\"Search all candidates in param_grid\"\"\"\u001b[39;00m\n\u001b[0;32m-> 1388\u001b[0m     \u001b[43mevaluate_candidates\u001b[49m\u001b[43m(\u001b[49m\u001b[43mParameterGrid\u001b[49m\u001b[43m(\u001b[49m\u001b[38;5;28;43mself\u001b[39;49m\u001b[38;5;241;43m.\u001b[39;49m\u001b[43mparam_grid\u001b[49m\u001b[43m)\u001b[49m\u001b[43m)\u001b[49m\n",
      "File \u001b[0;32m~/opt/anaconda3/lib/python3.9/site-packages/sklearn/model_selection/_search.py:851\u001b[0m, in \u001b[0;36mBaseSearchCV.fit.<locals>.evaluate_candidates\u001b[0;34m(candidate_params, cv, more_results)\u001b[0m\n\u001b[1;32m    844\u001b[0m \u001b[38;5;28;01melif\u001b[39;00m \u001b[38;5;28mlen\u001b[39m(out) \u001b[38;5;241m!=\u001b[39m n_candidates \u001b[38;5;241m*\u001b[39m n_splits:\n\u001b[1;32m    845\u001b[0m     \u001b[38;5;28;01mraise\u001b[39;00m \u001b[38;5;167;01mValueError\u001b[39;00m(\n\u001b[1;32m    846\u001b[0m         \u001b[38;5;124m\"\u001b[39m\u001b[38;5;124mcv.split and cv.get_n_splits returned \u001b[39m\u001b[38;5;124m\"\u001b[39m\n\u001b[1;32m    847\u001b[0m         \u001b[38;5;124m\"\u001b[39m\u001b[38;5;124minconsistent results. Expected \u001b[39m\u001b[38;5;132;01m{}\u001b[39;00m\u001b[38;5;124m \u001b[39m\u001b[38;5;124m\"\u001b[39m\n\u001b[1;32m    848\u001b[0m         \u001b[38;5;124m\"\u001b[39m\u001b[38;5;124msplits, got \u001b[39m\u001b[38;5;132;01m{}\u001b[39;00m\u001b[38;5;124m\"\u001b[39m\u001b[38;5;241m.\u001b[39mformat(n_splits, \u001b[38;5;28mlen\u001b[39m(out) \u001b[38;5;241m/\u001b[39m\u001b[38;5;241m/\u001b[39m n_candidates)\n\u001b[1;32m    849\u001b[0m     )\n\u001b[0;32m--> 851\u001b[0m \u001b[43m_warn_or_raise_about_fit_failures\u001b[49m\u001b[43m(\u001b[49m\u001b[43mout\u001b[49m\u001b[43m,\u001b[49m\u001b[43m \u001b[49m\u001b[38;5;28;43mself\u001b[39;49m\u001b[38;5;241;43m.\u001b[39;49m\u001b[43merror_score\u001b[49m\u001b[43m)\u001b[49m\n\u001b[1;32m    853\u001b[0m \u001b[38;5;66;03m# For callable self.scoring, the return type is only know after\u001b[39;00m\n\u001b[1;32m    854\u001b[0m \u001b[38;5;66;03m# calling. If the return type is a dictionary, the error scores\u001b[39;00m\n\u001b[1;32m    855\u001b[0m \u001b[38;5;66;03m# can now be inserted with the correct key. The type checking\u001b[39;00m\n\u001b[1;32m    856\u001b[0m \u001b[38;5;66;03m# of out will be done in `_insert_error_scores`.\u001b[39;00m\n\u001b[1;32m    857\u001b[0m \u001b[38;5;28;01mif\u001b[39;00m \u001b[38;5;28mcallable\u001b[39m(\u001b[38;5;28mself\u001b[39m\u001b[38;5;241m.\u001b[39mscoring):\n",
      "File \u001b[0;32m~/opt/anaconda3/lib/python3.9/site-packages/sklearn/model_selection/_validation.py:367\u001b[0m, in \u001b[0;36m_warn_or_raise_about_fit_failures\u001b[0;34m(results, error_score)\u001b[0m\n\u001b[1;32m    360\u001b[0m \u001b[38;5;28;01mif\u001b[39;00m num_failed_fits \u001b[38;5;241m==\u001b[39m num_fits:\n\u001b[1;32m    361\u001b[0m     all_fits_failed_message \u001b[38;5;241m=\u001b[39m (\n\u001b[1;32m    362\u001b[0m         \u001b[38;5;124mf\u001b[39m\u001b[38;5;124m\"\u001b[39m\u001b[38;5;130;01m\\n\u001b[39;00m\u001b[38;5;124mAll the \u001b[39m\u001b[38;5;132;01m{\u001b[39;00mnum_fits\u001b[38;5;132;01m}\u001b[39;00m\u001b[38;5;124m fits failed.\u001b[39m\u001b[38;5;130;01m\\n\u001b[39;00m\u001b[38;5;124m\"\u001b[39m\n\u001b[1;32m    363\u001b[0m         \u001b[38;5;124m\"\u001b[39m\u001b[38;5;124mIt is very likely that your model is misconfigured.\u001b[39m\u001b[38;5;130;01m\\n\u001b[39;00m\u001b[38;5;124m\"\u001b[39m\n\u001b[1;32m    364\u001b[0m         \u001b[38;5;124m\"\u001b[39m\u001b[38;5;124mYou can try to debug the error by setting error_score=\u001b[39m\u001b[38;5;124m'\u001b[39m\u001b[38;5;124mraise\u001b[39m\u001b[38;5;124m'\u001b[39m\u001b[38;5;124m.\u001b[39m\u001b[38;5;130;01m\\n\u001b[39;00m\u001b[38;5;130;01m\\n\u001b[39;00m\u001b[38;5;124m\"\u001b[39m\n\u001b[1;32m    365\u001b[0m         \u001b[38;5;124mf\u001b[39m\u001b[38;5;124m\"\u001b[39m\u001b[38;5;124mBelow are more details about the failures:\u001b[39m\u001b[38;5;130;01m\\n\u001b[39;00m\u001b[38;5;132;01m{\u001b[39;00mfit_errors_summary\u001b[38;5;132;01m}\u001b[39;00m\u001b[38;5;124m\"\u001b[39m\n\u001b[1;32m    366\u001b[0m     )\n\u001b[0;32m--> 367\u001b[0m     \u001b[38;5;28;01mraise\u001b[39;00m \u001b[38;5;167;01mValueError\u001b[39;00m(all_fits_failed_message)\n\u001b[1;32m    369\u001b[0m \u001b[38;5;28;01melse\u001b[39;00m:\n\u001b[1;32m    370\u001b[0m     some_fits_failed_message \u001b[38;5;241m=\u001b[39m (\n\u001b[1;32m    371\u001b[0m         \u001b[38;5;124mf\u001b[39m\u001b[38;5;124m\"\u001b[39m\u001b[38;5;130;01m\\n\u001b[39;00m\u001b[38;5;132;01m{\u001b[39;00mnum_failed_fits\u001b[38;5;132;01m}\u001b[39;00m\u001b[38;5;124m fits failed out of a total of \u001b[39m\u001b[38;5;132;01m{\u001b[39;00mnum_fits\u001b[38;5;132;01m}\u001b[39;00m\u001b[38;5;124m.\u001b[39m\u001b[38;5;130;01m\\n\u001b[39;00m\u001b[38;5;124m\"\u001b[39m\n\u001b[1;32m    372\u001b[0m         \u001b[38;5;124m\"\u001b[39m\u001b[38;5;124mThe score on these train-test partitions for these parameters\u001b[39m\u001b[38;5;124m\"\u001b[39m\n\u001b[0;32m   (...)\u001b[0m\n\u001b[1;32m    376\u001b[0m         \u001b[38;5;124mf\u001b[39m\u001b[38;5;124m\"\u001b[39m\u001b[38;5;124mBelow are more details about the failures:\u001b[39m\u001b[38;5;130;01m\\n\u001b[39;00m\u001b[38;5;132;01m{\u001b[39;00mfit_errors_summary\u001b[38;5;132;01m}\u001b[39;00m\u001b[38;5;124m\"\u001b[39m\n\u001b[1;32m    377\u001b[0m     )\n",
      "\u001b[0;31mValueError\u001b[0m: \nAll the 12 fits failed.\nIt is very likely that your model is misconfigured.\nYou can try to debug the error by setting error_score='raise'.\n\nBelow are more details about the failures:\n--------------------------------------------------------------------------------\n4 fits failed with the following error:\nTraceback (most recent call last):\n  File \"/Users/lisaliang/opt/anaconda3/lib/python3.9/site-packages/sklearn/model_selection/_validation.py\", line 686, in _fit_and_score\n    estimator.fit(X_train, y_train, **fit_params)\n  File \"/Users/lisaliang/opt/anaconda3/lib/python3.9/site-packages/sklearn/pipeline.py\", line 405, in fit\n    self._final_estimator.fit(Xt, y, **fit_params_last_step)\n  File \"/Users/lisaliang/opt/anaconda3/lib/python3.9/site-packages/sklearn/ensemble/_bagging.py\", line 337, in fit\n    return self._fit(X, y, self.max_samples, sample_weight=sample_weight)\n  File \"/Users/lisaliang/opt/anaconda3/lib/python3.9/site-packages/sklearn/ensemble/_bagging.py\", line 393, in _fit\n    y = self._validate_y(y)\n  File \"/Users/lisaliang/opt/anaconda3/lib/python3.9/site-packages/sklearn/ensemble/_bagging.py\", line 802, in _validate_y\n    y = column_or_1d(y, warn=True)\n  File \"/Users/lisaliang/opt/anaconda3/lib/python3.9/site-packages/sklearn/utils/validation.py\", line 1202, in column_or_1d\n    raise ValueError(\nValueError: y should be a 1d array, got an array of shape (11904, 17) instead.\n\n--------------------------------------------------------------------------------\n8 fits failed with the following error:\nTraceback (most recent call last):\n  File \"/Users/lisaliang/opt/anaconda3/lib/python3.9/site-packages/sklearn/model_selection/_validation.py\", line 686, in _fit_and_score\n    estimator.fit(X_train, y_train, **fit_params)\n  File \"/Users/lisaliang/opt/anaconda3/lib/python3.9/site-packages/sklearn/pipeline.py\", line 405, in fit\n    self._final_estimator.fit(Xt, y, **fit_params_last_step)\n  File \"/Users/lisaliang/opt/anaconda3/lib/python3.9/site-packages/sklearn/ensemble/_bagging.py\", line 337, in fit\n    return self._fit(X, y, self.max_samples, sample_weight=sample_weight)\n  File \"/Users/lisaliang/opt/anaconda3/lib/python3.9/site-packages/sklearn/ensemble/_bagging.py\", line 393, in _fit\n    y = self._validate_y(y)\n  File \"/Users/lisaliang/opt/anaconda3/lib/python3.9/site-packages/sklearn/ensemble/_bagging.py\", line 802, in _validate_y\n    y = column_or_1d(y, warn=True)\n  File \"/Users/lisaliang/opt/anaconda3/lib/python3.9/site-packages/sklearn/utils/validation.py\", line 1202, in column_or_1d\n    raise ValueError(\nValueError: y should be a 1d array, got an array of shape (11905, 17) instead.\n"
     ]
    }
   ],
   "source": [
    "best_params(bag_pipe, bag_params, X_train, y_train)"
   ]
  },
  {
   "cell_type": "code",
   "execution_count": null,
   "id": "0e166136-425b-4ae0-892e-108f71734a2b",
   "metadata": {},
   "outputs": [],
   "source": [
    "bag_gs = return_gs(dt_pipe, dt_params, X_train, y_train)"
   ]
  },
  {
   "cell_type": "code",
   "execution_count": null,
   "id": "f9d6234f-271b-46a2-b661-1abf9087a3d5",
   "metadata": {},
   "outputs": [],
   "source": [
    "tts_scores(bag_gs, X_train, y_train, X_test, y_test)"
   ]
  },
  {
   "cell_type": "code",
   "execution_count": null,
   "id": "9a547344-d23b-4ca3-957e-c32beaed567b",
   "metadata": {},
   "outputs": [],
   "source": []
  },
  {
   "cell_type": "code",
   "execution_count": null,
   "id": "c62c597d-8f1f-4918-afc4-73d8b6f3f409",
   "metadata": {},
   "outputs": [],
   "source": []
  },
  {
   "cell_type": "code",
   "execution_count": null,
   "id": "bd3c2630-a799-4f47-9581-fc90ff73dba5",
   "metadata": {},
   "outputs": [],
   "source": []
  },
  {
   "cell_type": "markdown",
   "id": "6dcb62d5-b78c-4422-844b-9440b20f335b",
   "metadata": {},
   "source": [
    "### Classification Model DataFrame"
   ]
  },
  {
   "cell_type": "code",
   "execution_count": 184,
   "id": "b0a4a8c8-ff16-4bd9-af9c-41ec5c5e27df",
   "metadata": {},
   "outputs": [],
   "source": [
    "class_model = classification_scores('RandomForestClassifier', y_test, rfc_pred)"
   ]
  },
  {
   "cell_type": "code",
   "execution_count": 192,
   "id": "382c0bc2-ce34-4cfe-912e-1c3644dfc51d",
   "metadata": {},
   "outputs": [],
   "source": [
    "class_model = pd.concat([class_model, classification_scores('DecisionTree', y_test, dt_pred)])"
   ]
  },
  {
   "cell_type": "code",
   "execution_count": 193,
   "id": "a6d891ec-f6d7-4916-8130-8685197f6c9f",
   "metadata": {},
   "outputs": [
    {
     "data": {
      "text/html": [
       "<div>\n",
       "<style scoped>\n",
       "    .dataframe tbody tr th:only-of-type {\n",
       "        vertical-align: middle;\n",
       "    }\n",
       "\n",
       "    .dataframe tbody tr th {\n",
       "        vertical-align: top;\n",
       "    }\n",
       "\n",
       "    .dataframe thead th {\n",
       "        text-align: right;\n",
       "    }\n",
       "</style>\n",
       "<table border=\"1\" class=\"dataframe\">\n",
       "  <thead>\n",
       "    <tr style=\"text-align: right;\">\n",
       "      <th></th>\n",
       "      <th>Recall</th>\n",
       "      <th>Precision</th>\n",
       "      <th>F1</th>\n",
       "      <th>Accuracy</th>\n",
       "    </tr>\n",
       "  </thead>\n",
       "  <tbody>\n",
       "    <tr>\n",
       "      <th>RandomForestClassifier</th>\n",
       "      <td>0.9621</td>\n",
       "      <td>0.9621</td>\n",
       "      <td>0.9621</td>\n",
       "      <td>0.9621</td>\n",
       "    </tr>\n",
       "    <tr>\n",
       "      <th>DecisionTree</th>\n",
       "      <td>0.9634</td>\n",
       "      <td>0.9634</td>\n",
       "      <td>0.9634</td>\n",
       "      <td>0.9634</td>\n",
       "    </tr>\n",
       "  </tbody>\n",
       "</table>\n",
       "</div>"
      ],
      "text/plain": [
       "                        Recall  Precision     F1  Accuracy\n",
       "RandomForestClassifier  0.9621     0.9621 0.9621    0.9621\n",
       "DecisionTree            0.9634     0.9634 0.9634    0.9634"
      ]
     },
     "execution_count": 193,
     "metadata": {},
     "output_type": "execute_result"
    }
   ],
   "source": [
    "class_model"
   ]
  }
 ],
 "metadata": {
  "kernelspec": {
   "display_name": "Python 3 (ipykernel)",
   "language": "python",
   "name": "python3"
  },
  "language_info": {
   "codemirror_mode": {
    "name": "ipython",
    "version": 3
   },
   "file_extension": ".py",
   "mimetype": "text/x-python",
   "name": "python",
   "nbconvert_exporter": "python",
   "pygments_lexer": "ipython3",
   "version": "3.9.13"
  }
 },
 "nbformat": 4,
 "nbformat_minor": 5
}
