{
 "cells": [
  {
   "cell_type": "markdown",
   "id": "bcebd7ee-1432-4e56-87b4-2b0bfd0a8921",
   "metadata": {},
   "source": [
    "# Part 2 Preprocessing and Modeling\n",
    "----"
   ]
  },
  {
   "cell_type": "markdown",
   "id": "01fb8929-a891-4a31-af18-28656665ddc5",
   "metadata": {},
   "source": [
    "### Imports"
   ]
  },
  {
   "cell_type": "code",
   "execution_count": 1,
   "id": "3186e67c-1d8e-49ae-ac99-716933a3ce19",
   "metadata": {},
   "outputs": [],
   "source": [
    "import numpy as np\n",
    "from sklearn.model_selection import train_test_split, cross_val_score , GridSearchCV\n",
    "from sklearn import metrics\n",
    "\n",
    "import pandas as pd\n",
    "from sklearn.preprocessing import StandardScaler\n",
    "from sklearn.tree import DecisionTreeRegressor\n",
    "from sklearn.ensemble import RandomForestRegressor, GradientBoostingRegressor\n",
    "from sklearn.svm import SVR\n",
    "from sklearn import metrics"
   ]
  },
  {
   "cell_type": "markdown",
   "id": "cd3a1206-46e9-445d-b6f2-369fb8cc4bb7",
   "metadata": {},
   "source": [
    "### Load Data"
   ]
  },
  {
   "cell_type": "code",
   "execution_count": 2,
   "id": "4b028a48-4721-4f95-9863-1986150f7c8b",
   "metadata": {},
   "outputs": [],
   "source": [
    "# Set random seed for reproducible purposes\n",
    "np.random.seed(42)"
   ]
  },
  {
   "cell_type": "code",
   "execution_count": 3,
   "id": "32d77dce-60f5-4a5d-81fd-575456c52ad2",
   "metadata": {},
   "outputs": [
    {
     "data": {
      "text/html": [
       "<div>\n",
       "<style scoped>\n",
       "    .dataframe tbody tr th:only-of-type {\n",
       "        vertical-align: middle;\n",
       "    }\n",
       "\n",
       "    .dataframe tbody tr th {\n",
       "        vertical-align: top;\n",
       "    }\n",
       "\n",
       "    .dataframe thead th {\n",
       "        text-align: right;\n",
       "    }\n",
       "</style>\n",
       "<table border=\"1\" class=\"dataframe\">\n",
       "  <thead>\n",
       "    <tr style=\"text-align: right;\">\n",
       "      <th></th>\n",
       "      <th>Latitude</th>\n",
       "      <th>Longitude</th>\n",
       "      <th>country</th>\n",
       "      <th>commodity</th>\n",
       "      <th>year</th>\n",
       "      <th>loss_percentage</th>\n",
       "      <th>activity</th>\n",
       "      <th>food_supply_stage</th>\n",
       "    </tr>\n",
       "  </thead>\n",
       "  <tbody>\n",
       "    <tr>\n",
       "      <th>0</th>\n",
       "      <td>33.0</td>\n",
       "      <td>65.0</td>\n",
       "      <td>Afghanistan</td>\n",
       "      <td>Wheat</td>\n",
       "      <td>2017</td>\n",
       "      <td>15.00</td>\n",
       "      <td>wsc</td>\n",
       "      <td>Whole supply chain</td>\n",
       "    </tr>\n",
       "    <tr>\n",
       "      <th>1</th>\n",
       "      <td>33.0</td>\n",
       "      <td>65.0</td>\n",
       "      <td>Afghanistan</td>\n",
       "      <td>Maize (corn)</td>\n",
       "      <td>2017</td>\n",
       "      <td>14.95</td>\n",
       "      <td>wsc</td>\n",
       "      <td>Whole supply chain</td>\n",
       "    </tr>\n",
       "  </tbody>\n",
       "</table>\n",
       "</div>"
      ],
      "text/plain": [
       "   Latitude  Longitude      country     commodity  year  loss_percentage  \\\n",
       "0      33.0       65.0  Afghanistan         Wheat  2017            15.00   \n",
       "1      33.0       65.0  Afghanistan  Maize (corn)  2017            14.95   \n",
       "\n",
       "  activity   food_supply_stage  \n",
       "0      wsc  Whole supply chain  \n",
       "1      wsc  Whole supply chain  "
      ]
     },
     "execution_count": 3,
     "metadata": {},
     "output_type": "execute_result"
    }
   ],
   "source": [
    "# Load in the clean train data\n",
    "df = pd.read_csv('./data/clean_data.csv')\n",
    "df.head(2)"
   ]
  },
  {
   "cell_type": "code",
   "execution_count": 4,
   "id": "91221b09-a972-4184-b158-568fffd63f6f",
   "metadata": {},
   "outputs": [],
   "source": [
    "# Create a function that evaluates each model\n",
    "def eval_model(model):\n",
    "    # Make preds\n",
    "    preds = model.predict(X_test)\n",
    "    # R2 score and MSE\n",
    "    r2= metrics.r2_score(y_test, preds)\n",
    "    mse = metrics.mean_squared_error(y_test, preds)\n",
    "    rmse = np.sqrt(mse)\n",
    "    \n",
    "    print(model)\n",
    "    print('---------------------------')\n",
    "    print(\"R2:\", r2)\n",
    "    print(\"MSE:\", mse)\n",
    "    print(\"RMSE:\", rmse)"
   ]
  },
  {
   "cell_type": "markdown",
   "id": "5cd4f320-baff-47c3-8151-5c0769944972",
   "metadata": {
    "jp-MarkdownHeadingCollapsed": true,
    "tags": []
   },
   "source": [
    "#### Preprocessing (Regression)"
   ]
  },
  {
   "cell_type": "code",
   "execution_count": 5,
   "id": "7b8209e7-5a0c-4dab-b1f5-ecedc45b94ac",
   "metadata": {},
   "outputs": [],
   "source": [
    "# Set target and features\n",
    "X = df.drop(columns = 'loss_percentage')\n",
    "y = df['loss_percentage']"
   ]
  },
  {
   "cell_type": "code",
   "execution_count": 6,
   "id": "08f1abd1-1894-410b-a88b-e504ddcf9a62",
   "metadata": {},
   "outputs": [],
   "source": [
    "# Getting dummy cols for catergorical columns \n",
    "X = pd.get_dummies(data =X, columns=['country','commodity','activity','food_supply_stage'], drop_first=True)"
   ]
  },
  {
   "cell_type": "code",
   "execution_count": 7,
   "id": "e771acf5-cdf4-4db6-a19e-d692953faf1c",
   "metadata": {},
   "outputs": [
    {
     "name": "stdout",
     "output_type": "stream",
     "text": [
      "(23810, 404)\n",
      "(23810,)\n"
     ]
    }
   ],
   "source": [
    "# Check out new shape with dummy cols\n",
    "print(X.shape)\n",
    "print(y.shape)"
   ]
  },
  {
   "cell_type": "code",
   "execution_count": 8,
   "id": "0a83ed52-113d-4bd2-a340-513681a82f92",
   "metadata": {},
   "outputs": [],
   "source": [
    "# Train test split\n",
    "X_train, X_test, y_train, y_test = train_test_split(X, y, random_state = 42)"
   ]
  },
  {
   "cell_type": "code",
   "execution_count": 9,
   "id": "bcd8c768-f4a0-4bc7-8a55-33e1ce8746a0",
   "metadata": {},
   "outputs": [],
   "source": [
    "# Scale data\n",
    "sc = StandardScaler()\n",
    "\n",
    "# Fit and transform only on training to avoid data leakage, transform test\n",
    "X_train = sc.fit_transform(X_train)\n",
    "X_test = sc.transform(X_test)"
   ]
  },
  {
   "cell_type": "markdown",
   "id": "b2e3330e-c4f5-4ada-902c-c1883756d5cb",
   "metadata": {
    "jp-MarkdownHeadingCollapsed": true,
    "tags": []
   },
   "source": [
    "### Model 1 Random Forest (no tuning)"
   ]
  },
  {
   "cell_type": "code",
   "execution_count": 10,
   "id": "193abc1e-45eb-4dd0-8c80-8067e6358ebd",
   "metadata": {},
   "outputs": [
    {
     "data": {
      "text/plain": [
       "0.6711981108090667"
      ]
     },
     "execution_count": 10,
     "metadata": {},
     "output_type": "execute_result"
    }
   ],
   "source": [
    "# Instantiate model\n",
    "rf = RandomForestRegressor()\n",
    "\n",
    "# Fit model\n",
    "rf.fit(X_train, y_train)\n",
    "\n",
    "# Estimate model's performance on unseen data\n",
    "cross_val_score(rf, X_train, y_train, cv=3).mean()"
   ]
  },
  {
   "cell_type": "code",
   "execution_count": 11,
   "id": "0c86af49-3c00-4438-9545-5591bd13344f",
   "metadata": {},
   "outputs": [
    {
     "name": "stdout",
     "output_type": "stream",
     "text": [
      "RandomForestRegressor()\n",
      "---------------------------\n",
      "R2: 0.7176073916075209\n",
      "MSE: 7.567397687698302\n",
      "RMSE: 2.7508903445427086\n"
     ]
    }
   ],
   "source": [
    "# Get eval results\n",
    "eval_model(rf)"
   ]
  },
  {
   "cell_type": "markdown",
   "id": "1b3960a6-d29a-468c-b491-9d71eae0ec0e",
   "metadata": {
    "jp-MarkdownHeadingCollapsed": true,
    "tags": []
   },
   "source": [
    "### Model 2 Random Forest w/ GridSearch"
   ]
  },
  {
   "cell_type": "code",
   "execution_count": 12,
   "id": "5f9e0d62-c984-4151-95f0-3041b6326495",
   "metadata": {},
   "outputs": [],
   "source": [
    "# Set params\n",
    "params_rf = {\n",
    "    'n_estimators': [100, 120,150],\n",
    "    'max_depth': [None, 10,50,80],\n",
    "    'min_samples_leaf': [1,3, 4, 5]\n",
    "}"
   ]
  },
  {
   "cell_type": "code",
   "execution_count": 13,
   "id": "44059029-3718-4c79-ac31-4bddb6909942",
   "metadata": {},
   "outputs": [],
   "source": [
    "# Instantiate GridSearchCV\n",
    "gs_rf = GridSearchCV(rf,\n",
    "                  param_grid= params_rf,\n",
    "                  cv = 3)"
   ]
  },
  {
   "cell_type": "code",
   "execution_count": 14,
   "id": "59d78c07-20bb-4af8-b578-b6c9622fad41",
   "metadata": {},
   "outputs": [
    {
     "name": "stdout",
     "output_type": "stream",
     "text": [
      "0.6722218579114441\n"
     ]
    },
    {
     "data": {
      "text/plain": [
       "{'max_depth': None, 'min_samples_leaf': 1, 'n_estimators': 100}"
      ]
     },
     "execution_count": 14,
     "metadata": {},
     "output_type": "execute_result"
    }
   ],
   "source": [
    "# Fit GridSearchCV\n",
    "gs_rf.fit(X_train, y_train)\n",
    "\n",
    "# Print best score\n",
    "print(gs_rf.best_score_)\n",
    "\n",
    "# Print best params\n",
    "gs_rf.best_params_"
   ]
  },
  {
   "cell_type": "code",
   "execution_count": 15,
   "id": "aa7a8c92-e282-4679-9694-b2667d56123d",
   "metadata": {},
   "outputs": [
    {
     "name": "stdout",
     "output_type": "stream",
     "text": [
      "GridSearchCV(cv=3, estimator=RandomForestRegressor(),\n",
      "             param_grid={'max_depth': [None, 10, 50, 80],\n",
      "                         'min_samples_leaf': [1, 3, 4, 5],\n",
      "                         'n_estimators': [100, 120, 150]})\n",
      "---------------------------\n",
      "R2: 0.7172789359512087\n",
      "MSE: 7.576199456938073\n",
      "RMSE: 2.7524896833481636\n"
     ]
    }
   ],
   "source": [
    "# Get results\n",
    "eval_model(gs_rf)"
   ]
  },
  {
   "cell_type": "markdown",
   "id": "e519139d-eeba-4e60-bcc2-7c3820d3bc25",
   "metadata": {
    "jp-MarkdownHeadingCollapsed": true,
    "tags": []
   },
   "source": [
    "### Model 3 Random Forest w/ GridSearch"
   ]
  },
  {
   "cell_type": "code",
   "execution_count": 16,
   "id": "83cae512-a096-4d1c-bfe1-e810a54d2618",
   "metadata": {},
   "outputs": [],
   "source": [
    "params_rf2 = {\n",
    "    'n_estimators': [100, 120,150],\n",
    "    'max_depth': [None,5,10,25, 50],\n",
    "    'min_samples_leaf': [1,3, 4, 5],\n",
    "    'min_samples_split': [2, 5, 10]\n",
    "}"
   ]
  },
  {
   "cell_type": "code",
   "execution_count": 17,
   "id": "997ad386-82f0-4dce-ba90-bba4cc9af43a",
   "metadata": {},
   "outputs": [],
   "source": [
    "# Instantiate GridSearchCV\n",
    "gs_rf2 = GridSearchCV(rf,\n",
    "                  param_grid= params_rf2,\n",
    "                  cv = 3)"
   ]
  },
  {
   "cell_type": "code",
   "execution_count": 18,
   "id": "62d26d75-a33d-4fd9-b2ef-79b99aca28a3",
   "metadata": {},
   "outputs": [
    {
     "name": "stdout",
     "output_type": "stream",
     "text": [
      "0.6736165762009092\n"
     ]
    },
    {
     "data": {
      "text/plain": [
       "{'max_depth': 50,\n",
       " 'min_samples_leaf': 1,\n",
       " 'min_samples_split': 2,\n",
       " 'n_estimators': 150}"
      ]
     },
     "execution_count": 18,
     "metadata": {},
     "output_type": "execute_result"
    }
   ],
   "source": [
    "# Fit GridSearchCV\n",
    "gs_rf2.fit(X_train, y_train)\n",
    "\n",
    "# Print best score\n",
    "print(gs_rf2.best_score_)\n",
    "\n",
    "# Print best params\n",
    "gs_rf2.best_params_"
   ]
  },
  {
   "cell_type": "code",
   "execution_count": 19,
   "id": "7582d23e-75cf-4b37-b852-514c2231e76d",
   "metadata": {},
   "outputs": [
    {
     "name": "stdout",
     "output_type": "stream",
     "text": [
      "GridSearchCV(cv=3, estimator=RandomForestRegressor(),\n",
      "             param_grid={'max_depth': [None, 5, 10, 25, 50],\n",
      "                         'min_samples_leaf': [1, 3, 4, 5],\n",
      "                         'min_samples_split': [2, 5, 10],\n",
      "                         'n_estimators': [100, 120, 150]})\n",
      "---------------------------\n",
      "R2: 0.7182964995353436\n",
      "MSE: 7.548931362502095\n",
      "RMSE: 2.7475318674224862\n"
     ]
    }
   ],
   "source": [
    "# Get results\n",
    "eval_model(gs_rf2)"
   ]
  },
  {
   "cell_type": "markdown",
   "id": "40b4612c-a717-4056-a09d-fed54960daf0",
   "metadata": {
    "jp-MarkdownHeadingCollapsed": true,
    "tags": []
   },
   "source": [
    "### Model 4 Support Vector Regressor"
   ]
  },
  {
   "cell_type": "code",
   "execution_count": 20,
   "id": "4ada7e01-78f3-4a30-bde6-688dd80dbc4c",
   "metadata": {},
   "outputs": [],
   "source": [
    "# https://www.analyticsvidhya.com/blog/2020/03/support-vector-regression-tutorial-for-machine-learning/\n",
    "# https://scikit-learn.org/stable/modules/generated/sklearn.svm.SVR.html"
   ]
  },
  {
   "cell_type": "code",
   "execution_count": 21,
   "id": "47bb4c2b-1deb-4933-a209-ac0525b98848",
   "metadata": {},
   "outputs": [
    {
     "data": {
      "text/plain": [
       "0.2864476441975558"
      ]
     },
     "execution_count": 21,
     "metadata": {},
     "output_type": "execute_result"
    }
   ],
   "source": [
    "# Instantiate model\n",
    "svr = SVR(kernel='rbf')# this is the default\n",
    "\n",
    "# Fit model\n",
    "svr.fit(X_train, y_train)\n",
    "\n",
    "# Estimate model's performance on unseen data\n",
    "cross_val_score(svr, X_train, y_train, cv=3).mean()"
   ]
  },
  {
   "cell_type": "code",
   "execution_count": 22,
   "id": "7145d260-e4d7-4ce9-a906-ec81da696625",
   "metadata": {},
   "outputs": [
    {
     "name": "stdout",
     "output_type": "stream",
     "text": [
      "SVR()\n",
      "---------------------------\n",
      "R2: 0.3474930733226702\n",
      "MSE: 17.48551223154698\n",
      "RMSE: 4.181568154597864\n"
     ]
    }
   ],
   "source": [
    "# Get results\n",
    "eval_model(svr)"
   ]
  },
  {
   "cell_type": "markdown",
   "id": "f417eea7-a69e-4733-9d06-2e542e797f5f",
   "metadata": {
    "jp-MarkdownHeadingCollapsed": true,
    "tags": []
   },
   "source": [
    "### Model 5 DecisionTree "
   ]
  },
  {
   "cell_type": "code",
   "execution_count": 23,
   "id": "388e522a-e118-4a05-95a7-b045cc7872ca",
   "metadata": {},
   "outputs": [
    {
     "data": {
      "text/plain": [
       "0.5501243684108242"
      ]
     },
     "execution_count": 23,
     "metadata": {},
     "output_type": "execute_result"
    }
   ],
   "source": [
    "# Instantiate model\n",
    "dt = DecisionTreeRegressor()\n",
    "\n",
    "# Fit model \n",
    "dt.fit(X_train, y_train)\n",
    "\n",
    "# Estimate model's performance on unseen data\n",
    "cross_val_score(dt, X_train, y_train, cv=3).mean()"
   ]
  },
  {
   "cell_type": "code",
   "execution_count": 24,
   "id": "0303667e-6073-4288-bdc4-4e17d7f3bf55",
   "metadata": {},
   "outputs": [
    {
     "name": "stdout",
     "output_type": "stream",
     "text": [
      "DecisionTreeRegressor()\n",
      "---------------------------\n",
      "R2: 0.6059045175441484\n",
      "MSE: 10.560748242120717\n",
      "RMSE: 3.249730487612891\n"
     ]
    }
   ],
   "source": [
    "# Get results\n",
    "eval_model(dt)"
   ]
  },
  {
   "cell_type": "markdown",
   "id": "9bed5701-9505-4609-995f-0489f2daf6d4",
   "metadata": {
    "jp-MarkdownHeadingCollapsed": true,
    "tags": []
   },
   "source": [
    "### Model 6 Decision Tree w/ GridSearch"
   ]
  },
  {
   "cell_type": "code",
   "execution_count": 25,
   "id": "ae0adf0d-fecf-4499-853f-32a8ededbe7e",
   "metadata": {},
   "outputs": [],
   "source": [
    "params_dt = {\n",
    "    'max_depth': [9, 10,13,15],\n",
    "    'min_samples_split': [ 15, 18,20],\n",
    "    'min_samples_leaf': [1, 3, 5]\n",
    "}"
   ]
  },
  {
   "cell_type": "code",
   "execution_count": 26,
   "id": "e7f5fff1-917d-4469-8f5c-07445dd51a7b",
   "metadata": {},
   "outputs": [],
   "source": [
    "# Instantiate GridSearchCV\n",
    "gs_dt = GridSearchCV(dt,\n",
    "                  param_grid= params_dt,\n",
    "                  cv = 3)"
   ]
  },
  {
   "cell_type": "code",
   "execution_count": 27,
   "id": "53444149-335d-492f-a536-0eb4b4ca975b",
   "metadata": {},
   "outputs": [
    {
     "name": "stdout",
     "output_type": "stream",
     "text": [
      "0.5180265016637876\n"
     ]
    },
    {
     "data": {
      "text/plain": [
       "{'max_depth': 15, 'min_samples_leaf': 1, 'min_samples_split': 15}"
      ]
     },
     "execution_count": 27,
     "metadata": {},
     "output_type": "execute_result"
    }
   ],
   "source": [
    "# Fit GridSearchCV\n",
    "gs_dt.fit(X_train, y_train)\n",
    "\n",
    "# Print best score\n",
    "print(gs_dt.best_score_)\n",
    "\n",
    "# Print best params\n",
    "gs_dt.best_params_"
   ]
  },
  {
   "cell_type": "code",
   "execution_count": 28,
   "id": "4507ed3d-c9f1-44d2-8362-526d63aea297",
   "metadata": {},
   "outputs": [
    {
     "name": "stdout",
     "output_type": "stream",
     "text": [
      "GridSearchCV(cv=3, estimator=DecisionTreeRegressor(),\n",
      "             param_grid={'max_depth': [9, 10, 13, 15],\n",
      "                         'min_samples_leaf': [1, 3, 5],\n",
      "                         'min_samples_split': [15, 18, 20]})\n",
      "---------------------------\n",
      "R2: 0.5678647807427905\n",
      "MSE: 11.580115632612637\n",
      "RMSE: 3.402956895497302\n"
     ]
    }
   ],
   "source": [
    "# Get results\n",
    "eval_model(gs_dt)"
   ]
  },
  {
   "cell_type": "markdown",
   "id": "dc3847d4-b522-49ae-8609-f1a11c7fd499",
   "metadata": {
    "tags": []
   },
   "source": [
    "### Model 7 Gradient Boosting"
   ]
  },
  {
   "cell_type": "code",
   "execution_count": 29,
   "id": "18b8256f-fcb8-4e2e-813d-3226bdcc1f44",
   "metadata": {},
   "outputs": [
    {
     "data": {
      "text/plain": [
       "0.45664705076030304"
      ]
     },
     "execution_count": 29,
     "metadata": {},
     "output_type": "execute_result"
    }
   ],
   "source": [
    "# Instantiate Model\n",
    "gb = GradientBoostingRegressor()\n",
    "\n",
    "# Fit model\n",
    "gb.fit(X_train, y_train)\n",
    "\n",
    "\n",
    "# Estimate model's performance on unseen data\n",
    "cross_val_score(gb, X_train, y_train, cv=3).mean()"
   ]
  },
  {
   "cell_type": "code",
   "execution_count": 30,
   "id": "74cf1392-08a6-432d-bb63-d080802d6b1c",
   "metadata": {},
   "outputs": [
    {
     "name": "stdout",
     "output_type": "stream",
     "text": [
      "GradientBoostingRegressor()\n",
      "---------------------------\n",
      "R2: 0.46876094719974315\n",
      "MSE: 14.235844212283444\n",
      "RMSE: 3.7730417718709988\n"
     ]
    }
   ],
   "source": [
    "# Get results\n",
    "eval_model(gb)"
   ]
  }
 ],
 "metadata": {
  "kernelspec": {
   "display_name": "Python 3 (ipykernel)",
   "language": "python",
   "name": "python3"
  },
  "language_info": {
   "codemirror_mode": {
    "name": "ipython",
    "version": 3
   },
   "file_extension": ".py",
   "mimetype": "text/x-python",
   "name": "python",
   "nbconvert_exporter": "python",
   "pygments_lexer": "ipython3",
   "version": "3.9.13"
  }
 },
 "nbformat": 4,
 "nbformat_minor": 5
}
