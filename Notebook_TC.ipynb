{
 "cells": [
  {
   "cell_type": "code",
   "execution_count": 21,
   "id": "43a64486-f5a2-4248-80e3-b0fd86800cb6",
   "metadata": {},
   "outputs": [],
   "source": [
    "import pandas as pd\n",
    "import numpy as np\n",
    "from sklearn.ensemble import RandomForestClassifier, RandomForestRegressor\n",
    "from sklearn.model_selection import train_test_split\n",
    "from sklearn.preprocessing import LabelEncoder\n",
    "from sklearn.metrics import classification_report, mean_squared_error, mean_absolute_error, r2_score\n",
    "from sklearn.impute import SimpleImputer"
   ]
  },
  {
   "cell_type": "code",
   "execution_count": 12,
   "id": "004c9bc4-a24c-4d6b-ac33-2812d87198bc",
   "metadata": {},
   "outputs": [],
   "source": [
    "df = pd.read_csv('./Data.csv')"
   ]
  },
  {
   "cell_type": "markdown",
   "id": "7d54ab25-f42f-40b4-9d44-bcc13f50f119",
   "metadata": {
    "tags": []
   },
   "source": [
    "## RandomForestClassifier:\n",
    "---"
   ]
  },
  {
   "cell_type": "code",
   "execution_count": 13,
   "id": "7763b0c6-8800-46f6-acfd-e05787caa9c3",
   "metadata": {},
   "outputs": [],
   "source": [
    "# Deal with null values - I'll use SimpleImputer to fill missing values\n",
    "# For categorical columns use most frequent strategy\n",
    "for column in df.select_dtypes(include=['object']).columns:\n",
    "    imputer = SimpleImputer(strategy='most_frequent')\n",
    "    df[column] = imputer.fit_transform(df[[column]])"
   ]
  },
  {
   "cell_type": "code",
   "execution_count": 14,
   "id": "49cfb17f-2be5-4501-be8b-ca415f101a66",
   "metadata": {},
   "outputs": [],
   "source": [
    "# For numerical columns use mean strategy\n",
    "for column in df.select_dtypes(include=[np.number]).columns:\n",
    "    imputer = SimpleImputer(strategy='mean')\n",
    "    df[column] = imputer.fit_transform(df[[column]])"
   ]
  },
  {
   "cell_type": "code",
   "execution_count": 15,
   "id": "dfa41dab-6575-434d-a7d7-144401dba282",
   "metadata": {},
   "outputs": [],
   "source": [
    "# Encode categorical features\n",
    "label_encoders = {}\n",
    "for column in df.select_dtypes(include=['object']).columns:\n",
    "    label_encoders[column] = LabelEncoder()\n",
    "    df[column] = label_encoders[column].fit_transform(df[column])"
   ]
  },
  {
   "cell_type": "code",
   "execution_count": 16,
   "id": "6288a5ed-5f02-4424-9494-312ba840a1a0",
   "metadata": {},
   "outputs": [],
   "source": [
    "# Split into features and target variable\n",
    "X = df.drop('food_supply_stage', axis=1)\n",
    "y = df['food_supply_stage']"
   ]
  },
  {
   "cell_type": "code",
   "execution_count": 17,
   "id": "104913a1-391a-4cf8-b884-bae06b26c90e",
   "metadata": {},
   "outputs": [],
   "source": [
    "# Split data into training and testing sets\n",
    "X_train, X_test, y_train, y_test = train_test_split(X, y, test_size=0.2, random_state=42)"
   ]
  },
  {
   "cell_type": "code",
   "execution_count": 18,
   "id": "a0091810-2db4-42e8-9128-e88cff590881",
   "metadata": {},
   "outputs": [
    {
     "data": {
      "text/html": [
       "<style>#sk-container-id-1 {color: black;background-color: white;}#sk-container-id-1 pre{padding: 0;}#sk-container-id-1 div.sk-toggleable {background-color: white;}#sk-container-id-1 label.sk-toggleable__label {cursor: pointer;display: block;width: 100%;margin-bottom: 0;padding: 0.3em;box-sizing: border-box;text-align: center;}#sk-container-id-1 label.sk-toggleable__label-arrow:before {content: \"▸\";float: left;margin-right: 0.25em;color: #696969;}#sk-container-id-1 label.sk-toggleable__label-arrow:hover:before {color: black;}#sk-container-id-1 div.sk-estimator:hover label.sk-toggleable__label-arrow:before {color: black;}#sk-container-id-1 div.sk-toggleable__content {max-height: 0;max-width: 0;overflow: hidden;text-align: left;background-color: #f0f8ff;}#sk-container-id-1 div.sk-toggleable__content pre {margin: 0.2em;color: black;border-radius: 0.25em;background-color: #f0f8ff;}#sk-container-id-1 input.sk-toggleable__control:checked~div.sk-toggleable__content {max-height: 200px;max-width: 100%;overflow: auto;}#sk-container-id-1 input.sk-toggleable__control:checked~label.sk-toggleable__label-arrow:before {content: \"▾\";}#sk-container-id-1 div.sk-estimator input.sk-toggleable__control:checked~label.sk-toggleable__label {background-color: #d4ebff;}#sk-container-id-1 div.sk-label input.sk-toggleable__control:checked~label.sk-toggleable__label {background-color: #d4ebff;}#sk-container-id-1 input.sk-hidden--visually {border: 0;clip: rect(1px 1px 1px 1px);clip: rect(1px, 1px, 1px, 1px);height: 1px;margin: -1px;overflow: hidden;padding: 0;position: absolute;width: 1px;}#sk-container-id-1 div.sk-estimator {font-family: monospace;background-color: #f0f8ff;border: 1px dotted black;border-radius: 0.25em;box-sizing: border-box;margin-bottom: 0.5em;}#sk-container-id-1 div.sk-estimator:hover {background-color: #d4ebff;}#sk-container-id-1 div.sk-parallel-item::after {content: \"\";width: 100%;border-bottom: 1px solid gray;flex-grow: 1;}#sk-container-id-1 div.sk-label:hover label.sk-toggleable__label {background-color: #d4ebff;}#sk-container-id-1 div.sk-serial::before {content: \"\";position: absolute;border-left: 1px solid gray;box-sizing: border-box;top: 0;bottom: 0;left: 50%;z-index: 0;}#sk-container-id-1 div.sk-serial {display: flex;flex-direction: column;align-items: center;background-color: white;padding-right: 0.2em;padding-left: 0.2em;position: relative;}#sk-container-id-1 div.sk-item {position: relative;z-index: 1;}#sk-container-id-1 div.sk-parallel {display: flex;align-items: stretch;justify-content: center;background-color: white;position: relative;}#sk-container-id-1 div.sk-item::before, #sk-container-id-1 div.sk-parallel-item::before {content: \"\";position: absolute;border-left: 1px solid gray;box-sizing: border-box;top: 0;bottom: 0;left: 50%;z-index: -1;}#sk-container-id-1 div.sk-parallel-item {display: flex;flex-direction: column;z-index: 1;position: relative;background-color: white;}#sk-container-id-1 div.sk-parallel-item:first-child::after {align-self: flex-end;width: 50%;}#sk-container-id-1 div.sk-parallel-item:last-child::after {align-self: flex-start;width: 50%;}#sk-container-id-1 div.sk-parallel-item:only-child::after {width: 0;}#sk-container-id-1 div.sk-dashed-wrapped {border: 1px dashed gray;margin: 0 0.4em 0.5em 0.4em;box-sizing: border-box;padding-bottom: 0.4em;background-color: white;}#sk-container-id-1 div.sk-label label {font-family: monospace;font-weight: bold;display: inline-block;line-height: 1.2em;}#sk-container-id-1 div.sk-label-container {text-align: center;}#sk-container-id-1 div.sk-container {/* jupyter's `normalize.less` sets `[hidden] { display: none; }` but bootstrap.min.css set `[hidden] { display: none !important; }` so we also need the `!important` here to be able to override the default hidden behavior on the sphinx rendered scikit-learn.org. See: https://github.com/scikit-learn/scikit-learn/issues/21755 */display: inline-block !important;position: relative;}#sk-container-id-1 div.sk-text-repr-fallback {display: none;}</style><div id=\"sk-container-id-1\" class=\"sk-top-container\"><div class=\"sk-text-repr-fallback\"><pre>RandomForestClassifier(random_state=42)</pre><b>In a Jupyter environment, please rerun this cell to show the HTML representation or trust the notebook. <br />On GitHub, the HTML representation is unable to render, please try loading this page with nbviewer.org.</b></div><div class=\"sk-container\" hidden><div class=\"sk-item\"><div class=\"sk-estimator sk-toggleable\"><input class=\"sk-toggleable__control sk-hidden--visually\" id=\"sk-estimator-id-1\" type=\"checkbox\" checked><label for=\"sk-estimator-id-1\" class=\"sk-toggleable__label sk-toggleable__label-arrow\">RandomForestClassifier</label><div class=\"sk-toggleable__content\"><pre>RandomForestClassifier(random_state=42)</pre></div></div></div></div></div>"
      ],
      "text/plain": [
       "RandomForestClassifier(random_state=42)"
      ]
     },
     "execution_count": 18,
     "metadata": {},
     "output_type": "execute_result"
    }
   ],
   "source": [
    "# Create a Random Forest Classifier and fit it to the training data\n",
    "clf = RandomForestClassifier(n_estimators=100, random_state=42)\n",
    "clf.fit(X_train, y_train)"
   ]
  },
  {
   "cell_type": "code",
   "execution_count": 19,
   "id": "3a762c61-a5d6-4010-a75e-100c30949877",
   "metadata": {},
   "outputs": [],
   "source": [
    "# Predict on the test data\n",
    "y_pred = clf.predict(X_test)"
   ]
  },
  {
   "cell_type": "code",
   "execution_count": 20,
   "id": "a28a26b2-0134-47a5-b23e-6145c8013f4c",
   "metadata": {},
   "outputs": [
    {
     "name": "stdout",
     "output_type": "stream",
     "text": [
      "              precision    recall  f1-score   support\n",
      "\n",
      "           0       0.00      0.00      0.00         2\n",
      "           1       1.00      0.86      0.92         7\n",
      "           2       0.98      0.98      0.98      2531\n",
      "           3       1.00      1.00      1.00         1\n",
      "           4       1.00      1.00      1.00         1\n",
      "           5       0.99      0.98      0.98       724\n",
      "           6       0.93      0.86      0.89        44\n",
      "           7       0.00      0.00      0.00         1\n",
      "           8       0.00      0.00      0.00         1\n",
      "           9       1.00      0.42      0.59        12\n",
      "          10       0.00      0.00      0.00         2\n",
      "          11       0.63      0.72      0.67        43\n",
      "          12       0.81      0.80      0.81        97\n",
      "          14       0.91      0.96      0.93       502\n",
      "          15       0.77      0.62      0.69        16\n",
      "          16       0.97      0.95      0.96       350\n",
      "          17       0.99      0.99      0.99      1176\n",
      "          18       0.44      0.47      0.45        45\n",
      "\n",
      "    accuracy                           0.96      5555\n",
      "   macro avg       0.69      0.64      0.66      5555\n",
      "weighted avg       0.97      0.96      0.96      5555\n",
      "\n"
     ]
    },
    {
     "name": "stderr",
     "output_type": "stream",
     "text": [
      "/Users/triston/opt/anaconda3/lib/python3.9/site-packages/sklearn/metrics/_classification.py:1327: UndefinedMetricWarning: Precision and F-score are ill-defined and being set to 0.0 in labels with no predicted samples. Use `zero_division` parameter to control this behavior.\n",
      "  _warn_prf(average, modifier, msg_start, len(result))\n",
      "/Users/triston/opt/anaconda3/lib/python3.9/site-packages/sklearn/metrics/_classification.py:1327: UndefinedMetricWarning: Precision and F-score are ill-defined and being set to 0.0 in labels with no predicted samples. Use `zero_division` parameter to control this behavior.\n",
      "  _warn_prf(average, modifier, msg_start, len(result))\n",
      "/Users/triston/opt/anaconda3/lib/python3.9/site-packages/sklearn/metrics/_classification.py:1327: UndefinedMetricWarning: Precision and F-score are ill-defined and being set to 0.0 in labels with no predicted samples. Use `zero_division` parameter to control this behavior.\n",
      "  _warn_prf(average, modifier, msg_start, len(result))\n"
     ]
    }
   ],
   "source": [
    "# Evaluate the model\n",
    "print(classification_report(y_test, y_pred))"
   ]
  },
  {
   "cell_type": "markdown",
   "id": "e1561eed-d0ab-4300-bfc2-3ed21a2ce24e",
   "metadata": {},
   "source": [
    "### Summary:\n",
    "---"
   ]
  },
  {
   "cell_type": "markdown",
   "id": "58a83a78-7c53-46d4-bce2-11e020de6beb",
   "metadata": {},
   "source": [
    "- Overall Accuracy: The overall accuracy of the model is 96%, which means that the model is able to correctly classify the food supply stage 96% of the time across all classes. This is a high accuracy rate, suggesting that the model is generally very effective at predicting the food supply stage.\n",
    "\n",
    "- F1-Score: The F1-score is a balanced measure of precision and recall. It's particularly useful in situations where you care about both false positives and false negatives. Most of the F1-scores for the individual classes are quite high, often close to or at 1.00. This indicates that for most classes, the model is doing an excellent job of correctly identifying instances of the class (high precision) and also not missing instances of the class (high recall). The weighted average of the F1-score, which takes into account the number of instances of each class, is 0.96, indicating excellent overall performance.\n",
    "\n",
    "The overall high accuaracy and F1-scores suggest that this model would be very useful for predicting the food supply stage in most situations. To further improve this model, future work could investigate strategies for dealing with the classes where current performance is poor."
   ]
  },
  {
   "cell_type": "markdown",
   "id": "cd69fc36-8280-4227-be65-4ab96ec55551",
   "metadata": {
    "tags": []
   },
   "source": [
    "## RandomForestRegressor:\n",
    "---"
   ]
  },
  {
   "cell_type": "code",
   "execution_count": 22,
   "id": "52e3837b-e5bc-4773-837e-699d40909015",
   "metadata": {},
   "outputs": [],
   "source": [
    "df_reg = pd.read_csv('./Data.csv')"
   ]
  },
  {
   "cell_type": "code",
   "execution_count": 23,
   "id": "da7b79a0-d15b-4834-bd57-5c59d65d00e7",
   "metadata": {},
   "outputs": [],
   "source": [
    "# Deal with null values - I'll use SimpleImputer to fill missing values\n",
    "# For categorical columns use most frequent strategy\n",
    "for column in df_reg.select_dtypes(include=['object']).columns:\n",
    "    imputer = SimpleImputer(strategy='most_frequent')\n",
    "    df_reg[column] = imputer.fit_transform(df_reg[[column]])"
   ]
  },
  {
   "cell_type": "code",
   "execution_count": 24,
   "id": "5aa33578-8a34-4b32-922c-06aec4e72f27",
   "metadata": {},
   "outputs": [],
   "source": [
    "# For numerical columns use mean strategy\n",
    "for column in df_reg.select_dtypes(include=[np.number]).columns:\n",
    "    imputer = SimpleImputer(strategy='mean')\n",
    "    df_reg[column] = imputer.fit_transform(df_reg[[column]])"
   ]
  },
  {
   "cell_type": "code",
   "execution_count": 25,
   "id": "072113ad-559d-4af4-a1bd-4138beb24206",
   "metadata": {},
   "outputs": [],
   "source": [
    "# Encode categorical features\n",
    "label_encoders_reg = {}\n",
    "for column in df_reg.select_dtypes(include=['object']).columns:\n",
    "    label_encoders_reg[column] = LabelEncoder()\n",
    "    df_reg[column] = label_encoders_reg[column].fit_transform(df_reg[column])"
   ]
  },
  {
   "cell_type": "code",
   "execution_count": 26,
   "id": "bf8f55ec-975a-4c8d-8af6-8e62f6c72c1d",
   "metadata": {},
   "outputs": [],
   "source": [
    "# Split into features and target variable\n",
    "X_reg = df_reg.drop('loss_percentage', axis=1)\n",
    "y_reg = df_reg['loss_percentage']"
   ]
  },
  {
   "cell_type": "code",
   "execution_count": 27,
   "id": "60728ee1-f0a9-4055-ad00-d9802dc6fa22",
   "metadata": {},
   "outputs": [],
   "source": [
    "# Split data into training and testing sets\n",
    "X_train_reg, X_test_reg, y_train_reg, y_test_reg = train_test_split(X_reg, y_reg, test_size=0.2, random_state=42)"
   ]
  },
  {
   "cell_type": "code",
   "execution_count": 28,
   "id": "2c814b10-f75c-4823-94ef-db352ba1f022",
   "metadata": {},
   "outputs": [
    {
     "data": {
      "text/html": [
       "<style>#sk-container-id-2 {color: black;background-color: white;}#sk-container-id-2 pre{padding: 0;}#sk-container-id-2 div.sk-toggleable {background-color: white;}#sk-container-id-2 label.sk-toggleable__label {cursor: pointer;display: block;width: 100%;margin-bottom: 0;padding: 0.3em;box-sizing: border-box;text-align: center;}#sk-container-id-2 label.sk-toggleable__label-arrow:before {content: \"▸\";float: left;margin-right: 0.25em;color: #696969;}#sk-container-id-2 label.sk-toggleable__label-arrow:hover:before {color: black;}#sk-container-id-2 div.sk-estimator:hover label.sk-toggleable__label-arrow:before {color: black;}#sk-container-id-2 div.sk-toggleable__content {max-height: 0;max-width: 0;overflow: hidden;text-align: left;background-color: #f0f8ff;}#sk-container-id-2 div.sk-toggleable__content pre {margin: 0.2em;color: black;border-radius: 0.25em;background-color: #f0f8ff;}#sk-container-id-2 input.sk-toggleable__control:checked~div.sk-toggleable__content {max-height: 200px;max-width: 100%;overflow: auto;}#sk-container-id-2 input.sk-toggleable__control:checked~label.sk-toggleable__label-arrow:before {content: \"▾\";}#sk-container-id-2 div.sk-estimator input.sk-toggleable__control:checked~label.sk-toggleable__label {background-color: #d4ebff;}#sk-container-id-2 div.sk-label input.sk-toggleable__control:checked~label.sk-toggleable__label {background-color: #d4ebff;}#sk-container-id-2 input.sk-hidden--visually {border: 0;clip: rect(1px 1px 1px 1px);clip: rect(1px, 1px, 1px, 1px);height: 1px;margin: -1px;overflow: hidden;padding: 0;position: absolute;width: 1px;}#sk-container-id-2 div.sk-estimator {font-family: monospace;background-color: #f0f8ff;border: 1px dotted black;border-radius: 0.25em;box-sizing: border-box;margin-bottom: 0.5em;}#sk-container-id-2 div.sk-estimator:hover {background-color: #d4ebff;}#sk-container-id-2 div.sk-parallel-item::after {content: \"\";width: 100%;border-bottom: 1px solid gray;flex-grow: 1;}#sk-container-id-2 div.sk-label:hover label.sk-toggleable__label {background-color: #d4ebff;}#sk-container-id-2 div.sk-serial::before {content: \"\";position: absolute;border-left: 1px solid gray;box-sizing: border-box;top: 0;bottom: 0;left: 50%;z-index: 0;}#sk-container-id-2 div.sk-serial {display: flex;flex-direction: column;align-items: center;background-color: white;padding-right: 0.2em;padding-left: 0.2em;position: relative;}#sk-container-id-2 div.sk-item {position: relative;z-index: 1;}#sk-container-id-2 div.sk-parallel {display: flex;align-items: stretch;justify-content: center;background-color: white;position: relative;}#sk-container-id-2 div.sk-item::before, #sk-container-id-2 div.sk-parallel-item::before {content: \"\";position: absolute;border-left: 1px solid gray;box-sizing: border-box;top: 0;bottom: 0;left: 50%;z-index: -1;}#sk-container-id-2 div.sk-parallel-item {display: flex;flex-direction: column;z-index: 1;position: relative;background-color: white;}#sk-container-id-2 div.sk-parallel-item:first-child::after {align-self: flex-end;width: 50%;}#sk-container-id-2 div.sk-parallel-item:last-child::after {align-self: flex-start;width: 50%;}#sk-container-id-2 div.sk-parallel-item:only-child::after {width: 0;}#sk-container-id-2 div.sk-dashed-wrapped {border: 1px dashed gray;margin: 0 0.4em 0.5em 0.4em;box-sizing: border-box;padding-bottom: 0.4em;background-color: white;}#sk-container-id-2 div.sk-label label {font-family: monospace;font-weight: bold;display: inline-block;line-height: 1.2em;}#sk-container-id-2 div.sk-label-container {text-align: center;}#sk-container-id-2 div.sk-container {/* jupyter's `normalize.less` sets `[hidden] { display: none; }` but bootstrap.min.css set `[hidden] { display: none !important; }` so we also need the `!important` here to be able to override the default hidden behavior on the sphinx rendered scikit-learn.org. See: https://github.com/scikit-learn/scikit-learn/issues/21755 */display: inline-block !important;position: relative;}#sk-container-id-2 div.sk-text-repr-fallback {display: none;}</style><div id=\"sk-container-id-2\" class=\"sk-top-container\"><div class=\"sk-text-repr-fallback\"><pre>RandomForestRegressor(random_state=42)</pre><b>In a Jupyter environment, please rerun this cell to show the HTML representation or trust the notebook. <br />On GitHub, the HTML representation is unable to render, please try loading this page with nbviewer.org.</b></div><div class=\"sk-container\" hidden><div class=\"sk-item\"><div class=\"sk-estimator sk-toggleable\"><input class=\"sk-toggleable__control sk-hidden--visually\" id=\"sk-estimator-id-2\" type=\"checkbox\" checked><label for=\"sk-estimator-id-2\" class=\"sk-toggleable__label sk-toggleable__label-arrow\">RandomForestRegressor</label><div class=\"sk-toggleable__content\"><pre>RandomForestRegressor(random_state=42)</pre></div></div></div></div></div>"
      ],
      "text/plain": [
       "RandomForestRegressor(random_state=42)"
      ]
     },
     "execution_count": 28,
     "metadata": {},
     "output_type": "execute_result"
    }
   ],
   "source": [
    "# Create a Random Forest Regressor and fit it to the training data\n",
    "regr = RandomForestRegressor(n_estimators=100, random_state=42)\n",
    "regr.fit(X_train_reg, y_train_reg)"
   ]
  },
  {
   "cell_type": "code",
   "execution_count": 29,
   "id": "1ef26478-45aa-4f50-8ec0-a41c4bf99252",
   "metadata": {},
   "outputs": [],
   "source": [
    "# Predict on the test data\n",
    "y_pred_reg = regr.predict(X_test_reg)"
   ]
  },
  {
   "cell_type": "code",
   "execution_count": 30,
   "id": "d5b7b8b6-83fd-4f92-b734-a932a55ad8ac",
   "metadata": {},
   "outputs": [
    {
     "name": "stdout",
     "output_type": "stream",
     "text": [
      "Mean Squared Error: 1.456968605789579\n",
      "Mean Absolute Error: 0.14629128008628342\n",
      "R^2 Score: 0.9580672048696505\n"
     ]
    }
   ],
   "source": [
    "# Evaluate the model\n",
    "print(f\"Mean Squared Error: {mean_squared_error(y_test_reg, y_pred_reg)}\")\n",
    "print(f\"Mean Absolute Error: {mean_absolute_error(y_test_reg, y_pred_reg)}\")\n",
    "print(f\"R^2 Score: {r2_score(y_test_reg, y_pred_reg)}\")"
   ]
  },
  {
   "cell_type": "markdown",
   "id": "a0755172-49ac-46e0-8fff-8bb3ef8ef1bb",
   "metadata": {},
   "source": [
    "### Summary:\n",
    "---\n",
    "\n",
    "- Mean Squared Error (MSE): The MSE is 1.456, which indicates the average squared difference between the estimated values and the actual value. MSE is a risk metric corresponding to the expected value of the squared error loss. The smaller the MSE, the better the forecast is. In this case, the MSE is quite low, indicating that the model's predictions are reasonably close to the actual values.\n",
    "\n",
    "- Mean Absolute Error (MAE): The MAE is 0.146, which measures the average magnitude of the errors in a set of predictions, without considering their direction. It's the average over the test sample of the absolute differences between prediction and actual observation where all individual differences have equal weight. Again, lower values are better. The relatively low MAE in this case indicates that the model has a low average prediction error.\n",
    "\n",
    "- R-squared (R^2): The R^2 score is 0.958, which is quite high. This metric provides a measure of how well observed outcomes are replicated by the model, based on the proportion of total variation of outcomes explained by the model. An R^2 of 100% indicates that all changes in the dependent variable are completely explained by changes in the independent variable(s). An R^2 of 95.8% in this context suggests that 95.8% of the variability in the 'loss_percentage' can be explained by the features in our model. This is an excellent score, implying that our model explains most of the variability in the data, and thus should have strong predictive power.\n",
    "\n",
    "In summary, the model appears to perform very well in predicting the 'loss_percentage'. The low MSE and MAE values suggest that the model's predictions are quite close to the actual values, while the high R^2 score indicates that the model explains a significant proportion of the variance in the 'loss_percentage'."
   ]
  }
 ],
 "metadata": {
  "kernelspec": {
   "display_name": "Python 3 (ipykernel)",
   "language": "python",
   "name": "python3"
  },
  "language_info": {
   "codemirror_mode": {
    "name": "ipython",
    "version": 3
   },
   "file_extension": ".py",
   "mimetype": "text/x-python",
   "name": "python",
   "nbconvert_exporter": "python",
   "pygments_lexer": "ipython3",
   "version": "3.9.13"
  }
 },
 "nbformat": 4,
 "nbformat_minor": 5
}
