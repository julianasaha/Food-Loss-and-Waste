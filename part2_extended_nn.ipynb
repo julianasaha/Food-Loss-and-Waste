{
  "nbformat": 4,
  "nbformat_minor": 0,
  "metadata": {
    "colab": {
      "provenance": [],
      "gpuType": "T4"
    },
    "kernelspec": {
      "name": "python3",
      "display_name": "Python 3"
    },
    "language_info": {
      "name": "python"
    },
    "accelerator": "GPU",
    "gpuClass": "standard"
  },
  "cells": [
    {
      "cell_type": "code",
      "source": [
        "import matplotlib.pyplot as plt\n",
        "import numpy as np\n",
        "import pandas as pd\n",
        "\n",
        "from sklearn.datasets import fetch_california_housing\n",
        "from sklearn.model_selection import train_test_split\n",
        "from sklearn.preprocessing import StandardScaler\n",
        "\n",
        "from tensorflow.keras.models import Sequential\n",
        "from tensorflow.keras.layers import Dense, Dropout, BatchNormalization\n",
        "from tensorflow.keras.regularizers import l1, l2, l1_l2\n",
        "from tensorflow.keras.callbacks import EarlyStopping\n",
        "\n",
        "# encoding imports\n",
        "from sklearn.impute import SimpleImputer\n",
        "from sklearn.preprocessing import LabelEncoder\n",
        "from tensorflow.keras.utils import to_categorical"
      ],
      "metadata": {
        "id": "iDmJECoEv7j5"
      },
      "execution_count": 99,
      "outputs": []
    },
    {
      "cell_type": "code",
      "source": [
        "import random\n",
        "random.seed(42)"
      ],
      "metadata": {
        "id": "P3NzPTIdxMMo"
      },
      "execution_count": 38,
      "outputs": []
    },
    {
      "cell_type": "code",
      "source": [
        "df = pd.read_csv('/content/clean_data.csv')"
      ],
      "metadata": {
        "id": "h26iIw57v7Yx"
      },
      "execution_count": 39,
      "outputs": []
    },
    {
      "cell_type": "code",
      "source": [
        "df.head()"
      ],
      "metadata": {
        "colab": {
          "base_uri": "https://localhost:8080/",
          "height": 250
        },
        "id": "pYE1Jv7dv7Lk",
        "outputId": "8d3b30fa-23a3-461d-d1a1-618c3d070be0"
      },
      "execution_count": 40,
      "outputs": [
        {
          "output_type": "execute_result",
          "data": {
            "text/plain": [
              "   Latitude  Longitude      country     commodity  year  loss_percentage  \\\n",
              "0      33.0       65.0  Afghanistan         Wheat  2017            15.00   \n",
              "1      33.0       65.0  Afghanistan  Maize (corn)  2017            14.95   \n",
              "2      33.0       65.0  Afghanistan          Rice  2017             7.09   \n",
              "3      33.0       65.0  Afghanistan        Barley  2017            14.74   \n",
              "4      33.0       65.0  Afghanistan         Wheat  2016            15.02   \n",
              "\n",
              "  activity   food_supply_stage  \n",
              "0      wsc  Whole supply chain  \n",
              "1      wsc  Whole supply chain  \n",
              "2      wsc  Whole supply chain  \n",
              "3      wsc  Whole supply chain  \n",
              "4      wsc  Whole supply chain  "
            ],
            "text/html": [
              "\n",
              "  <div id=\"df-c8cd70ab-831e-4429-861f-c17244c45248\">\n",
              "    <div class=\"colab-df-container\">\n",
              "      <div>\n",
              "<style scoped>\n",
              "    .dataframe tbody tr th:only-of-type {\n",
              "        vertical-align: middle;\n",
              "    }\n",
              "\n",
              "    .dataframe tbody tr th {\n",
              "        vertical-align: top;\n",
              "    }\n",
              "\n",
              "    .dataframe thead th {\n",
              "        text-align: right;\n",
              "    }\n",
              "</style>\n",
              "<table border=\"1\" class=\"dataframe\">\n",
              "  <thead>\n",
              "    <tr style=\"text-align: right;\">\n",
              "      <th></th>\n",
              "      <th>Latitude</th>\n",
              "      <th>Longitude</th>\n",
              "      <th>country</th>\n",
              "      <th>commodity</th>\n",
              "      <th>year</th>\n",
              "      <th>loss_percentage</th>\n",
              "      <th>activity</th>\n",
              "      <th>food_supply_stage</th>\n",
              "    </tr>\n",
              "  </thead>\n",
              "  <tbody>\n",
              "    <tr>\n",
              "      <th>0</th>\n",
              "      <td>33.0</td>\n",
              "      <td>65.0</td>\n",
              "      <td>Afghanistan</td>\n",
              "      <td>Wheat</td>\n",
              "      <td>2017</td>\n",
              "      <td>15.00</td>\n",
              "      <td>wsc</td>\n",
              "      <td>Whole supply chain</td>\n",
              "    </tr>\n",
              "    <tr>\n",
              "      <th>1</th>\n",
              "      <td>33.0</td>\n",
              "      <td>65.0</td>\n",
              "      <td>Afghanistan</td>\n",
              "      <td>Maize (corn)</td>\n",
              "      <td>2017</td>\n",
              "      <td>14.95</td>\n",
              "      <td>wsc</td>\n",
              "      <td>Whole supply chain</td>\n",
              "    </tr>\n",
              "    <tr>\n",
              "      <th>2</th>\n",
              "      <td>33.0</td>\n",
              "      <td>65.0</td>\n",
              "      <td>Afghanistan</td>\n",
              "      <td>Rice</td>\n",
              "      <td>2017</td>\n",
              "      <td>7.09</td>\n",
              "      <td>wsc</td>\n",
              "      <td>Whole supply chain</td>\n",
              "    </tr>\n",
              "    <tr>\n",
              "      <th>3</th>\n",
              "      <td>33.0</td>\n",
              "      <td>65.0</td>\n",
              "      <td>Afghanistan</td>\n",
              "      <td>Barley</td>\n",
              "      <td>2017</td>\n",
              "      <td>14.74</td>\n",
              "      <td>wsc</td>\n",
              "      <td>Whole supply chain</td>\n",
              "    </tr>\n",
              "    <tr>\n",
              "      <th>4</th>\n",
              "      <td>33.0</td>\n",
              "      <td>65.0</td>\n",
              "      <td>Afghanistan</td>\n",
              "      <td>Wheat</td>\n",
              "      <td>2016</td>\n",
              "      <td>15.02</td>\n",
              "      <td>wsc</td>\n",
              "      <td>Whole supply chain</td>\n",
              "    </tr>\n",
              "  </tbody>\n",
              "</table>\n",
              "</div>\n",
              "      <button class=\"colab-df-convert\" onclick=\"convertToInteractive('df-c8cd70ab-831e-4429-861f-c17244c45248')\"\n",
              "              title=\"Convert this dataframe to an interactive table.\"\n",
              "              style=\"display:none;\">\n",
              "        \n",
              "  <svg xmlns=\"http://www.w3.org/2000/svg\" height=\"24px\"viewBox=\"0 0 24 24\"\n",
              "       width=\"24px\">\n",
              "    <path d=\"M0 0h24v24H0V0z\" fill=\"none\"/>\n",
              "    <path d=\"M18.56 5.44l.94 2.06.94-2.06 2.06-.94-2.06-.94-.94-2.06-.94 2.06-2.06.94zm-11 1L8.5 8.5l.94-2.06 2.06-.94-2.06-.94L8.5 2.5l-.94 2.06-2.06.94zm10 10l.94 2.06.94-2.06 2.06-.94-2.06-.94-.94-2.06-.94 2.06-2.06.94z\"/><path d=\"M17.41 7.96l-1.37-1.37c-.4-.4-.92-.59-1.43-.59-.52 0-1.04.2-1.43.59L10.3 9.45l-7.72 7.72c-.78.78-.78 2.05 0 2.83L4 21.41c.39.39.9.59 1.41.59.51 0 1.02-.2 1.41-.59l7.78-7.78 2.81-2.81c.8-.78.8-2.07 0-2.86zM5.41 20L4 18.59l7.72-7.72 1.47 1.35L5.41 20z\"/>\n",
              "  </svg>\n",
              "      </button>\n",
              "      \n",
              "  <style>\n",
              "    .colab-df-container {\n",
              "      display:flex;\n",
              "      flex-wrap:wrap;\n",
              "      gap: 12px;\n",
              "    }\n",
              "\n",
              "    .colab-df-convert {\n",
              "      background-color: #E8F0FE;\n",
              "      border: none;\n",
              "      border-radius: 50%;\n",
              "      cursor: pointer;\n",
              "      display: none;\n",
              "      fill: #1967D2;\n",
              "      height: 32px;\n",
              "      padding: 0 0 0 0;\n",
              "      width: 32px;\n",
              "    }\n",
              "\n",
              "    .colab-df-convert:hover {\n",
              "      background-color: #E2EBFA;\n",
              "      box-shadow: 0px 1px 2px rgba(60, 64, 67, 0.3), 0px 1px 3px 1px rgba(60, 64, 67, 0.15);\n",
              "      fill: #174EA6;\n",
              "    }\n",
              "\n",
              "    [theme=dark] .colab-df-convert {\n",
              "      background-color: #3B4455;\n",
              "      fill: #D2E3FC;\n",
              "    }\n",
              "\n",
              "    [theme=dark] .colab-df-convert:hover {\n",
              "      background-color: #434B5C;\n",
              "      box-shadow: 0px 1px 3px 1px rgba(0, 0, 0, 0.15);\n",
              "      filter: drop-shadow(0px 1px 2px rgba(0, 0, 0, 0.3));\n",
              "      fill: #FFFFFF;\n",
              "    }\n",
              "  </style>\n",
              "\n",
              "      <script>\n",
              "        const buttonEl =\n",
              "          document.querySelector('#df-c8cd70ab-831e-4429-861f-c17244c45248 button.colab-df-convert');\n",
              "        buttonEl.style.display =\n",
              "          google.colab.kernel.accessAllowed ? 'block' : 'none';\n",
              "\n",
              "        async function convertToInteractive(key) {\n",
              "          const element = document.querySelector('#df-c8cd70ab-831e-4429-861f-c17244c45248');\n",
              "          const dataTable =\n",
              "            await google.colab.kernel.invokeFunction('convertToInteractive',\n",
              "                                                     [key], {});\n",
              "          if (!dataTable) return;\n",
              "\n",
              "          const docLinkHtml = 'Like what you see? Visit the ' +\n",
              "            '<a target=\"_blank\" href=https://colab.research.google.com/notebooks/data_table.ipynb>data table notebook</a>'\n",
              "            + ' to learn more about interactive tables.';\n",
              "          element.innerHTML = '';\n",
              "          dataTable['output_type'] = 'display_data';\n",
              "          await google.colab.output.renderOutput(dataTable, element);\n",
              "          const docLink = document.createElement('div');\n",
              "          docLink.innerHTML = docLinkHtml;\n",
              "          element.appendChild(docLink);\n",
              "        }\n",
              "      </script>\n",
              "    </div>\n",
              "  </div>\n",
              "  "
            ]
          },
          "metadata": {},
          "execution_count": 40
        }
      ]
    },
    {
      "cell_type": "code",
      "source": [
        "df.info()"
      ],
      "metadata": {
        "colab": {
          "base_uri": "https://localhost:8080/"
        },
        "id": "nk2PIC-P2ooC",
        "outputId": "cca54c92-d9a7-4c83-dc89-233718decc32"
      },
      "execution_count": 36,
      "outputs": [
        {
          "output_type": "stream",
          "name": "stdout",
          "text": [
            "<class 'pandas.core.frame.DataFrame'>\n",
            "RangeIndex: 23810 entries, 0 to 23809\n",
            "Data columns (total 8 columns):\n",
            " #   Column             Non-Null Count  Dtype  \n",
            "---  ------             --------------  -----  \n",
            " 0   Latitude           23810 non-null  float64\n",
            " 1   Longitude          23810 non-null  float64\n",
            " 2   country            23810 non-null  object \n",
            " 3   commodity          23810 non-null  object \n",
            " 4   year               23810 non-null  int64  \n",
            " 5   loss_percentage    23810 non-null  float64\n",
            " 6   activity           23810 non-null  object \n",
            " 7   food_supply_stage  23810 non-null  object \n",
            "dtypes: float64(3), int64(1), object(4)\n",
            "memory usage: 1.5+ MB\n"
          ]
        }
      ]
    },
    {
      "cell_type": "code",
      "source": [
        "from tensorflow.keras.utils import to_categorical\n",
        "from sklearn.preprocessing import StandardScaler\n",
        "from tensorflow.keras.callbacks import EarlyStopping"
      ],
      "metadata": {
        "id": "JDRAf47swgQy"
      },
      "execution_count": 57,
      "outputs": []
    },
    {
      "cell_type": "code",
      "source": [
        "# Using label encoder\n",
        "label_encoders = {}\n",
        "for column in df.select_dtypes(include=['object']).columns:\n",
        "    label_encoders[column] = LabelEncoder()\n",
        "    df[column] = label_encoders[column].fit_transform(df[column])\n",
        "\n",
        "X = df.drop('food_supply_stage', axis=1)\n",
        "y = df['food_supply_stage']\n",
        "\n",
        "X_train, X_test, y_train, y_test = train_test_split(X, y, random_state = 42)\n",
        "\n",
        "y_train_ec = to_categorical(y_train)\n",
        "\n",
        "ss = StandardScaler() # scaling data\n",
        "X_train_sc = ss.fit_transform(X_train)\n",
        "X_test_sc = ss.transform(X_test)\n",
        "\n",
        "X_train_sc[0].shape\n",
        "\n",
        "model = Sequential()\n",
        "\n",
        "model.add(Dense(64, \n",
        "                activation = 'relu',\n",
        "                input_shape = (7,)\n",
        "                ))\n",
        "# hidden layer\n",
        "model.add(Dense(32, activation = 'relu'))\n",
        "model.add(Dense(16, activation = 'relu'))\n",
        "model.add(Dense(4, activation = 'relu'))\n",
        "\n",
        "# output layer\n",
        "model.add(Dense(17, \n",
        "                activation = 'softmax'))"
      ],
      "metadata": {
        "id": "Usy6kEVB2eak"
      },
      "execution_count": null,
      "outputs": []
    },
    {
      "cell_type": "code",
      "source": [
        "# Using label encoder\n",
        "label_encoders = {}\n",
        "for column in df.select_dtypes(include=['object']).columns:\n",
        "    label_encoders[column] = LabelEncoder()\n",
        "    df[column] = label_encoders[column].fit_transform(df[column])"
      ],
      "metadata": {
        "id": "xFch9-M-02i4"
      },
      "execution_count": 45,
      "outputs": []
    },
    {
      "cell_type": "code",
      "source": [
        "X = df.drop('food_supply_stage', axis=1)\n",
        "y = df['food_supply_stage']"
      ],
      "metadata": {
        "id": "JlYIBLvlx1Ss"
      },
      "execution_count": 46,
      "outputs": []
    },
    {
      "cell_type": "code",
      "source": [
        "y_ec = to_categorical(y)"
      ],
      "metadata": {
        "id": "tC4GYYZr3J2A"
      },
      "execution_count": 48,
      "outputs": []
    },
    {
      "cell_type": "code",
      "source": [
        "X_train, X_test, y_train, y_test = train_test_split(X, y_ec, random_state = 42)"
      ],
      "metadata": {
        "id": "7peTmzwkv6qU"
      },
      "execution_count": 49,
      "outputs": []
    },
    {
      "cell_type": "code",
      "source": [
        "ss = StandardScaler() # scaling data\n",
        "X_train_sc = ss.fit_transform(X_train)\n",
        "X_test_sc = ss.transform(X_test)"
      ],
      "metadata": {
        "id": "PdZhegAvxsSe"
      },
      "execution_count": 50,
      "outputs": []
    },
    {
      "cell_type": "code",
      "source": [
        "X_train_sc[0].shape"
      ],
      "metadata": {
        "colab": {
          "base_uri": "https://localhost:8080/"
        },
        "id": "4ZBMufWpxR9G",
        "outputId": "895e88f7-5cd1-49fc-94a9-8b811ca59063"
      },
      "execution_count": 51,
      "outputs": [
        {
          "output_type": "execute_result",
          "data": {
            "text/plain": [
              "(7,)"
            ]
          },
          "metadata": {},
          "execution_count": 51
        }
      ]
    },
    {
      "cell_type": "code",
      "source": [
        "es = EarlyStopping(patience = 5)"
      ],
      "metadata": {
        "id": "845HxOEH3tZm"
      },
      "execution_count": 58,
      "outputs": []
    },
    {
      "cell_type": "code",
      "source": [
        "model = Sequential()\n",
        "\n",
        "model.add(Dense(64, \n",
        "                activation = 'relu',\n",
        "                input_shape = (7,)\n",
        "                ))\n",
        "# hidden layer\n",
        "model.add(Dense(32, activation = 'relu'))\n",
        "model.add(Dense(32, activation = 'relu'))\n",
        "model.add(Dense(16, activation = 'relu'))\n",
        "model.add(Dense(8, activation = 'relu'))\n",
        "\n",
        "# output layer\n",
        "model.add(Dense(17, \n",
        "                activation = 'softmax'))"
      ],
      "metadata": {
        "id": "cusZk_tcxRhe"
      },
      "execution_count": 92,
      "outputs": []
    },
    {
      "cell_type": "code",
      "source": [
        "model.compile(optimizer = 'adam',\n",
        "              loss = 'categorical_crossentropy',\n",
        "              metrics = ['accuracy'])"
      ],
      "metadata": {
        "id": "pRAsLg1YxRXm"
      },
      "execution_count": 93,
      "outputs": []
    },
    {
      "cell_type": "code",
      "source": [
        "res = model.fit(X_train_sc, y_train,\n",
        "            epochs = 25,\n",
        "            batch_size = 8, \n",
        "            validation_data = [X_test_sc, y_test])"
      ],
      "metadata": {
        "colab": {
          "base_uri": "https://localhost:8080/"
        },
        "id": "l90vbnMf6ACF",
        "outputId": "5ab28ca7-dfaf-488c-d07b-0c6354e08d13"
      },
      "execution_count": 94,
      "outputs": [
        {
          "output_type": "stream",
          "name": "stdout",
          "text": [
            "Epoch 1/25\n",
            "2233/2233 [==============================] - 14s 6ms/step - loss: 0.9441 - accuracy: 0.6975 - val_loss: 0.7794 - val_accuracy: 0.7304\n",
            "Epoch 2/25\n",
            "2233/2233 [==============================] - 12s 5ms/step - loss: 0.7221 - accuracy: 0.7467 - val_loss: 0.6375 - val_accuracy: 0.7715\n",
            "Epoch 3/25\n",
            "2233/2233 [==============================] - 12s 6ms/step - loss: 0.5731 - accuracy: 0.8002 - val_loss: 0.5228 - val_accuracy: 0.8305\n",
            "Epoch 4/25\n",
            "2233/2233 [==============================] - 12s 5ms/step - loss: 0.4905 - accuracy: 0.8309 - val_loss: 0.4452 - val_accuracy: 0.8517\n",
            "Epoch 5/25\n",
            "2233/2233 [==============================] - 11s 5ms/step - loss: 0.4499 - accuracy: 0.8485 - val_loss: 0.4290 - val_accuracy: 0.8638\n",
            "Epoch 6/25\n",
            "2233/2233 [==============================] - 12s 5ms/step - loss: 0.4225 - accuracy: 0.8606 - val_loss: 0.4073 - val_accuracy: 0.8735\n",
            "Epoch 7/25\n",
            "2233/2233 [==============================] - 11s 5ms/step - loss: 0.3857 - accuracy: 0.8792 - val_loss: 0.3794 - val_accuracy: 0.8908\n",
            "Epoch 8/25\n",
            "2233/2233 [==============================] - 11s 5ms/step - loss: 0.3617 - accuracy: 0.8876 - val_loss: 0.3506 - val_accuracy: 0.8995\n",
            "Epoch 9/25\n",
            "2233/2233 [==============================] - 12s 5ms/step - loss: 0.3377 - accuracy: 0.8981 - val_loss: 0.3477 - val_accuracy: 0.9039\n",
            "Epoch 10/25\n",
            "2233/2233 [==============================] - 12s 5ms/step - loss: 0.3255 - accuracy: 0.9009 - val_loss: 0.3441 - val_accuracy: 0.8960\n",
            "Epoch 11/25\n",
            "2233/2233 [==============================] - 11s 5ms/step - loss: 0.3093 - accuracy: 0.9066 - val_loss: 0.3638 - val_accuracy: 0.8873\n",
            "Epoch 12/25\n",
            "2233/2233 [==============================] - 12s 5ms/step - loss: 0.2995 - accuracy: 0.9091 - val_loss: 0.2977 - val_accuracy: 0.9135\n",
            "Epoch 13/25\n",
            "2233/2233 [==============================] - 13s 6ms/step - loss: 0.2927 - accuracy: 0.9125 - val_loss: 0.3028 - val_accuracy: 0.9182\n",
            "Epoch 14/25\n",
            "2233/2233 [==============================] - 12s 5ms/step - loss: 0.2861 - accuracy: 0.9144 - val_loss: 0.2913 - val_accuracy: 0.9195\n",
            "Epoch 15/25\n",
            "2233/2233 [==============================] - 11s 5ms/step - loss: 0.2812 - accuracy: 0.9143 - val_loss: 0.3167 - val_accuracy: 0.9042\n",
            "Epoch 16/25\n",
            "2233/2233 [==============================] - 12s 6ms/step - loss: 0.2719 - accuracy: 0.9181 - val_loss: 0.2868 - val_accuracy: 0.9185\n",
            "Epoch 17/25\n",
            "2233/2233 [==============================] - 13s 6ms/step - loss: 0.2661 - accuracy: 0.9196 - val_loss: 0.2796 - val_accuracy: 0.9246\n",
            "Epoch 18/25\n",
            "2233/2233 [==============================] - 14s 6ms/step - loss: 0.2645 - accuracy: 0.9190 - val_loss: 0.2998 - val_accuracy: 0.9093\n",
            "Epoch 19/25\n",
            "2233/2233 [==============================] - 11s 5ms/step - loss: 0.2576 - accuracy: 0.9227 - val_loss: 0.2742 - val_accuracy: 0.9232\n",
            "Epoch 20/25\n",
            "2233/2233 [==============================] - 15s 7ms/step - loss: 0.2491 - accuracy: 0.9224 - val_loss: 0.2777 - val_accuracy: 0.9179\n",
            "Epoch 21/25\n",
            "2233/2233 [==============================] - 16s 7ms/step - loss: 0.2499 - accuracy: 0.9222 - val_loss: 0.2628 - val_accuracy: 0.9269\n",
            "Epoch 22/25\n",
            "2233/2233 [==============================] - 14s 6ms/step - loss: 0.2451 - accuracy: 0.9246 - val_loss: 0.2605 - val_accuracy: 0.9244\n",
            "Epoch 23/25\n",
            "2233/2233 [==============================] - 14s 6ms/step - loss: 0.2438 - accuracy: 0.9265 - val_loss: 0.2531 - val_accuracy: 0.9263\n",
            "Epoch 24/25\n",
            "2233/2233 [==============================] - 11s 5ms/step - loss: 0.2450 - accuracy: 0.9248 - val_loss: 0.2570 - val_accuracy: 0.9264\n",
            "Epoch 25/25\n",
            "2233/2233 [==============================] - 12s 5ms/step - loss: 0.2381 - accuracy: 0.9236 - val_loss: 0.2555 - val_accuracy: 0.9268\n"
          ]
        }
      ]
    },
    {
      "cell_type": "code",
      "source": [
        "# took this code from my lab on regression and keras\n",
        "train_loss = res.history['loss']\n",
        "test_loss = res.history['val_loss']\n",
        "\n",
        "train_mse = res.history['accuracy']\n",
        "test_mse = res.history['val_accuracy']\n",
        "\n",
        "# took this code from my project 3 when I was constructing graphs\n",
        "fig, ax = plt.subplots(1, 2, figsize = (10, 5))\n",
        "ax[0].plot(train_loss, label = 'Training Loss', color = 'orange')\n",
        "ax[0].plot(test_loss, label = 'Validation Loss', color = 'navy')\n",
        "ax[0].legend()\n",
        "\n",
        "ax[1].plot(train_mse, label = 'Training Accuracy', color = 'skyblue')\n",
        "ax[1].plot(test_mse, label = 'Validation Accuracy', color = 'purple')\n",
        "ax[1].legend();"
      ],
      "metadata": {
        "colab": {
          "base_uri": "https://localhost:8080/",
          "height": 552
        },
        "id": "FRH5DObE8SOd",
        "outputId": "67c4a363-685a-400c-b141-76a08f040ebc"
      },
      "execution_count": 95,
      "outputs": [
        {
          "output_type": "stream",
          "name": "stderr",
          "text": [
            "Exception ignored in: <function _xla_gc_callback at 0x7fb957cffbe0>\n",
            "Traceback (most recent call last):\n",
            "  File \"/usr/local/lib/python3.10/dist-packages/jax/_src/lib/__init__.py\", line 97, in _xla_gc_callback\n",
            "    def _xla_gc_callback(*args):\n",
            "KeyboardInterrupt: \n"
          ]
        },
        {
          "output_type": "display_data",
          "data": {
            "text/plain": [
              "<Figure size 1000x500 with 2 Axes>"
            ],
            "image/png": "[encoded data removed]"
          },
          "metadata": {}
        }
      ]
    },
    {
      "cell_type": "code",
      "source": [
        "res.history['accuracy'][-1], res.history['val_accuracy'][-1]"
      ],
      "metadata": {
        "colab": {
          "base_uri": "https://localhost:8080/"
        },
        "id": "rwh0TzOx8WIe",
        "outputId": "666f576e-639e-4cc8-d3a0-c92dc4f40c05"
      },
      "execution_count": 96,
      "outputs": [
        {
          "output_type": "execute_result",
          "data": {
            "text/plain": [
              "(0.9236153960227966, 0.9267596006393433)"
            ]
          },
          "metadata": {},
          "execution_count": 96
        }
      ]
    },
    {
      "cell_type": "code",
      "source": [
        "score = model.evaluate(X_test,y_test,verbose=0)\n",
        "print('Test Loss : {:.4f}'.format(score[0]))\n",
        "print('Test Accuracy : {:.4f}'.format(score[1]))"
      ],
      "metadata": {
        "colab": {
          "base_uri": "https://localhost:8080/"
        },
        "id": "kylm208U8bx9",
        "outputId": "3078fd15-e939-4a3e-d20c-a2e6f243f808"
      },
      "execution_count": 98,
      "outputs": [
        {
          "output_type": "stream",
          "name": "stdout",
          "text": [
            "Test Loss : 2561.6255\n",
            "Test Accuracy : 0.1765\n"
          ]
        }
      ]
    }
  ]
}