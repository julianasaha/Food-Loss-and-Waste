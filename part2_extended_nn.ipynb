{
  "nbformat": 4,
  "nbformat_minor": 0,
  "metadata": {
    "colab": {
      "provenance": [],
      "gpuType": "T4"
    },
    "kernelspec": {
      "name": "python3",
      "display_name": "Python 3"
    },
    "language_info": {
      "name": "python"
    },
    "accelerator": "GPU",
    "gpuClass": "standard"
  },
  "cells": [
    {
      "cell_type": "markdown",
      "source": [
        "### Imports"
      ],
      "metadata": {
        "id": "yOJnmQO30ufT"
      }
    },
    {
      "cell_type": "code",
      "source": [
        "import matplotlib.pyplot as plt\n",
        "import numpy as np\n",
        "import pandas as pd\n",
        "\n",
        "from sklearn.metrics import recall_score, precision_score, f1_score, accuracy_score\n",
        "from sklearn.datasets import fetch_california_housing\n",
        "from sklearn.model_selection import train_test_split\n",
        "from sklearn.preprocessing import StandardScaler\n",
        "\n",
        "from tensorflow.keras.models import Sequential\n",
        "from tensorflow.keras.layers import Dense, Dropout, BatchNormalization\n",
        "from tensorflow.keras.regularizers import l1, l2, l1_l2\n",
        "from tensorflow.keras.callbacks import EarlyStopping\n",
        "\n",
        "# encoding imports\n",
        "from sklearn.impute import SimpleImputer\n",
        "from sklearn.preprocessing import LabelEncoder\n",
        "from tensorflow.keras.utils import to_categorical"
      ],
      "metadata": {
        "id": "iDmJECoEv7j5"
      },
      "execution_count": 67,
      "outputs": []
    },
    {
      "cell_type": "code",
      "source": [
        "import random\n",
        "random.seed(42) # setting random seed to be consistent with other models"
      ],
      "metadata": {
        "id": "P3NzPTIdxMMo"
      },
      "execution_count": 8,
      "outputs": []
    },
    {
      "cell_type": "markdown",
      "source": [
        "### Importing Data"
      ],
      "metadata": {
        "id": "YHvX6q-k04K6"
      }
    },
    {
      "cell_type": "code",
      "source": [
        "df = pd.read_csv('/content/clean_data.csv')"
      ],
      "metadata": {
        "id": "h26iIw57v7Yx"
      },
      "execution_count": 4,
      "outputs": []
    },
    {
      "cell_type": "code",
      "source": [
        "df.head()"
      ],
      "metadata": {
        "colab": {
          "base_uri": "https://localhost:8080/",
          "height": 250
        },
        "id": "pYE1Jv7dv7Lk",
        "outputId": "bde196be-ccbe-40ed-ce7f-01099e0109a6"
      },
      "execution_count": 5,
      "outputs": [
        {
          "output_type": "execute_result",
          "data": {
            "text/plain": [
              "   Latitude  Longitude      country     commodity  year  loss_percentage  \\\n",
              "0      33.0       65.0  Afghanistan         Wheat  2017            15.00   \n",
              "1      33.0       65.0  Afghanistan  Maize (corn)  2017            14.95   \n",
              "2      33.0       65.0  Afghanistan          Rice  2017             7.09   \n",
              "3      33.0       65.0  Afghanistan        Barley  2017            14.74   \n",
              "4      33.0       65.0  Afghanistan         Wheat  2016            15.02   \n",
              "\n",
              "  activity   food_supply_stage  \n",
              "0      wsc  Whole supply chain  \n",
              "1      wsc  Whole supply chain  \n",
              "2      wsc  Whole supply chain  \n",
              "3      wsc  Whole supply chain  \n",
              "4      wsc  Whole supply chain  "
            ],
            "text/html": [
              "\n",
              "  <div id=\"df-9a6316b8-16fb-4a87-af30-0ef45dbde9ab\">\n",
              "    <div class=\"colab-df-container\">\n",
              "      <div>\n",
              "<style scoped>\n",
              "    .dataframe tbody tr th:only-of-type {\n",
              "        vertical-align: middle;\n",
              "    }\n",
              "\n",
              "    .dataframe tbody tr th {\n",
              "        vertical-align: top;\n",
              "    }\n",
              "\n",
              "    .dataframe thead th {\n",
              "        text-align: right;\n",
              "    }\n",
              "</style>\n",
              "<table border=\"1\" class=\"dataframe\">\n",
              "  <thead>\n",
              "    <tr style=\"text-align: right;\">\n",
              "      <th></th>\n",
              "      <th>Latitude</th>\n",
              "      <th>Longitude</th>\n",
              "      <th>country</th>\n",
              "      <th>commodity</th>\n",
              "      <th>year</th>\n",
              "      <th>loss_percentage</th>\n",
              "      <th>activity</th>\n",
              "      <th>food_supply_stage</th>\n",
              "    </tr>\n",
              "  </thead>\n",
              "  <tbody>\n",
              "    <tr>\n",
              "      <th>0</th>\n",
              "      <td>33.0</td>\n",
              "      <td>65.0</td>\n",
              "      <td>Afghanistan</td>\n",
              "      <td>Wheat</td>\n",
              "      <td>2017</td>\n",
              "      <td>15.00</td>\n",
              "      <td>wsc</td>\n",
              "      <td>Whole supply chain</td>\n",
              "    </tr>\n",
              "    <tr>\n",
              "      <th>1</th>\n",
              "      <td>33.0</td>\n",
              "      <td>65.0</td>\n",
              "      <td>Afghanistan</td>\n",
              "      <td>Maize (corn)</td>\n",
              "      <td>2017</td>\n",
              "      <td>14.95</td>\n",
              "      <td>wsc</td>\n",
              "      <td>Whole supply chain</td>\n",
              "    </tr>\n",
              "    <tr>\n",
              "      <th>2</th>\n",
              "      <td>33.0</td>\n",
              "      <td>65.0</td>\n",
              "      <td>Afghanistan</td>\n",
              "      <td>Rice</td>\n",
              "      <td>2017</td>\n",
              "      <td>7.09</td>\n",
              "      <td>wsc</td>\n",
              "      <td>Whole supply chain</td>\n",
              "    </tr>\n",
              "    <tr>\n",
              "      <th>3</th>\n",
              "      <td>33.0</td>\n",
              "      <td>65.0</td>\n",
              "      <td>Afghanistan</td>\n",
              "      <td>Barley</td>\n",
              "      <td>2017</td>\n",
              "      <td>14.74</td>\n",
              "      <td>wsc</td>\n",
              "      <td>Whole supply chain</td>\n",
              "    </tr>\n",
              "    <tr>\n",
              "      <th>4</th>\n",
              "      <td>33.0</td>\n",
              "      <td>65.0</td>\n",
              "      <td>Afghanistan</td>\n",
              "      <td>Wheat</td>\n",
              "      <td>2016</td>\n",
              "      <td>15.02</td>\n",
              "      <td>wsc</td>\n",
              "      <td>Whole supply chain</td>\n",
              "    </tr>\n",
              "  </tbody>\n",
              "</table>\n",
              "</div>\n",
              "      <button class=\"colab-df-convert\" onclick=\"convertToInteractive('df-9a6316b8-16fb-4a87-af30-0ef45dbde9ab')\"\n",
              "              title=\"Convert this dataframe to an interactive table.\"\n",
              "              style=\"display:none;\">\n",
              "        \n",
              "  <svg xmlns=\"http://www.w3.org/2000/svg\" height=\"24px\"viewBox=\"0 0 24 24\"\n",
              "       width=\"24px\">\n",
              "    <path d=\"M0 0h24v24H0V0z\" fill=\"none\"/>\n",
              "    <path d=\"M18.56 5.44l.94 2.06.94-2.06 2.06-.94-2.06-.94-.94-2.06-.94 2.06-2.06.94zm-11 1L8.5 8.5l.94-2.06 2.06-.94-2.06-.94L8.5 2.5l-.94 2.06-2.06.94zm10 10l.94 2.06.94-2.06 2.06-.94-2.06-.94-.94-2.06-.94 2.06-2.06.94z\"/><path d=\"M17.41 7.96l-1.37-1.37c-.4-.4-.92-.59-1.43-.59-.52 0-1.04.2-1.43.59L10.3 9.45l-7.72 7.72c-.78.78-.78 2.05 0 2.83L4 21.41c.39.39.9.59 1.41.59.51 0 1.02-.2 1.41-.59l7.78-7.78 2.81-2.81c.8-.78.8-2.07 0-2.86zM5.41 20L4 18.59l7.72-7.72 1.47 1.35L5.41 20z\"/>\n",
              "  </svg>\n",
              "      </button>\n",
              "      \n",
              "  <style>\n",
              "    .colab-df-container {\n",
              "      display:flex;\n",
              "      flex-wrap:wrap;\n",
              "      gap: 12px;\n",
              "    }\n",
              "\n",
              "    .colab-df-convert {\n",
              "      background-color: #E8F0FE;\n",
              "      border: none;\n",
              "      border-radius: 50%;\n",
              "      cursor: pointer;\n",
              "      display: none;\n",
              "      fill: #1967D2;\n",
              "      height: 32px;\n",
              "      padding: 0 0 0 0;\n",
              "      width: 32px;\n",
              "    }\n",
              "\n",
              "    .colab-df-convert:hover {\n",
              "      background-color: #E2EBFA;\n",
              "      box-shadow: 0px 1px 2px rgba(60, 64, 67, 0.3), 0px 1px 3px 1px rgba(60, 64, 67, 0.15);\n",
              "      fill: #174EA6;\n",
              "    }\n",
              "\n",
              "    [theme=dark] .colab-df-convert {\n",
              "      background-color: #3B4455;\n",
              "      fill: #D2E3FC;\n",
              "    }\n",
              "\n",
              "    [theme=dark] .colab-df-convert:hover {\n",
              "      background-color: #434B5C;\n",
              "      box-shadow: 0px 1px 3px 1px rgba(0, 0, 0, 0.15);\n",
              "      filter: drop-shadow(0px 1px 2px rgba(0, 0, 0, 0.3));\n",
              "      fill: #FFFFFF;\n",
              "    }\n",
              "  </style>\n",
              "\n",
              "      <script>\n",
              "        const buttonEl =\n",
              "          document.querySelector('#df-9a6316b8-16fb-4a87-af30-0ef45dbde9ab button.colab-df-convert');\n",
              "        buttonEl.style.display =\n",
              "          google.colab.kernel.accessAllowed ? 'block' : 'none';\n",
              "\n",
              "        async function convertToInteractive(key) {\n",
              "          const element = document.querySelector('#df-9a6316b8-16fb-4a87-af30-0ef45dbde9ab');\n",
              "          const dataTable =\n",
              "            await google.colab.kernel.invokeFunction('convertToInteractive',\n",
              "                                                     [key], {});\n",
              "          if (!dataTable) return;\n",
              "\n",
              "          const docLinkHtml = 'Like what you see? Visit the ' +\n",
              "            '<a target=\"_blank\" href=https://colab.research.google.com/notebooks/data_table.ipynb>data table notebook</a>'\n",
              "            + ' to learn more about interactive tables.';\n",
              "          element.innerHTML = '';\n",
              "          dataTable['output_type'] = 'display_data';\n",
              "          await google.colab.output.renderOutput(dataTable, element);\n",
              "          const docLink = document.createElement('div');\n",
              "          docLink.innerHTML = docLinkHtml;\n",
              "          element.appendChild(docLink);\n",
              "        }\n",
              "      </script>\n",
              "    </div>\n",
              "  </div>\n",
              "  "
            ]
          },
          "metadata": {},
          "execution_count": 5
        }
      ]
    },
    {
      "cell_type": "code",
      "source": [
        "df.info()"
      ],
      "metadata": {
        "colab": {
          "base_uri": "https://localhost:8080/"
        },
        "id": "nk2PIC-P2ooC",
        "outputId": "bb54f27c-e359-4334-aad6-6ac193d5b67f"
      },
      "execution_count": 6,
      "outputs": [
        {
          "output_type": "stream",
          "name": "stdout",
          "text": [
            "<class 'pandas.core.frame.DataFrame'>\n",
            "RangeIndex: 23810 entries, 0 to 23809\n",
            "Data columns (total 8 columns):\n",
            " #   Column             Non-Null Count  Dtype  \n",
            "---  ------             --------------  -----  \n",
            " 0   Latitude           23810 non-null  float64\n",
            " 1   Longitude          23810 non-null  float64\n",
            " 2   country            23810 non-null  object \n",
            " 3   commodity          23810 non-null  object \n",
            " 4   year               23810 non-null  int64  \n",
            " 5   loss_percentage    23810 non-null  float64\n",
            " 6   activity           23810 non-null  object \n",
            " 7   food_supply_stage  23810 non-null  object \n",
            "dtypes: float64(3), int64(1), object(4)\n",
            "memory usage: 1.5+ MB\n"
          ]
        }
      ]
    },
    {
      "cell_type": "markdown",
      "source": [
        "* Train-Test-Split with Label Encoder \n",
        "\n",
        "Specifically, the encoder helps us normalize our labels but converting the categorical features into numerical values. The y was then converted into a vector of binary values. "
      ],
      "metadata": {
        "id": "_QtvrRO6088h"
      }
    },
    {
      "cell_type": "code",
      "source": [
        "# Using label encoder\n",
        "label_encoders = {}\n",
        "for column in df.select_dtypes(include=['object']).columns:\n",
        "    label_encoders[column] = LabelEncoder()\n",
        "    df[column] = label_encoders[column].fit_transform(df[column])"
      ],
      "metadata": {
        "id": "xFch9-M-02i4"
      },
      "execution_count": 9,
      "outputs": []
    },
    {
      "cell_type": "code",
      "source": [
        "X = df.drop('food_supply_stage', axis=1)\n",
        "y = df['food_supply_stage']"
      ],
      "metadata": {
        "id": "JlYIBLvlx1Ss"
      },
      "execution_count": 10,
      "outputs": []
    },
    {
      "cell_type": "code",
      "source": [
        "y_ec = to_categorical(y)"
      ],
      "metadata": {
        "id": "tC4GYYZr3J2A"
      },
      "execution_count": 11,
      "outputs": []
    },
    {
      "cell_type": "code",
      "source": [
        "X_train, X_test, y_train, y_test = train_test_split(X, y_ec, random_state = 42)"
      ],
      "metadata": {
        "id": "7peTmzwkv6qU"
      },
      "execution_count": 12,
      "outputs": []
    },
    {
      "cell_type": "code",
      "source": [
        "ss = StandardScaler() # scaling data\n",
        "X_train_sc = ss.fit_transform(X_train)\n",
        "X_test_sc = ss.transform(X_test)"
      ],
      "metadata": {
        "id": "PdZhegAvxsSe"
      },
      "execution_count": 13,
      "outputs": []
    },
    {
      "cell_type": "code",
      "source": [
        "X_train_sc[0].shape"
      ],
      "metadata": {
        "colab": {
          "base_uri": "https://localhost:8080/"
        },
        "id": "4ZBMufWpxR9G",
        "outputId": "f2188ff8-e159-412c-cda9-625df35d419f"
      },
      "execution_count": 14,
      "outputs": [
        {
          "output_type": "execute_result",
          "data": {
            "text/plain": [
              "(7,)"
            ]
          },
          "metadata": {},
          "execution_count": 14
        }
      ]
    },
    {
      "cell_type": "code",
      "source": [
        "model = Sequential()\n",
        "\n",
        "model.add(Dense(64, \n",
        "                activation = 'relu',\n",
        "                input_shape = (7,)\n",
        "                ))\n",
        "# hidden layers\n",
        "model.add(Dense(32, activation = 'relu'))\n",
        "model.add(Dense(32, activation = 'relu'))\n",
        "model.add(Dense(16, activation = 'relu'))\n",
        "model.add(Dense(8, activation = 'relu'))\n",
        "\n",
        "# output layer\n",
        "model.add(Dense(17, \n",
        "                activation = 'softmax'))"
      ],
      "metadata": {
        "id": "cusZk_tcxRhe"
      },
      "execution_count": 16,
      "outputs": []
    },
    {
      "cell_type": "code",
      "source": [
        "model.compile(optimizer = 'adam',\n",
        "              loss = 'categorical_crossentropy',\n",
        "              metrics = ['accuracy'])"
      ],
      "metadata": {
        "id": "pRAsLg1YxRXm"
      },
      "execution_count": 17,
      "outputs": []
    },
    {
      "cell_type": "code",
      "source": [
        "res = model.fit(X_train_sc, y_train,\n",
        "            epochs = 25,\n",
        "            batch_size = 8, \n",
        "            validation_data = [X_test_sc, y_test])"
      ],
      "metadata": {
        "colab": {
          "base_uri": "https://localhost:8080/"
        },
        "id": "l90vbnMf6ACF",
        "outputId": "ddb8fed4-12bc-45b3-8fe4-009a372364b7"
      },
      "execution_count": 18,
      "outputs": [
        {
          "output_type": "stream",
          "name": "stdout",
          "text": [
            "Epoch 1/25\n",
            "2233/2233 [==============================] - 17s 4ms/step - loss: 0.9509 - accuracy: 0.7050 - val_loss: 0.7341 - val_accuracy: 0.7527\n",
            "Epoch 2/25\n",
            "2233/2233 [==============================] - 11s 5ms/step - loss: 0.6938 - accuracy: 0.7595 - val_loss: 0.5982 - val_accuracy: 0.8011\n",
            "Epoch 3/25\n",
            "2233/2233 [==============================] - 10s 5ms/step - loss: 0.5517 - accuracy: 0.8030 - val_loss: 0.4891 - val_accuracy: 0.8381\n",
            "Epoch 4/25\n",
            "2233/2233 [==============================] - 11s 5ms/step - loss: 0.4844 - accuracy: 0.8350 - val_loss: 0.4842 - val_accuracy: 0.8458\n",
            "Epoch 5/25\n",
            "2233/2233 [==============================] - 11s 5ms/step - loss: 0.4375 - accuracy: 0.8526 - val_loss: 0.4222 - val_accuracy: 0.8696\n",
            "Epoch 6/25\n",
            "2233/2233 [==============================] - 11s 5ms/step - loss: 0.4078 - accuracy: 0.8621 - val_loss: 0.3948 - val_accuracy: 0.8834\n",
            "Epoch 7/25\n",
            "2233/2233 [==============================] - 11s 5ms/step - loss: 0.3871 - accuracy: 0.8710 - val_loss: 0.3936 - val_accuracy: 0.8727\n",
            "Epoch 8/25\n",
            "2233/2233 [==============================] - 11s 5ms/step - loss: 0.3679 - accuracy: 0.8803 - val_loss: 0.3699 - val_accuracy: 0.8848\n",
            "Epoch 9/25\n",
            "2233/2233 [==============================] - 11s 5ms/step - loss: 0.3552 - accuracy: 0.8841 - val_loss: 0.3524 - val_accuracy: 0.9001\n",
            "Epoch 10/25\n",
            "2233/2233 [==============================] - 11s 5ms/step - loss: 0.3407 - accuracy: 0.8928 - val_loss: 0.3680 - val_accuracy: 0.8824\n",
            "Epoch 11/25\n",
            "2233/2233 [==============================] - 12s 5ms/step - loss: 0.3243 - accuracy: 0.9000 - val_loss: 0.3297 - val_accuracy: 0.9074\n",
            "Epoch 12/25\n",
            "2233/2233 [==============================] - 10s 4ms/step - loss: 0.3125 - accuracy: 0.9040 - val_loss: 0.3427 - val_accuracy: 0.9079\n",
            "Epoch 13/25\n",
            "2233/2233 [==============================] - 11s 5ms/step - loss: 0.3034 - accuracy: 0.9068 - val_loss: 0.3280 - val_accuracy: 0.8992\n",
            "Epoch 14/25\n",
            "2233/2233 [==============================] - 10s 5ms/step - loss: 0.2900 - accuracy: 0.9118 - val_loss: 0.3049 - val_accuracy: 0.9132\n",
            "Epoch 15/25\n",
            "2233/2233 [==============================] - 10s 5ms/step - loss: 0.2806 - accuracy: 0.9141 - val_loss: 0.3402 - val_accuracy: 0.8960\n",
            "Epoch 16/25\n",
            "2233/2233 [==============================] - 11s 5ms/step - loss: 0.2759 - accuracy: 0.9153 - val_loss: 0.3000 - val_accuracy: 0.9165\n",
            "Epoch 17/25\n",
            "2233/2233 [==============================] - 11s 5ms/step - loss: 0.2674 - accuracy: 0.9168 - val_loss: 0.2912 - val_accuracy: 0.9163\n",
            "Epoch 18/25\n",
            "2233/2233 [==============================] - 11s 5ms/step - loss: 0.2617 - accuracy: 0.9178 - val_loss: 0.3020 - val_accuracy: 0.9133\n",
            "Epoch 19/25\n",
            "2233/2233 [==============================] - 10s 5ms/step - loss: 0.2599 - accuracy: 0.9206 - val_loss: 0.2741 - val_accuracy: 0.9271\n",
            "Epoch 20/25\n",
            "2233/2233 [==============================] - 11s 5ms/step - loss: 0.2548 - accuracy: 0.9211 - val_loss: 0.2885 - val_accuracy: 0.9167\n",
            "Epoch 21/25\n",
            "2233/2233 [==============================] - 11s 5ms/step - loss: 0.2479 - accuracy: 0.9242 - val_loss: 0.2675 - val_accuracy: 0.9239\n",
            "Epoch 22/25\n",
            "2233/2233 [==============================] - 11s 5ms/step - loss: 0.2411 - accuracy: 0.9255 - val_loss: 0.2777 - val_accuracy: 0.9210\n",
            "Epoch 23/25\n",
            "2233/2233 [==============================] - 10s 4ms/step - loss: 0.2445 - accuracy: 0.9241 - val_loss: 0.2769 - val_accuracy: 0.9194\n",
            "Epoch 24/25\n",
            "2233/2233 [==============================] - 10s 4ms/step - loss: 0.2436 - accuracy: 0.9232 - val_loss: 0.2959 - val_accuracy: 0.9155\n",
            "Epoch 25/25\n",
            "2233/2233 [==============================] - 11s 5ms/step - loss: 0.2347 - accuracy: 0.9271 - val_loss: 0.2602 - val_accuracy: 0.9246\n"
          ]
        }
      ]
    },
    {
      "cell_type": "code",
      "source": [
        "# took this code from my lab on regression and keras\n",
        "train_loss = res.history['loss']\n",
        "test_loss = res.history['val_loss']\n",
        "\n",
        "train_mse = res.history['accuracy']\n",
        "test_mse = res.history['val_accuracy']\n",
        "\n",
        "# took this code from my project 3 when I was constructing graphs\n",
        "fig, ax = plt.subplots(1, 2, figsize = (10, 5))\n",
        "ax[0].plot(train_loss, label = 'Training Loss', color = 'orange')\n",
        "ax[0].plot(test_loss, label = 'Validation Loss', color = 'navy')\n",
        "ax[0].legend()\n",
        "\n",
        "ax[1].plot(train_mse, label = 'Training Accuracy', color = 'orange')\n",
        "ax[1].plot(test_mse, label = 'Validation Accuracy', color = 'navy')\n",
        "ax[1].legend();"
      ],
      "metadata": {
        "colab": {
          "base_uri": "https://localhost:8080/",
          "height": 445
        },
        "id": "FRH5DObE8SOd",
        "outputId": "6f1427f4-c5c4-4f22-f381-5116e922cf0b"
      },
      "execution_count": 21,
      "outputs": [
        {
          "output_type": "display_data",
          "data": {
            "text/plain": [
              "<Figure size 1000x500 with 2 Axes>"
            ],
            "image/png": "[encoded data removed]"
          },
          "metadata": {}
        }
      ]
    },
    {
      "cell_type": "code",
      "source": [
        "res.history['accuracy'][-1], res.history['val_accuracy'][-1]"
      ],
      "metadata": {
        "colab": {
          "base_uri": "https://localhost:8080/"
        },
        "id": "rwh0TzOx8WIe",
        "outputId": "44d6dc00-bb00-46cc-c633-59bed4c8c7ca"
      },
      "execution_count": 20,
      "outputs": [
        {
          "output_type": "execute_result",
          "data": {
            "text/plain": [
              "(0.927143394947052, 0.9245758652687073)"
            ]
          },
          "metadata": {},
          "execution_count": 20
        }
      ]
    },
    {
      "cell_type": "code",
      "source": [
        "score = model.evaluate(X_test_sc,y_test,verbose=0)\n",
        "print('Test Loss : {:.4f}'.format(score[0]))\n",
        "print('Test Accuracy : {:.4f}'.format(score[1]))"
      ],
      "metadata": {
        "colab": {
          "base_uri": "https://localhost:8080/"
        },
        "id": "kylm208U8bx9",
        "outputId": "460ca992-c752-4c84-fe3b-39b07b31c3a9"
      },
      "execution_count": 43,
      "outputs": [
        {
          "output_type": "stream",
          "name": "stdout",
          "text": [
            "Test Loss : 0.2602\n",
            "Test Accuracy : 0.9246\n"
          ]
        }
      ]
    },
    {
      "cell_type": "markdown",
      "source": [
        "* Accuracy and F1 Scores"
      ],
      "metadata": {
        "id": "bNcqO2O8Augc"
      }
    },
    {
      "cell_type": "code",
      "source": [
        "y_prob = model.predict(X_test_sc)\n",
        "y_pred = np.argmax(y_prob, axis=1)"
      ],
      "metadata": {
        "colab": {
          "base_uri": "https://localhost:8080/"
        },
        "id": "KnO07OmF_ZA9",
        "outputId": "c2c7023c-3149-4f6c-c2bc-ed24b3ba7dfc"
      },
      "execution_count": 57,
      "outputs": [
        {
          "output_type": "stream",
          "name": "stdout",
          "text": [
            "187/187 [==============================] - 0s 2ms/step\n"
          ]
        }
      ]
    },
    {
      "cell_type": "markdown",
      "source": [
        "* creating 1d-arrays for the classification labels"
      ],
      "metadata": {
        "id": "iHN_H41eBUIW"
      }
    },
    {
      "cell_type": "code",
      "source": [
        "y_binary = np.argmax(y_test, axis=1)"
      ],
      "metadata": {
        "id": "NI1RRumz_rmq"
      },
      "execution_count": 61,
      "outputs": []
    },
    {
      "cell_type": "code",
      "source": [
        "nn_recall = recall_score(y_binary, y_pred, average = 'weighted')\n",
        "nn_precision = precision_score(y_binary, y_pred, average = 'weighted')\n",
        "\n",
        "nn_f1 = f1_score(y_binary, y_pred, average = 'weighted')\n",
        "nn_accuracy = accuracy_score(y_binary, y_pred)\n",
        "\n",
        "nn_scores = pd.DataFrame(columns = ['Recall', 'Precision', 'F1', 'Accuracy'])\n",
        "nn_scores.loc['NeuralNetwork'] = [nn_recall, nn_precision, nn_f1, nn_accuracy]"
      ],
      "metadata": {
        "colab": {
          "base_uri": "https://localhost:8080/"
        },
        "id": "E22wk0_I_uRJ",
        "outputId": "ab453934-eb9e-43cd-ed3b-b399fc83f18a"
      },
      "execution_count": 68,
      "outputs": [
        {
          "output_type": "stream",
          "name": "stderr",
          "text": [
            "/usr/local/lib/python3.10/dist-packages/sklearn/metrics/_classification.py:1344: UndefinedMetricWarning: Precision is ill-defined and being set to 0.0 in labels with no predicted samples. Use `zero_division` parameter to control this behavior.\n",
            "  _warn_prf(average, modifier, msg_start, len(result))\n"
          ]
        }
      ]
    },
    {
      "cell_type": "code",
      "source": [
        "nn_scores"
      ],
      "metadata": {
        "colab": {
          "base_uri": "https://localhost:8080/",
          "height": 81
        },
        "id": "d439NTrzAPhC",
        "outputId": "d64bcf7a-237b-4ae2-9027-30adbdf6f368"
      },
      "execution_count": 69,
      "outputs": [
        {
          "output_type": "execute_result",
          "data": {
            "text/plain": [
              "                 Recall  Precision        F1  Accuracy\n",
              "NeuralNetwork  0.924576   0.914596  0.917571  0.924576"
            ],
            "text/html": [
              "\n",
              "  <div id=\"df-cd92f409-8bd5-4f53-9161-d2ddb455f46a\">\n",
              "    <div class=\"colab-df-container\">\n",
              "      <div>\n",
              "<style scoped>\n",
              "    .dataframe tbody tr th:only-of-type {\n",
              "        vertical-align: middle;\n",
              "    }\n",
              "\n",
              "    .dataframe tbody tr th {\n",
              "        vertical-align: top;\n",
              "    }\n",
              "\n",
              "    .dataframe thead th {\n",
              "        text-align: right;\n",
              "    }\n",
              "</style>\n",
              "<table border=\"1\" class=\"dataframe\">\n",
              "  <thead>\n",
              "    <tr style=\"text-align: right;\">\n",
              "      <th></th>\n",
              "      <th>Recall</th>\n",
              "      <th>Precision</th>\n",
              "      <th>F1</th>\n",
              "      <th>Accuracy</th>\n",
              "    </tr>\n",
              "  </thead>\n",
              "  <tbody>\n",
              "    <tr>\n",
              "      <th>NeuralNetwork</th>\n",
              "      <td>0.924576</td>\n",
              "      <td>0.914596</td>\n",
              "      <td>0.917571</td>\n",
              "      <td>0.924576</td>\n",
              "    </tr>\n",
              "  </tbody>\n",
              "</table>\n",
              "</div>\n",
              "      <button class=\"colab-df-convert\" onclick=\"convertToInteractive('df-cd92f409-8bd5-4f53-9161-d2ddb455f46a')\"\n",
              "              title=\"Convert this dataframe to an interactive table.\"\n",
              "              style=\"display:none;\">\n",
              "        \n",
              "  <svg xmlns=\"http://www.w3.org/2000/svg\" height=\"24px\"viewBox=\"0 0 24 24\"\n",
              "       width=\"24px\">\n",
              "    <path d=\"M0 0h24v24H0V0z\" fill=\"none\"/>\n",
              "    <path d=\"M18.56 5.44l.94 2.06.94-2.06 2.06-.94-2.06-.94-.94-2.06-.94 2.06-2.06.94zm-11 1L8.5 8.5l.94-2.06 2.06-.94-2.06-.94L8.5 2.5l-.94 2.06-2.06.94zm10 10l.94 2.06.94-2.06 2.06-.94-2.06-.94-.94-2.06-.94 2.06-2.06.94z\"/><path d=\"M17.41 7.96l-1.37-1.37c-.4-.4-.92-.59-1.43-.59-.52 0-1.04.2-1.43.59L10.3 9.45l-7.72 7.72c-.78.78-.78 2.05 0 2.83L4 21.41c.39.39.9.59 1.41.59.51 0 1.02-.2 1.41-.59l7.78-7.78 2.81-2.81c.8-.78.8-2.07 0-2.86zM5.41 20L4 18.59l7.72-7.72 1.47 1.35L5.41 20z\"/>\n",
              "  </svg>\n",
              "      </button>\n",
              "      \n",
              "  <style>\n",
              "    .colab-df-container {\n",
              "      display:flex;\n",
              "      flex-wrap:wrap;\n",
              "      gap: 12px;\n",
              "    }\n",
              "\n",
              "    .colab-df-convert {\n",
              "      background-color: #E8F0FE;\n",
              "      border: none;\n",
              "      border-radius: 50%;\n",
              "      cursor: pointer;\n",
              "      display: none;\n",
              "      fill: #1967D2;\n",
              "      height: 32px;\n",
              "      padding: 0 0 0 0;\n",
              "      width: 32px;\n",
              "    }\n",
              "\n",
              "    .colab-df-convert:hover {\n",
              "      background-color: #E2EBFA;\n",
              "      box-shadow: 0px 1px 2px rgba(60, 64, 67, 0.3), 0px 1px 3px 1px rgba(60, 64, 67, 0.15);\n",
              "      fill: #174EA6;\n",
              "    }\n",
              "\n",
              "    [theme=dark] .colab-df-convert {\n",
              "      background-color: #3B4455;\n",
              "      fill: #D2E3FC;\n",
              "    }\n",
              "\n",
              "    [theme=dark] .colab-df-convert:hover {\n",
              "      background-color: #434B5C;\n",
              "      box-shadow: 0px 1px 3px 1px rgba(0, 0, 0, 0.15);\n",
              "      filter: drop-shadow(0px 1px 2px rgba(0, 0, 0, 0.3));\n",
              "      fill: #FFFFFF;\n",
              "    }\n",
              "  </style>\n",
              "\n",
              "      <script>\n",
              "        const buttonEl =\n",
              "          document.querySelector('#df-cd92f409-8bd5-4f53-9161-d2ddb455f46a button.colab-df-convert');\n",
              "        buttonEl.style.display =\n",
              "          google.colab.kernel.accessAllowed ? 'block' : 'none';\n",
              "\n",
              "        async function convertToInteractive(key) {\n",
              "          const element = document.querySelector('#df-cd92f409-8bd5-4f53-9161-d2ddb455f46a');\n",
              "          const dataTable =\n",
              "            await google.colab.kernel.invokeFunction('convertToInteractive',\n",
              "                                                     [key], {});\n",
              "          if (!dataTable) return;\n",
              "\n",
              "          const docLinkHtml = 'Like what you see? Visit the ' +\n",
              "            '<a target=\"_blank\" href=https://colab.research.google.com/notebooks/data_table.ipynb>data table notebook</a>'\n",
              "            + ' to learn more about interactive tables.';\n",
              "          element.innerHTML = '';\n",
              "          dataTable['output_type'] = 'display_data';\n",
              "          await google.colab.output.renderOutput(dataTable, element);\n",
              "          const docLink = document.createElement('div');\n",
              "          docLink.innerHTML = docLinkHtml;\n",
              "          element.appendChild(docLink);\n",
              "        }\n",
              "      </script>\n",
              "    </div>\n",
              "  </div>\n",
              "  "
            ]
          },
          "metadata": {},
          "execution_count": 69
        }
      ]
    }
  ]
}